{
 "cells": [
  {
   "cell_type": "code",
   "execution_count": 1,
   "id": "8a33dc9a",
   "metadata": {},
   "outputs": [
    {
     "name": "stderr",
     "output_type": "stream",
     "text": [
      "2023-11-23 14:06:45.981846: E external/local_xla/xla/stream_executor/cuda/cuda_dnn.cc:9261] Unable to register cuDNN factory: Attempting to register factory for plugin cuDNN when one has already been registered\n",
      "2023-11-23 14:06:45.981904: E external/local_xla/xla/stream_executor/cuda/cuda_fft.cc:607] Unable to register cuFFT factory: Attempting to register factory for plugin cuFFT when one has already been registered\n",
      "2023-11-23 14:06:45.982698: E external/local_xla/xla/stream_executor/cuda/cuda_blas.cc:1515] Unable to register cuBLAS factory: Attempting to register factory for plugin cuBLAS when one has already been registered\n",
      "2023-11-23 14:06:45.989315: I tensorflow/core/platform/cpu_feature_guard.cc:182] This TensorFlow binary is optimized to use available CPU instructions in performance-critical operations.\n",
      "To enable the following instructions: AVX2 FMA, in other operations, rebuild TensorFlow with the appropriate compiler flags.\n",
      "2023-11-23 14:06:46.859665: W tensorflow/compiler/tf2tensorrt/utils/py_utils.cc:38] TF-TRT Warning: Could not find TensorRT\n"
     ]
    },
    {
     "name": "stdout",
     "output_type": "stream",
     "text": [
      "2.15.0\n",
      "1.26.1\n"
     ]
    }
   ],
   "source": [
    "import tensorflow as tf\n",
    "import numpy as np\n",
    "\n",
    "print(tf.__version__)\n",
    "print(np.__version__)"
   ]
  },
  {
   "cell_type": "markdown",
   "id": "43cd80f0",
   "metadata": {},
   "source": [
    "### 이미지 만들기\n",
    "티처블머신(https://teachablemachine.withgoogle.com/)\n",
    "- 웹캠으로 이미지를 만들어서 클래스별로 저장(예. scissor.zip, paper.zip, rock.zip)\n",
    "- 클라우드에 업로드 한 후 압축을 푼다.(aiffel/scissor_rock_paper/scisscor, ...)\n"
   ]
  },
  {
   "cell_type": "code",
   "execution_count": 2,
   "id": "d79dbafc",
   "metadata": {},
   "outputs": [
    {
     "name": "stdout",
     "output_type": "stream",
     "text": [
      "PIL 라이브러리 import 완료!\n"
     ]
    }
   ],
   "source": [
    "from PIL import Image\n",
    "import glob\n",
    "import os\n",
    "\n",
    "print(\"PIL 라이브러리 import 완료!\")"
   ]
  },
  {
   "cell_type": "markdown",
   "id": "4f0174d9",
   "metadata": {},
   "source": [
    "### 학습 데이터 만들기\n",
    "- 각자 생성한 가위바위보 이미지를 모아서 훈련\n",
    "- 사람별로 정해진 폴더 아래의 paper, scissor, rock에 가위, 바위, 보 이미지를 넣음\n",
    "\n",
    "#### 이미지 리사이즈\n",
    "- start_dir_list에 이미지 폴더 리스트를 지정하면 그 폴더들의 하위 폴더를 순회하면서 이미지를 리사이즈함.\n"
   ]
  },
  {
   "cell_type": "code",
   "execution_count": 3,
   "id": "3ac1c986",
   "metadata": {
    "scrolled": true
   },
   "outputs": [
    {
     "name": "stdout",
     "output_type": "stream",
     "text": [
      "/home/centillion/aiffel/rock_scissor_paper\n",
      "/home/centillion/aiffel/rock_scissor_paper_hh_je/test\n",
      "/home/centillion/aiffel/rock_scissor_paper_org/test\n",
      "이미지 resize 완료!\n"
     ]
    }
   ],
   "source": [
    "def resize_images(img_path):\n",
    "    images=glob.glob(img_path + \"/*.jpg\")  \n",
    "    \n",
    "    #rint(len(images), \" images to be resized.\")\n",
    "    #print(type(images[0])) #.shape)\n",
    "    # 파일마다 모두 28x28 사이즈로 바꾸어 저장합니다.\n",
    "    target_size=(28,28)\n",
    "    for img in images:\n",
    "        old_img=Image.open(img)\n",
    "        new_img=old_img.resize(target_size,Image.ANTIALIAS)\n",
    "        new_img.save(img, \"JPEG\")\n",
    "    \n",
    "    print(len(images), \" images resized.\")\n",
    "    \n",
    "start_dir_list = [\"~/aiffel/rock_scissor_paper\", \n",
    "                  \"~/aiffel/rock_scissor_paper_hh_je/test\",\n",
    "                 \"~/aiffel/rock_scissor_paper_org/test\"\n",
    "]\n",
    "\n",
    "for start_dir in start_dir_list:\n",
    "    start_dir = os.path.expanduser(start_dir)\n",
    "    print(start_dir)\n",
    "    for subdir, _, _ in os.walk(start_dir):\n",
    "        image_dir_path =  os.path.abspath(subdir)\n",
    "        print(image_dir_path)\n",
    "        resize_images(image_dir_path)\n",
    "\n",
    "print(\"이미지 resize 완료!\")"
   ]
  },
  {
   "cell_type": "markdown",
   "id": "1fae7438",
   "metadata": {},
   "source": [
    "### 데이터 로드\n",
    "- 가위: 0, 바위: 1, 보:2로 라벨링 됨.\n",
    "- image_path_list에 사용할 이미지 폴더를 여러개 지정하면 그 폴더들 아래의 이미지를 가져와서 라벨링함.\n",
    "- 이미지를 생성한 사람별로 사용 여부를 결정하기 위해서 이렇게 만들었다.(사진을 어떻게 찍었느냐에 따라 이미지 퀄리티 차이가 많이 남)"
   ]
  },
  {
   "cell_type": "code",
   "execution_count": 4,
   "id": "b923e762",
   "metadata": {},
   "outputs": [
    {
     "name": "stdout",
     "output_type": "stream",
     "text": [
      "/home/centillion/aiffel/rock_scissor_paper_hh_je\n",
      "데이터의 이미지 개수는 0 입니다.\n",
      "/home/centillion/aiffel/rock_scissor_paper_hh_je/test\n",
      "데이터의 이미지 개수는 0 입니다.\n",
      "x_data shape: (0, 28, 28, 3)\n",
      "y_data shape: (0, 1)\n"
     ]
    }
   ],
   "source": [
    "import numpy as np\n",
    "import os\n",
    "\n",
    "def load_data(img_path, max_number_of_data=10000):  # 가위바위보 이미지 개수 총합에 주의하세요.\n",
    "    # 가위 : 0, 바위 : 1, 보 : 2\n",
    "    img_size=28\n",
    "    color=3\n",
    "    #이미지 데이터와 라벨(가위 : 0, 바위 : 1, 보 : 2) 데이터를 담을 행렬(matrix) 영역을 생성합니다.\n",
    "    imgs=np.zeros(max_number_of_data*img_size*img_size*color,dtype=np.int32).reshape(max_number_of_data,img_size,img_size,color)\n",
    "    labels=np.zeros(max_number_of_data,dtype=np.int32)\n",
    "\n",
    "    idx=0\n",
    "    for file in glob.iglob(img_path + '/scissor/*.jpg'):\n",
    "        img = np.array(Image.open(file),dtype=np.int32)\n",
    "        imgs[idx,:,:,:]=img    # 데이터 영역에 이미지 행렬을 복사\n",
    "        labels[idx]=0   # 가위 : 0\n",
    "        idx=idx+1\n",
    "\n",
    "    for file in glob.iglob(img_path+'/rock/*.jpg'):\n",
    "        img = np.array(Image.open(file),dtype=np.int32)\n",
    "        imgs[idx,:,:,:]=img    # 데이터 영역에 이미지 행렬을 복사\n",
    "        labels[idx]=1   # 바위 : 1\n",
    "        idx=idx+1  \n",
    "    \n",
    "    for file in glob.iglob(img_path+'/paper/*.jpg'):\n",
    "        img = np.array(Image.open(file),dtype=np.int32)\n",
    "        imgs[idx,:,:,:]=img    # 데이터 영역에 이미지 행렬을 복사\n",
    "        labels[idx]=2   # 보 : 2\n",
    "        idx=idx+1\n",
    "        \n",
    "    print(\"데이터의 이미지 개수는\", idx,\"입니다.\")\n",
    "    imgs = imgs[:idx]\n",
    "    labels = labels[:idx]\n",
    "\n",
    "    return imgs, labels\n",
    "\n",
    "image_path_list = [\"~/aiffel/rock_scissor_paper_hh_je\",\n",
    "                   \"~/aiffel/rock_scissor_paper_hh_je/test\"]\n",
    "#                   \"~/aiffel/rock_scissor_paper_org/train/yeon\",\n",
    "#                   \"~/aiffel/rock_scissor_paper_org/train/yeongjin\",\n",
    "#                   \"~/aiffel/rock_scissor_paper_org/train/3\",\n",
    "#                   \"~/aiffel/rock_scissor_paper_org/test\"]\n",
    "x_data_list = []\n",
    "y_data_list = []\n",
    "\n",
    "for image_path in image_path_list:\n",
    "    image_path = os.path.expanduser(image_path)\n",
    "    print(image_path)\n",
    "    (x_data, y_data)=load_data(image_path)\n",
    "    x_data_list.append(x_data)\n",
    "    y_data_list.append(y_data.reshape(-1, 1))\n",
    "\n",
    "x_data = np.vstack(x_data_list)\n",
    "y_data = np.vstack(y_data_list)\n",
    "\n",
    "x_data = x_data/255.0   # 입력은 0~1 사이의 값으로 정규화\n",
    "\n",
    "print(\"x_data shape: {}\".format(x_data.shape))\n",
    "print(\"y_data shape: {}\".format(y_data.shape))"
   ]
  },
  {
   "cell_type": "code",
   "execution_count": 5,
   "id": "9d9237d1",
   "metadata": {},
   "outputs": [
    {
     "name": "stdout",
     "output_type": "stream",
     "text": [
      "(0, 28, 28, 3)\n",
      "(0, 1)\n"
     ]
    }
   ],
   "source": [
    "print(x_data.shape)\n",
    "print(y_data.shape)"
   ]
  },
  {
   "cell_type": "markdown",
   "id": "46a68f02",
   "metadata": {},
   "source": [
    "### 모델 정의\n",
    "- LeNet의 정의을 그대로 따랐다.\n",
    "- 가장 큰 차이는 convolution layer를 하나 더 넣었다는 것이다."
   ]
  },
  {
   "cell_type": "code",
   "execution_count": 6,
   "id": "062eaf6a",
   "metadata": {
    "scrolled": true
   },
   "outputs": [
    {
     "name": "stderr",
     "output_type": "stream",
     "text": [
      "2023-11-23 14:06:48.309895: I external/local_xla/xla/stream_executor/cuda/cuda_executor.cc:887] could not open file to read NUMA node: /sys/bus/pci/devices/0000:0a:00.0/numa_node\n",
      "Your kernel may have been built without NUMA support.\n",
      "2023-11-23 14:06:48.310002: I external/local_xla/xla/stream_executor/cuda/cuda_executor.cc:887] could not open file to read NUMA node: /sys/bus/pci/devices/0000:0b:00.0/numa_node\n",
      "Your kernel may have been built without NUMA support.\n",
      "2023-11-23 14:06:48.345475: I external/local_xla/xla/stream_executor/cuda/cuda_executor.cc:887] could not open file to read NUMA node: /sys/bus/pci/devices/0000:0a:00.0/numa_node\n",
      "Your kernel may have been built without NUMA support.\n",
      "2023-11-23 14:06:48.345551: I external/local_xla/xla/stream_executor/cuda/cuda_executor.cc:887] could not open file to read NUMA node: /sys/bus/pci/devices/0000:0b:00.0/numa_node\n",
      "Your kernel may have been built without NUMA support.\n",
      "2023-11-23 14:06:48.345591: I external/local_xla/xla/stream_executor/cuda/cuda_executor.cc:887] could not open file to read NUMA node: /sys/bus/pci/devices/0000:0a:00.0/numa_node\n",
      "Your kernel may have been built without NUMA support.\n",
      "2023-11-23 14:06:48.345634: I external/local_xla/xla/stream_executor/cuda/cuda_executor.cc:887] could not open file to read NUMA node: /sys/bus/pci/devices/0000:0b:00.0/numa_node\n",
      "Your kernel may have been built without NUMA support.\n",
      "2023-11-23 14:06:48.761209: I external/local_xla/xla/stream_executor/cuda/cuda_executor.cc:887] could not open file to read NUMA node: /sys/bus/pci/devices/0000:0a:00.0/numa_node\n",
      "Your kernel may have been built without NUMA support.\n"
     ]
    },
    {
     "name": "stdout",
     "output_type": "stream",
     "text": [
      "Model: \"sequential\"\n",
      "_________________________________________________________________\n",
      " Layer (type)                Output Shape              Param #   \n",
      "=================================================================\n",
      " conv2d (Conv2D)             (None, 26, 26, 16)        448       \n",
      "                                                                 \n",
      " max_pooling2d (MaxPooling2  (None, 13, 13, 16)        0         \n",
      " D)                                                              \n",
      "                                                                 \n",
      " conv2d_1 (Conv2D)           (None, 11, 11, 32)        4640      \n",
      "                                                                 \n",
      " max_pooling2d_1 (MaxPoolin  (None, 5, 5, 32)          0         \n",
      " g2D)                                                            \n",
      "                                                                 \n",
      " conv2d_2 (Conv2D)           (None, 3, 3, 64)          18496     \n",
      "                                                                 \n",
      " max_pooling2d_2 (MaxPoolin  (None, 1, 1, 64)          0         \n",
      " g2D)                                                            \n",
      "                                                                 \n",
      " flatten (Flatten)           (None, 64)                0         \n",
      "                                                                 \n",
      " dense (Dense)               (None, 128)               8320      \n",
      "                                                                 \n",
      " dense_1 (Dense)             (None, 64)                8256      \n",
      "                                                                 \n",
      " dense_2 (Dense)             (None, 3)                 195       \n",
      "                                                                 \n",
      "=================================================================\n",
      "Total params: 40355 (157.64 KB)\n",
      "Trainable params: 40355 (157.64 KB)\n",
      "Non-trainable params: 0 (0.00 Byte)\n",
      "_________________________________________________________________\n"
     ]
    },
    {
     "name": "stderr",
     "output_type": "stream",
     "text": [
      "2023-11-23 14:06:48.761317: I external/local_xla/xla/stream_executor/cuda/cuda_executor.cc:887] could not open file to read NUMA node: /sys/bus/pci/devices/0000:0b:00.0/numa_node\n",
      "Your kernel may have been built without NUMA support.\n",
      "2023-11-23 14:06:48.761366: I external/local_xla/xla/stream_executor/cuda/cuda_executor.cc:887] could not open file to read NUMA node: /sys/bus/pci/devices/0000:0a:00.0/numa_node\n",
      "Your kernel may have been built without NUMA support.\n",
      "2023-11-23 14:06:48.761404: I external/local_xla/xla/stream_executor/cuda/cuda_executor.cc:887] could not open file to read NUMA node: /sys/bus/pci/devices/0000:0b:00.0/numa_node\n",
      "Your kernel may have been built without NUMA support.\n",
      "2023-11-23 14:06:48.761440: I external/local_xla/xla/stream_executor/cuda/cuda_executor.cc:887] could not open file to read NUMA node: /sys/bus/pci/devices/0000:0a:00.0/numa_node\n",
      "Your kernel may have been built without NUMA support.\n",
      "2023-11-23 14:06:48.761476: I external/local_xla/xla/stream_executor/cuda/cuda_executor.cc:887] could not open file to read NUMA node: /sys/bus/pci/devices/0000:0b:00.0/numa_node\n",
      "Your kernel may have been built without NUMA support.\n",
      "2023-11-23 14:06:48.771061: I external/local_xla/xla/stream_executor/cuda/cuda_executor.cc:887] could not open file to read NUMA node: /sys/bus/pci/devices/0000:0a:00.0/numa_node\n",
      "Your kernel may have been built without NUMA support.\n",
      "2023-11-23 14:06:48.771147: I external/local_xla/xla/stream_executor/cuda/cuda_executor.cc:887] could not open file to read NUMA node: /sys/bus/pci/devices/0000:0b:00.0/numa_node\n",
      "Your kernel may have been built without NUMA support.\n",
      "2023-11-23 14:06:48.771197: I external/local_xla/xla/stream_executor/cuda/cuda_executor.cc:887] could not open file to read NUMA node: /sys/bus/pci/devices/0000:0a:00.0/numa_node\n",
      "Your kernel may have been built without NUMA support.\n",
      "2023-11-23 14:06:48.771208: I tensorflow/core/common_runtime/gpu/gpu_device.cc:2022] Could not identify NUMA node of platform GPU id 0, defaulting to 0.  Your kernel may not have been built with NUMA support.\n",
      "2023-11-23 14:06:48.771251: I external/local_xla/xla/stream_executor/cuda/cuda_executor.cc:887] could not open file to read NUMA node: /sys/bus/pci/devices/0000:0b:00.0/numa_node\n",
      "Your kernel may have been built without NUMA support.\n",
      "2023-11-23 14:06:48.771258: I tensorflow/core/common_runtime/gpu/gpu_device.cc:2022] Could not identify NUMA node of platform GPU id 1, defaulting to 0.  Your kernel may not have been built with NUMA support.\n",
      "2023-11-23 14:06:48.771313: I external/local_xla/xla/stream_executor/cuda/cuda_executor.cc:887] could not open file to read NUMA node: /sys/bus/pci/devices/0000:0a:00.0/numa_node\n",
      "Your kernel may have been built without NUMA support.\n",
      "2023-11-23 14:06:48.771333: I tensorflow/core/common_runtime/gpu/gpu_device.cc:1929] Created device /job:localhost/replica:0/task:0/device:GPU:0 with 9071 MB memory:  -> device: 0, name: NVIDIA GeForce RTX 2080 Ti, pci bus id: 0000:0a:00.0, compute capability: 7.5\n",
      "2023-11-23 14:06:48.771690: I external/local_xla/xla/stream_executor/cuda/cuda_executor.cc:887] could not open file to read NUMA node: /sys/bus/pci/devices/0000:0b:00.0/numa_node\n",
      "Your kernel may have been built without NUMA support.\n",
      "2023-11-23 14:06:48.771712: I tensorflow/core/common_runtime/gpu/gpu_device.cc:1929] Created device /job:localhost/replica:0/task:0/device:GPU:1 with 9071 MB memory:  -> device: 1, name: NVIDIA GeForce RTX 2080 Ti, pci bus id: 0000:0b:00.0, compute capability: 7.5\n"
     ]
    }
   ],
   "source": [
    "import tensorflow as tf\n",
    "from tensorflow import keras\n",
    "from tensorflow.keras import regularizers\n",
    "\n",
    "import numpy as np\n",
    "\n",
    "# model을 직접 만들어 보세요.\n",
    "# Hint! model의 입력/출력부에 특히 유의해 주세요. 가위바위보 데이터셋은 MNIST 데이터셋과 어떤 점이 달라졌나요?\n",
    "n_channel_1=16\n",
    "n_channel_2=32\n",
    "n_channel_3=64\n",
    "n_dense_1= 128\n",
    "n_dense_2 = 64\n",
    "n_train_epoch=20\n",
    "\n",
    "model=keras.models.Sequential()\n",
    "model.add(keras.layers.Conv2D(n_channel_1, (3,3), \\\n",
    "                              activation='relu', \\\n",
    "                              input_shape=(28,28,3)))\n",
    "model.add(keras.layers.MaxPool2D(2,2))\n",
    "model.add(keras.layers.Conv2D(n_channel_2, (3,3), activation='relu'))\n",
    "model.add(keras.layers.MaxPooling2D((2,2)))\n",
    "model.add(keras.layers.Conv2D(n_channel_3, (3,3), activation='relu'))\n",
    "model.add(keras.layers.MaxPooling2D((2,2)))\n",
    "#model.add(keras.layers.Conv2D(n_channel_3, (3,3), activation='relu'))\n",
    "#model.add(keras.layers.MaxPooling2D((2,2)))\n",
    "\n",
    "model.add(keras.layers.Flatten())\n",
    "model.add(keras.layers.Dense(n_dense_1, activation='relu'))\n",
    "#model.add(keras.layers.BatchNormalization())  # Batch Normalization\n",
    "model.add(keras.layers.Dense(n_dense_2, activation='relu'))\n",
    "#model.add(keras.layers.Dropout(0.5))\n",
    "model.add(keras.layers.Dense(3, activation='softmax'))\n",
    "\n",
    "model.summary()\n"
   ]
  },
  {
   "cell_type": "markdown",
   "id": "cb6928ef",
   "metadata": {},
   "source": [
    "### 학습 실행"
   ]
  },
  {
   "cell_type": "code",
   "execution_count": 7,
   "id": "fc9be2d5",
   "metadata": {
    "scrolled": false
   },
   "outputs": [
    {
     "name": "stdout",
     "output_type": "stream",
     "text": [
      "Training data shape: (0, 28, 28, 3)\n",
      "Evaluation data shape: (0, 28, 28, 3)\n"
     ]
    },
    {
     "ename": "ValueError",
     "evalue": "Expected input data to be non-empty.",
     "output_type": "error",
     "traceback": [
      "\u001b[0;31m---------------------------------------------------------------------------\u001b[0m",
      "\u001b[0;31mValueError\u001b[0m                                Traceback (most recent call last)",
      "\u001b[1;32m/home/centillion/aiffel/AIFFEL_Quest/ML_Quest/MainQuest03/3. 인공지능과 가위바위보 프로젝트.ipynb Cell 12\u001b[0m line \u001b[0;36m2\n\u001b[1;32m     <a href='vscode-notebook-cell://wsl%2Bubuntu-22.04/home/centillion/aiffel/AIFFEL_Quest/ML_Quest/MainQuest03/3.%20%EC%9D%B8%EA%B3%B5%EC%A7%80%EB%8A%A5%EA%B3%BC%20%EA%B0%80%EC%9C%84%EB%B0%94%EC%9C%84%EB%B3%B4%20%ED%94%84%EB%A1%9C%EC%A0%9D%ED%8A%B8.ipynb#X14sdnNjb2RlLXJlbW90ZQ%3D%3D?line=22'>23</a>\u001b[0m \u001b[39mprint\u001b[39m(\u001b[39mf\u001b[39m\u001b[39m\"\u001b[39m\u001b[39mEvaluation data shape: \u001b[39m\u001b[39m{\u001b[39;00mx_eval\u001b[39m.\u001b[39mshape\u001b[39m}\u001b[39;00m\u001b[39m\"\u001b[39m)\n\u001b[1;32m     <a href='vscode-notebook-cell://wsl%2Bubuntu-22.04/home/centillion/aiffel/AIFFEL_Quest/ML_Quest/MainQuest03/3.%20%EC%9D%B8%EA%B3%B5%EC%A7%80%EB%8A%A5%EA%B3%BC%20%EA%B0%80%EC%9C%84%EB%B0%94%EC%9C%84%EB%B3%B4%20%ED%94%84%EB%A1%9C%EC%A0%9D%ED%8A%B8.ipynb#X14sdnNjb2RlLXJlbW90ZQ%3D%3D?line=24'>25</a>\u001b[0m \u001b[39m# 3. 훈련 및 평가\u001b[39;00m\n\u001b[0;32m---> <a href='vscode-notebook-cell://wsl%2Bubuntu-22.04/home/centillion/aiffel/AIFFEL_Quest/ML_Quest/MainQuest03/3.%20%EC%9D%B8%EA%B3%B5%EC%A7%80%EB%8A%A5%EA%B3%BC%20%EA%B0%80%EC%9C%84%EB%B0%94%EC%9C%84%EB%B3%B4%20%ED%94%84%EB%A1%9C%EC%A0%9D%ED%8A%B8.ipynb#X14sdnNjb2RlLXJlbW90ZQ%3D%3D?line=25'>26</a>\u001b[0m history \u001b[39m=\u001b[39m model\u001b[39m.\u001b[39;49mfit(x_train, y_train, epochs\u001b[39m=\u001b[39;49mn_train_epoch, batch_size\u001b[39m=\u001b[39;49m\u001b[39m32\u001b[39;49m, validation_data\u001b[39m=\u001b[39;49m(x_eval, y_eval))\n",
      "File \u001b[0;32m~/.local/lib/python3.10/site-packages/keras/src/utils/traceback_utils.py:70\u001b[0m, in \u001b[0;36mfilter_traceback.<locals>.error_handler\u001b[0;34m(*args, **kwargs)\u001b[0m\n\u001b[1;32m     67\u001b[0m     filtered_tb \u001b[39m=\u001b[39m _process_traceback_frames(e\u001b[39m.\u001b[39m__traceback__)\n\u001b[1;32m     68\u001b[0m     \u001b[39m# To get the full stack trace, call:\u001b[39;00m\n\u001b[1;32m     69\u001b[0m     \u001b[39m# `tf.debugging.disable_traceback_filtering()`\u001b[39;00m\n\u001b[0;32m---> 70\u001b[0m     \u001b[39mraise\u001b[39;00m e\u001b[39m.\u001b[39mwith_traceback(filtered_tb) \u001b[39mfrom\u001b[39;00m \u001b[39mNone\u001b[39;00m\n\u001b[1;32m     71\u001b[0m \u001b[39mfinally\u001b[39;00m:\n\u001b[1;32m     72\u001b[0m     \u001b[39mdel\u001b[39;00m filtered_tb\n",
      "File \u001b[0;32m~/.local/lib/python3.10/site-packages/keras/src/engine/data_adapter.py:1319\u001b[0m, in \u001b[0;36mDataHandler.__init__\u001b[0;34m(self, x, y, sample_weight, batch_size, steps_per_epoch, initial_epoch, epochs, shuffle, class_weight, max_queue_size, workers, use_multiprocessing, model, steps_per_execution, distribute, pss_evaluation_shards)\u001b[0m\n\u001b[1;32m   1314\u001b[0m \u001b[39mself\u001b[39m\u001b[39m.\u001b[39m_configure_dataset_and_inferred_steps(\n\u001b[1;32m   1315\u001b[0m     strategy, x, steps_per_epoch, class_weight, distribute\n\u001b[1;32m   1316\u001b[0m )\n\u001b[1;32m   1318\u001b[0m \u001b[39mif\u001b[39;00m \u001b[39mself\u001b[39m\u001b[39m.\u001b[39m_inferred_steps \u001b[39m==\u001b[39m \u001b[39m0\u001b[39m:\n\u001b[0;32m-> 1319\u001b[0m     \u001b[39mraise\u001b[39;00m \u001b[39mValueError\u001b[39;00m(\u001b[39m\"\u001b[39m\u001b[39mExpected input data to be non-empty.\u001b[39m\u001b[39m\"\u001b[39m)\n",
      "\u001b[0;31mValueError\u001b[0m: Expected input data to be non-empty."
     ]
    }
   ],
   "source": [
    "# model을 학습시키는 코드를 직접 작성해 보세요.\n",
    "# Hint! model.compile()과 model.fit()을 사용해 봅시다.\n",
    "model.compile(optimizer='adam',\n",
    "             loss='sparse_categorical_crossentropy',\n",
    "             metrics=['accuracy'])\n",
    "\n",
    "# 훈련 데이터의 비율\n",
    "train_ratio = 0.8\n",
    "train_size = int(x_data.shape[0] * train_ratio)\n",
    "\n",
    "\n",
    "# 임의의 인덱스 선택\n",
    "train_indices = np.random.choice(x_data.shape[0], train_size, replace=False)\n",
    "eval_indices = np.setdiff1d(np.arange(x_data.shape[0]), train_indices)\n",
    "\n",
    "# 데이터 분할\n",
    "x_train = x_data[train_indices]\n",
    "y_train = y_data[train_indices]\n",
    "x_eval = x_data[eval_indices]\n",
    "y_eval = y_data[eval_indices]\n",
    "\n",
    "print(f\"Training data shape: {x_train.shape}\")\n",
    "print(f\"Evaluation data shape: {x_eval.shape}\")\n",
    "\n",
    "# 3. 훈련 및 평가\n",
    "history = model.fit(x_train, y_train, epochs=n_train_epoch, batch_size=32, validation_data=(x_eval, y_eval))\n",
    "\n"
   ]
  },
  {
   "cell_type": "markdown",
   "id": "66b6f04a",
   "metadata": {},
   "source": [
    "### 학습 결과(accuracy, loss) 그래프"
   ]
  },
  {
   "cell_type": "code",
   "execution_count": null,
   "id": "e7d126ae",
   "metadata": {},
   "outputs": [
    {
     "data": {
      "image/png": "[encoded data removed]",
      "text/plain": [
       "<Figure size 864x288 with 2 Axes>"
      ]
     },
     "metadata": {
      "needs_background": "light"
     },
     "output_type": "display_data"
    }
   ],
   "source": [
    "# 4. 결과를 그래프로 표시\n",
    "import matplotlib.pyplot as plt\n",
    "\n",
    "plt.figure(figsize=(12, 4))\n",
    "\n",
    "plt.subplot(1, 2, 1)\n",
    "plt.plot(history.history['accuracy'], label='Train Accuracy')\n",
    "plt.plot(history.history['val_accuracy'], label='Validation Accuracy')\n",
    "plt.legend()\n",
    "plt.title('Accuracy over epochs')\n",
    "\n",
    "plt.subplot(1, 2, 2)\n",
    "plt.plot(history.history['loss'], label='Train Loss')\n",
    "plt.plot(history.history['val_loss'], label='Validation Loss')\n",
    "plt.legend()\n",
    "plt.title('Loss over epochs')\n",
    "\n",
    "plt.tight_layout()\n",
    "plt.show()"
   ]
  },
  {
   "cell_type": "markdown",
   "id": "ae947776",
   "metadata": {},
   "source": [
    "### 테스트 데이터 불러 오기\n",
    "- 테스트 데이터는 우리 아이의 가위 바위 보 이미지를 사용했다.\n",
    "- 정면에서만 예쁘게 찍은 이미지를 사용했다.(정확도를 높이기 위해서)\n",
    "- 다른 테스트 데이터로는 60%를 넘기기 힘들었다."
   ]
  },
  {
   "cell_type": "code",
   "execution_count": null,
   "id": "5af7ed04",
   "metadata": {},
   "outputs": [
    {
     "name": "stdout",
     "output_type": "stream",
     "text": [
      "117  images resized.\n",
      "122  images resized.\n",
      "111  images resized.\n",
      "/aiffel/aiffel/rock_scissor_paper/test/yeonji/paper\n",
      "/aiffel/aiffel/rock_scissor_paper/test/yeonji\n",
      "데이터의 이미지 개수는 350 입니다.\n"
     ]
    },
    {
     "data": {
      "image/png": "[encoded data removed]",
      "text/plain": [
       "<Figure size 432x288 with 1 Axes>"
      ]
     },
     "metadata": {
      "needs_background": "light"
     },
     "output_type": "display_data"
    },
    {
     "name": "stdout",
     "output_type": "stream",
     "text": [
      "(350, 28, 28, 3)\n",
      "(350,)\n"
     ]
    }
   ],
   "source": [
    "import matplotlib.pyplot as plt\n",
    "\n",
    "#test_image_path = \"/aiffel/rock_scissor_paper_hh_je/test\"\n",
    "#test_image_path = \"/aiffel/rock_scissor_paper_org/test/test\"\n",
    "#test_image_path = \"/aiffel/rock_scissor_paper_org/train/3\"\n",
    "test_image_path = \"/aiffel/rock_scissor_paper/test/yeonji\"\n",
    "\n",
    "\n",
    "# 바위 이미지가 저장된 디렉토리 아래의 모든 jpg 파일을 읽어들여서\n",
    "image_dir_path = os.getenv(\"HOME\") + test_image_path + \"/scissor\"\n",
    "resize_images(image_dir_path)\n",
    "image_dir_path = os.getenv(\"HOME\") + test_image_path + \"/rock\"\n",
    "resize_images(image_dir_path)\n",
    "image_dir_path = os.getenv(\"HOME\") + test_image_path + \"/paper\"\n",
    "resize_images(image_dir_path)\n",
    "print(image_dir_path)\n",
    "image_dir_path = os.getenv(\"HOME\") + test_image_path\n",
    "print(image_dir_path)\n",
    "(x_test, y_test)=load_data(image_dir_path)\n",
    "\n",
    "x_test_norm = x_test/255.0\n",
    "\n",
    "plt.imshow(x_test[10])\n",
    "plt.show()\n",
    "\n",
    "print(x_test_norm.shape)\n",
    "print(y_test.shape)"
   ]
  },
  {
   "cell_type": "markdown",
   "id": "aaf6479a",
   "metadata": {},
   "source": [
    "### 테스트 정확도 "
   ]
  },
  {
   "cell_type": "code",
   "execution_count": null,
   "id": "d74235bf",
   "metadata": {
    "scrolled": true
   },
   "outputs": [
    {
     "name": "stdout",
     "output_type": "stream",
     "text": [
      "11/11 - 0s - loss: 0.2550 - accuracy: 0.9086\n",
      "test_loss: 0.2550064027309418 \n",
      "test_accuracy: 0.9085714221000671\n"
     ]
    }
   ],
   "source": [
    "# model을 학습시키는 코드를 직접 작성해 보세요.\n",
    "# Hint! model.evaluate()을 사용해 봅시다.\n",
    "test_loss, test_accuracy = model.evaluate(x_test_norm, y_test, verbose=2)\n",
    "print(f\"test_loss: {test_loss} \")\n",
    "print(f\"test_accuracy: {test_accuracy}\")"
   ]
  },
  {
   "cell_type": "markdown",
   "id": "eb5e9dbc",
   "metadata": {},
   "source": [
    "### 테스트 추론 결과와 라벨 비교"
   ]
  },
  {
   "cell_type": "code",
   "execution_count": null,
   "id": "48488e80",
   "metadata": {},
   "outputs": [
    {
     "name": "stdout",
     "output_type": "stream",
     "text": [
      "model.predict() 결과 :  [9.9932480e-01 4.2875774e-09 6.7521579e-04]\n",
      "model이 추론한 가장 가능성이 높은 결과 :  0\n",
      "실제 데이터의 라벨 :  0\n"
     ]
    },
    {
     "data": {
      "image/png": "[encoded data removed]",
      "text/plain": [
       "<Figure size 432x288 with 1 Axes>"
      ]
     },
     "metadata": {
      "needs_background": "light"
     },
     "output_type": "display_data"
    },
    {
     "name": "stdout",
     "output_type": "stream",
     "text": [
      "model.predict() 결과 :  [3.3942281e-04 8.6337675e-09 9.9966061e-01]\n",
      "model이 추론한 가장 가능성이 높은 결과 :  2\n",
      "실제 데이터의 라벨 :  2\n"
     ]
    },
    {
     "data": {
      "image/png": "[encoded data removed]",
      "text/plain": [
       "<Figure size 432x288 with 1 Axes>"
      ]
     },
     "metadata": {
      "needs_background": "light"
     },
     "output_type": "display_data"
    },
    {
     "name": "stdout",
     "output_type": "stream",
     "text": [
      "model.predict() 결과 :  [2.6118485e-06 1.0831495e-06 9.9999630e-01]\n",
      "model이 추론한 가장 가능성이 높은 결과 :  2\n",
      "실제 데이터의 라벨 :  2\n"
     ]
    },
    {
     "data": {
      "image/png": "[encoded data removed]",
      "text/plain": [
       "<Figure size 432x288 with 1 Axes>"
      ]
     },
     "metadata": {
      "needs_background": "light"
     },
     "output_type": "display_data"
    },
    {
     "name": "stdout",
     "output_type": "stream",
     "text": [
      "model.predict() 결과 :  [1.1649564e-01 2.6257798e-08 8.8350439e-01]\n",
      "model이 추론한 가장 가능성이 높은 결과 :  2\n",
      "실제 데이터의 라벨 :  2\n"
     ]
    },
    {
     "data": {
      "image/png": "[encoded data removed]",
      "text/plain": [
       "<Figure size 432x288 with 1 Axes>"
      ]
     },
     "metadata": {
      "needs_background": "light"
     },
     "output_type": "display_data"
    },
    {
     "name": "stdout",
     "output_type": "stream",
     "text": [
      "model.predict() 결과 :  [6.117832e-13 1.000000e+00 2.456182e-17]\n",
      "model이 추론한 가장 가능성이 높은 결과 :  1\n",
      "실제 데이터의 라벨 :  1\n"
     ]
    },
    {
     "data": {
      "image/png": "[encoded data removed]",
      "text/plain": [
       "<Figure size 432x288 with 1 Axes>"
      ]
     },
     "metadata": {
      "needs_background": "light"
     },
     "output_type": "display_data"
    },
    {
     "name": "stdout",
     "output_type": "stream",
     "text": [
      "model.predict() 결과 :  [2.4433625e-08 1.0000000e+00 7.4094717e-09]\n",
      "model이 추론한 가장 가능성이 높은 결과 :  1\n",
      "실제 데이터의 라벨 :  1\n"
     ]
    },
    {
     "data": {
      "image/png": "[encoded data removed]",
      "text/plain": [
       "<Figure size 432x288 with 1 Axes>"
      ]
     },
     "metadata": {
      "needs_background": "light"
     },
     "output_type": "display_data"
    },
    {
     "name": "stdout",
     "output_type": "stream",
     "text": [
      "model.predict() 결과 :  [9.993857e-01 6.672334e-08 6.141083e-04]\n",
      "model이 추론한 가장 가능성이 높은 결과 :  0\n",
      "실제 데이터의 라벨 :  0\n"
     ]
    },
    {
     "data": {
      "image/png": "[encoded data removed]",
      "text/plain": [
       "<Figure size 432x288 with 1 Axes>"
      ]
     },
     "metadata": {
      "needs_background": "light"
     },
     "output_type": "display_data"
    },
    {
     "name": "stdout",
     "output_type": "stream",
     "text": [
      "model.predict() 결과 :  [9.6582407e-01 1.2163599e-08 3.4175936e-02]\n",
      "model이 추론한 가장 가능성이 높은 결과 :  0\n",
      "실제 데이터의 라벨 :  2\n"
     ]
    },
    {
     "data": {
      "image/png": "[encoded data removed]",
      "text/plain": [
       "<Figure size 432x288 with 1 Axes>"
      ]
     },
     "metadata": {
      "needs_background": "light"
     },
     "output_type": "display_data"
    },
    {
     "name": "stdout",
     "output_type": "stream",
     "text": [
      "model.predict() 결과 :  [3.3336207e-16 1.0000000e+00 1.0433065e-18]\n",
      "model이 추론한 가장 가능성이 높은 결과 :  1\n",
      "실제 데이터의 라벨 :  1\n"
     ]
    },
    {
     "data": {
      "image/png": "[encoded data removed]",
      "text/plain": [
       "<Figure size 432x288 with 1 Axes>"
      ]
     },
     "metadata": {
      "needs_background": "light"
     },
     "output_type": "display_data"
    },
    {
     "name": "stdout",
     "output_type": "stream",
     "text": [
      "model.predict() 결과 :  [1.000000e+00 6.128349e-11 3.540901e-08]\n",
      "model이 추론한 가장 가능성이 높은 결과 :  0\n",
      "실제 데이터의 라벨 :  0\n"
     ]
    },
    {
     "data": {
      "image/png": "[encoded data removed]",
      "text/plain": [
       "<Figure size 432x288 with 1 Axes>"
      ]
     },
     "metadata": {
      "needs_background": "light"
     },
     "output_type": "display_data"
    }
   ],
   "source": [
    "predicted_result = model.predict(x_test_norm)  # model이 추론한 확률값. \n",
    "predicted_labels = np.argmax(predicted_result, axis=1)\n",
    "\n",
    "for idx in np.random.choice(len(predicted_labels), 10):\n",
    "    #idx=150 #1번째 x_test를 살펴보자. \n",
    "    print('model.predict() 결과 : ', predicted_result[idx])\n",
    "    print('model이 추론한 가장 가능성이 높은 결과 : ', predicted_labels[idx])\n",
    "    print('실제 데이터의 라벨 : ', y_test[idx])\n",
    "\n",
    "    plt.imshow(x_test[idx])\n",
    "    plt.show()"
   ]
  },
  {
   "cell_type": "code",
   "execution_count": null,
   "id": "83a0f6b5",
   "metadata": {},
   "outputs": [],
   "source": [
    "# 이미지를 회전해서 저장하는 함수\n",
    "# - 이미지를 회전 시켜서 학습 시키는데 사용\n",
    "# - 이미지를 회전했더니 돌아간 부분에 검은 테두리가 생겨서 그런지 학습효과가 좋지는 않았음.\n",
    "from PIL import Image\n",
    "import os\n",
    "\n",
    "def rotate_and_save_images(folder_path):\n",
    "    # 폴더 내의 모든 파일에 대해\n",
    "    for filename in os.listdir(folder_path):\n",
    "        # 이미지 파일만 대상으로\n",
    "        if filename.endswith('.jpg') or filename.endswith('.png'):  # 다른 확장자도 추가 가능\n",
    "            image_path = os.path.join(folder_path, filename)\n",
    "            img = Image.open(image_path)\n",
    "\n",
    "            # 90도, 180도, 270도 회전하고 저장\n",
    "            for angle in [-15, 15, 30, 45]:\n",
    "                rotated_img = img.rotate(angle)\n",
    "                new_filename = f\"{filename.split('.')[0]}_{angle}.jpg\"  # 원본 파일 이름에 각도를 추가\n",
    "                rotated_img.save(os.path.join(folder_path, new_filename))\n",
    "\n",
    "# 폴더 경로 지정\n",
    "#folder_path = '/aiffel/rock_scissor_paper/rock'\n",
    "rotate_and_save_images('/aiffel/aiffel/rock_scissor_paper/rock')\n",
    "rotate_and_save_images('/aiffel/aiffel/rock_scissor_paper/paper')\n",
    "rotate_and_save_images('/aiffel/aiffel/rock_scissor_paper/scissor')\n"
   ]
  },
  {
   "cell_type": "code",
   "execution_count": null,
   "id": "441d2194",
   "metadata": {},
   "outputs": [],
   "source": []
  }
 ],
 "metadata": {
  "kernelspec": {
   "display_name": "Python 3 (ipykernel)",
   "language": "python",
   "name": "python3"
  },
  "language_info": {
   "codemirror_mode": {
    "name": "ipython",
    "version": 3
   },
   "file_extension": ".py",
   "mimetype": "text/x-python",
   "name": "python",
   "nbconvert_exporter": "python",
   "pygments_lexer": "ipython3",
   "version": "3.10.12"
  }
 },
 "nbformat": 4,
 "nbformat_minor": 5
}
