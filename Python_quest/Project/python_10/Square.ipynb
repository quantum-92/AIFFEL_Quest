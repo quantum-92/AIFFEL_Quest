{
 "cells": [
  {
   "cell_type": "code",
   "execution_count": 7,
   "metadata": {},
   "outputs": [],
   "source": [
    "class Square:\n",
    "    def __init__(self):\n",
    "        self.square = int(input(\"넓이를 구하고 싶은 사각형의 숫자를 써주세요. \\n1.직사각형 2.평행사변형 3.사다리꼴 \\n>>>\"))\n",
    "        \n",
    "        if self.square == 1:\n",
    "            print(\"직사각형 함수는 rect()입니다.\")\n",
    "            \n",
    "        elif self.square == 2:\n",
    "            print(\"평행사변형 함수는 par()입니다.\")\n",
    "            \n",
    "        elif self.square == 3:\n",
    "            print(\"사다리꼴 함수는 trape()입니다.\")\n",
    "        \n",
    "        else:\n",
    "            print(\"1, 2, 3 중에 다시 입력해 주세요.\")\n",
    "            \n",
    "    def rect(self):\n",
    "        text = input(\"가로, 세로를 입력하세요. 예시: 가로,세로\\n>>>\")\n",
    "        width, height = map(int, text.split(\",\"))\n",
    "        area = width * height\n",
    "        result = \"직사각형이 넓이는 : \" + str(area)\n",
    "        return result\n",
    "    \n",
    "    def par(self):\n",
    "        text = input(\"밑변, 높이를 입력하세요. 예시: 밑변,높이\\n>>>\")\n",
    "        base_line, height = map(int, text.split(\",\"))\n",
    "        area = base_line * height\n",
    "        result = \"평행사변형의 넓이는 : \" + str(area)\n",
    "        return result\n",
    "        \n",
    "    def trape(self):\n",
    "        text = input(\"밑변, 윗변, 높이를 입력하세요. 예시: 밑변,윗변,높이\\n>>>\")\n",
    "        base_line, upper_edge, height = map(int, text.split(\",\"))\n",
    "        area = (base_line + upper_edge) * height * 0.5\n",
    "        result = \"사다리꼴의 넓이는 \" + str(area)\n",
    "        return result\n",
    "\n",
    "    def calc_area(self):\n",
    "        if square.square == 1:\n",
    "            print(square.rect())\n",
    "        elif square.square == 2:\n",
    "            print(square.par())\n",
    "        elif square.square == 3:\n",
    "            print(square.trape())\n",
    "       "
   ]
  },
  {
   "cell_type": "code",
   "execution_count": 8,
   "metadata": {},
   "outputs": [
    {
     "name": "stdout",
     "output_type": "stream",
     "text": [
      "넓이를 구하고 싶은 사각형의 숫자를 써주세요. \n",
      "1.직사각형 2.평행사변형 3.사다리꼴 \n",
      ">>>1\n",
      "직사각형 함수는 rect()입니다.\n",
      "가로, 세로를 입력하세요. 예시: 가로,세로\n",
      ">>>2,3\n",
      "직사각형이 넓이는 : 6\n"
     ]
    }
   ],
   "source": [
    "square = Square()\n",
    "square.calc_area()"
   ]
  },
  {
   "cell_type": "code",
   "execution_count": 9,
   "metadata": {},
   "outputs": [
    {
     "name": "stdout",
     "output_type": "stream",
     "text": [
      "넓이를 구하고 싶은 사각형의 숫자를 써주세요. \n",
      "1.직사각형 2.평행사변형 3.사다리꼴 \n",
      ">>>2\n",
      "평행사변형 함수는 par()입니다.\n",
      "밑변, 높이를 입력하세요. 예시: 밑변,높이\n",
      ">>>3,4\n",
      "평행사변형의 넓이는 : 12\n"
     ]
    }
   ],
   "source": [
    "square = Square()\n",
    "square.calc_area()"
   ]
  },
  {
   "cell_type": "code",
   "execution_count": 10,
   "metadata": {},
   "outputs": [
    {
     "name": "stdout",
     "output_type": "stream",
     "text": [
      "넓이를 구하고 싶은 사각형의 숫자를 써주세요. \n",
      "1.직사각형 2.평행사변형 3.사다리꼴 \n",
      ">>>3\n",
      "사다리꼴 함수는 trape()입니다.\n",
      "밑변, 윗변, 높이를 입력하세요. 예시: 밑변,윗변,높이\n",
      ">>>4,3,3\n",
      "사다리꼴의 넓이는 10.5\n"
     ]
    }
   ],
   "source": [
    "square = Square()\n",
    "square.calc_area()"
   ]
  }
 ],
 "metadata": {
  "kernelspec": {
   "display_name": "Python 3",
   "language": "python",
   "name": "python3"
  },
  "language_info": {
   "codemirror_mode": {
    "name": "ipython",
    "version": 3
   },
   "file_extension": ".py",
   "mimetype": "text/x-python",
   "name": "python",
   "nbconvert_exporter": "python",
   "pygments_lexer": "ipython3",
   "version": "3.7.4"
  }
 },
 "nbformat": 4,
 "nbformat_minor": 2
}
