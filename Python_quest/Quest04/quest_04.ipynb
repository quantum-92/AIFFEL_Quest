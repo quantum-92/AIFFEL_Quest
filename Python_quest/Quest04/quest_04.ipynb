{
  "nbformat": 4,
  "nbformat_minor": 0,
  "metadata": {
    "colab": {
      "provenance": [],
      "include_colab_link": true
    },
    "kernelspec": {
      "name": "python3",
      "display_name": "Python 3"
    },
    "language_info": {
      "name": "python"
    }
  },
  "cells": [
    {
      "cell_type": "markdown",
      "metadata": {
        "id": "view-in-github",
        "colab_type": "text"
      },
      "source": [
        "<a href=\"https://colab.research.google.com/github/quantum-92/AIFFEL_Quest/blob/main/Python_quest/Quest04/quest_04.ipynb\" target=\"_parent\"><img src=\"https://colab.research.google.com/assets/colab-badge.svg\" alt=\"Open In Colab\"/></a>"
      ]
    },
    {
      "cell_type": "code",
      "execution_count": 24,
      "metadata": {
        "id": "-ioPGsTrN4LC",
        "colab": {
          "base_uri": "https://localhost:8080/"
        },
        "outputId": "bda7322f-79a9-4a1c-b99d-010c41c9dcd9"
      },
      "outputs": [
        {
          "output_type": "stream",
          "name": "stdout",
          "text": [
            "출력값:\n",
            "\n",
            "Using Comprehension:\n",
            "Nemo is swimming at 3 m/s\n",
            "Dory is swimming at 5 m/s\n",
            "\n",
            "Using Generator:\n",
            "Nemo is swimming at 3 m/s\n",
            "Dory is swimming at 5 m/s\n"
          ]
        }
      ],
      "source": [
        "\n",
        "# 물고기 리스트(이름과 speed를 나타내는 딕셔너리의 리스트)\n",
        "fish_list = [{\"이름\":\"Nemo\", \"speed\": 3}, {\"이름\":\"Dory\", \"speed\": 5}]\n",
        "\n",
        "### 함수 정의 ###\n",
        "\n",
        "# 물고기 리스트에 대하여 각 물고기의 움직임을 표현하는 메시지(문자열)의 리스트를 반환한다.\n",
        "def get_fish_movement(fish_list):\n",
        "\n",
        "  #[print(f\"{fish['이름']} is swimming at {fish['speed']} m/s\") for fish in fish_list]\n",
        "  #리스트 컴프리핸션을 사용하여 각 물고기의 움직임을 메시지로 만들어서 리스트를 반환한다.\n",
        "  movement_list = [f\"{fish['이름']} is swimming at {fish['speed']} m/s\" for fish in fish_list]\n",
        "  return movement_list\n",
        "\n",
        "# 물고기 움직이는 리스트를 받아서 출력한다.\n",
        "def show_fish_movement_comprehension(fish_list):\n",
        "  for value in get_fish_movement(fish_list):\n",
        "    print(value)\n",
        "\n",
        "# 물고기의 움직임을 표현하는 메시지를 반환하는 Generator이다.\n",
        "def get_fish_movement(fish_list):\n",
        "  for fish in fish_list:\n",
        "    movement_string = f\"{fish['이름']} is swimming at {fish['speed']} m/s\"\n",
        "    yield(movement_string)\n",
        "\n",
        "# for문을 이용하여 전체 물고기의 움직임을 표현하는 메시지를 출력한다.\n",
        "def show_fish_movement_Generator(fish_list):\n",
        "  for value in get_fish_movement(fish_list):\n",
        "    print(value)\n",
        "\n",
        "### 실행 ###\n",
        "\n",
        "# 물고기의 움직임 출력\n",
        "print(\"출력값:\\n\")\n",
        "print(\"Using Comprehension:\")\n",
        "show_fish_movement_comprehension(fish_list)\n",
        "print()\n",
        "print(\"Using Generator:\")\n",
        "show_fish_movement_Generator(fish_list)"
      ]
    },
    {
      "cell_type": "code",
      "source": [
        "# 회고\n",
        "\n",
        "## Keep\n",
        "  - 문제를 해결하는 코드를 작성했다.\n",
        "  - 코더가 함수를 하나씩 맡아서 본인의 순서에 작성하고 상대방이 작성할 때는 훈수를 두었다.(작업의 일관성이 있었다)\n",
        "\n",
        "## Problem\n",
        "  - 물고기 리스트를 입력을 받는 코드는 만들지 않았다.\n",
        "  - 함수를 쓸데 없이 너무 많이 만든 것 아닐까?\n",
        "  - 긴 문자열이 들어가는 코드를 컴프리헨션으로 작성하니 한 줄이 길어졌다.\n",
        "\n",
        "## Try\n",
        "  - \"\\\"를 이용해서 한 줄의 길이를 80자 이내로 유지하겠다.\n",
        ""
      ],
      "metadata": {
        "id": "aFmW1p2DfQ8l"
      },
      "execution_count": null,
      "outputs": []
    },
    {
      "cell_type": "markdown",
      "source": [],
      "metadata": {
        "id": "J_vCeMT-fWje"
      }
    }
  ]
}