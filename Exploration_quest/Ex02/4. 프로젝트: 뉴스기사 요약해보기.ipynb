{
 "cells": [
  {
   "cell_type": "markdown",
   "metadata": {},
   "source": [
    "# 4. 뉴스 요약봇 만들기"
   ]
  },
  {
   "cell_type": "markdown",
   "metadata": {},
   "source": [
    "## Step 1. 데이터 수집하기\n"
   ]
  },
  {
   "cell_type": "code",
   "execution_count": 1,
   "metadata": {},
   "outputs": [
    {
     "name": "stderr",
     "output_type": "stream",
     "text": [
      "2023-11-23 07:02:15.045976: E external/local_xla/xla/stream_executor/cuda/cuda_dnn.cc:9261] Unable to register cuDNN factory: Attempting to register factory for plugin cuDNN when one has already been registered\n",
      "2023-11-23 07:02:15.046039: E external/local_xla/xla/stream_executor/cuda/cuda_fft.cc:607] Unable to register cuFFT factory: Attempting to register factory for plugin cuFFT when one has already been registered\n",
      "2023-11-23 07:02:15.091604: E external/local_xla/xla/stream_executor/cuda/cuda_blas.cc:1515] Unable to register cuBLAS factory: Attempting to register factory for plugin cuBLAS when one has already been registered\n",
      "2023-11-23 07:02:15.170837: I tensorflow/core/platform/cpu_feature_guard.cc:182] This TensorFlow binary is optimized to use available CPU instructions in performance-critical operations.\n",
      "To enable the following instructions: AVX2 FMA, in other operations, rebuild TensorFlow with the appropriate compiler flags.\n",
      "2023-11-23 07:02:16.090754: W tensorflow/compiler/tf2tensorrt/utils/py_utils.cc:38] TF-TRT Warning: Could not find TensorRT\n"
     ]
    },
    {
     "name": "stdout",
     "output_type": "stream",
     "text": [
      "3.8.1\n",
      "2.15.0\n",
      "2.1.3\n",
      "1.2.0\n"
     ]
    }
   ],
   "source": [
    "from importlib.metadata import version\n",
    "import nltk\n",
    "import tensorflow\n",
    "import summa\n",
    "import pandas\n",
    "\n",
    "print(nltk.__version__)\n",
    "print(tensorflow.__version__)\n",
    "print(pandas.__version__)\n",
    "print(version('summa'))"
   ]
  },
  {
   "cell_type": "code",
   "execution_count": 2,
   "metadata": {},
   "outputs": [
    {
     "name": "stderr",
     "output_type": "stream",
     "text": [
      "[nltk_data] Downloading package stopwords to\n",
      "[nltk_data]     /home/centillion/nltk_data...\n",
      "[nltk_data]   Package stopwords is already up-to-date!\n"
     ]
    },
    {
     "name": "stdout",
     "output_type": "stream",
     "text": [
      "=3\n"
     ]
    }
   ],
   "source": [
    "import nltk\n",
    "nltk.download('stopwords')\n",
    "\n",
    "import numpy as np\n",
    "import pandas as pd\n",
    "import os\n",
    "import re\n",
    "import matplotlib.pyplot as plt\n",
    "from nltk.corpus import stopwords\n",
    "from bs4 import BeautifulSoup \n",
    "from tensorflow.keras.preprocessing.text import Tokenizer \n",
    "from tensorflow.keras.preprocessing.sequence import pad_sequences\n",
    "import urllib.request\n",
    "import warnings\n",
    "warnings.filterwarnings(\"ignore\", category=UserWarning, module='bs4')\n",
    "\n",
    "print('=3')"
   ]
  },
  {
   "cell_type": "code",
   "execution_count": 3,
   "metadata": {},
   "outputs": [
    {
     "name": "stdout",
     "output_type": "stream",
     "text": [
      "전체 샘플수 : 98401\n"
     ]
    }
   ],
   "source": [
    "import urllib.request\n",
    "import pandas as pd\n",
    "urllib.request.urlretrieve(\"https://raw.githubusercontent.com/sunnysai12345/News_Summary/master/news_summary_more.csv\", filename=\"news_summary_more.csv\")\n",
    "data = pd.read_csv('news_summary_more.csv', encoding='iso-8859-1')\n",
    "print('전체 샘플수 :', (len(data)))"
   ]
  },
  {
   "cell_type": "code",
   "execution_count": 4,
   "metadata": {},
   "outputs": [
    {
     "data": {
      "text/html": [
       "<div>\n",
       "<style scoped>\n",
       "    .dataframe tbody tr th:only-of-type {\n",
       "        vertical-align: middle;\n",
       "    }\n",
       "\n",
       "    .dataframe tbody tr th {\n",
       "        vertical-align: top;\n",
       "    }\n",
       "\n",
       "    .dataframe thead th {\n",
       "        text-align: right;\n",
       "    }\n",
       "</style>\n",
       "<table border=\"1\" class=\"dataframe\">\n",
       "  <thead>\n",
       "    <tr style=\"text-align: right;\">\n",
       "      <th></th>\n",
       "      <th>headlines</th>\n",
       "      <th>text</th>\n",
       "    </tr>\n",
       "  </thead>\n",
       "  <tbody>\n",
       "    <tr>\n",
       "      <th>53202</th>\n",
       "      <td>David, Victoria spend Ã¢ÂÂ¹52 lakh on underwe...</td>\n",
       "      <td>David Beckham and his wife Victoria Beckham ha...</td>\n",
       "    </tr>\n",
       "    <tr>\n",
       "      <th>75515</th>\n",
       "      <td>Big B takes part in clean up drive on Mumbai's...</td>\n",
       "      <td>Amitabh Bachchan took part in a clean up drive...</td>\n",
       "    </tr>\n",
       "    <tr>\n",
       "      <th>20449</th>\n",
       "      <td>What is real story of crying grandmother, gran...</td>\n",
       "      <td>A picture of a girl and her grandmother went v...</td>\n",
       "    </tr>\n",
       "    <tr>\n",
       "      <th>7323</th>\n",
       "      <td>7-year-old boy who met Messi abandons home aft...</td>\n",
       "      <td>Murtaza Ahmadi, a seven-year-old boy who met L...</td>\n",
       "    </tr>\n",
       "    <tr>\n",
       "      <th>88056</th>\n",
       "      <td>LeEco Founder Jia Yueting resigns from the CEO...</td>\n",
       "      <td>Chinese technology startup LeEco's Founder Jia...</td>\n",
       "    </tr>\n",
       "    <tr>\n",
       "      <th>94109</th>\n",
       "      <td>Pakistan plans to export donkeys to China</td>\n",
       "      <td>Pakistan is planning to export donkeys to Chin...</td>\n",
       "    </tr>\n",
       "    <tr>\n",
       "      <th>28495</th>\n",
       "      <td>Even Maradona wasn't the fastest: Kapil Dev sl...</td>\n",
       "      <td>Slamming Yo-Yo test as the sole fitness criter...</td>\n",
       "    </tr>\n",
       "    <tr>\n",
       "      <th>57121</th>\n",
       "      <td>Islamic State still not defeated: UK PM May wa...</td>\n",
       "      <td>After Iraqi Prime Minister Haider al-Abadi dec...</td>\n",
       "    </tr>\n",
       "    <tr>\n",
       "      <th>48172</th>\n",
       "      <td>Flipkart loses appeal against Ã¢ÂÂ¹110cr tax ...</td>\n",
       "      <td>Flipkart has lost the appeal against Ã¢ÂÂ¹110...</td>\n",
       "    </tr>\n",
       "    <tr>\n",
       "      <th>8069</th>\n",
       "      <td>Home service startup UrbanClap raises $50mn at...</td>\n",
       "      <td>On-demand services startup UrbanClap has raise...</td>\n",
       "    </tr>\n",
       "  </tbody>\n",
       "</table>\n",
       "</div>"
      ],
      "text/plain": [
       "                                               headlines  \\\n",
       "53202  David, Victoria spend Ã¢ÂÂ¹52 lakh on underwe...   \n",
       "75515  Big B takes part in clean up drive on Mumbai's...   \n",
       "20449  What is real story of crying grandmother, gran...   \n",
       "7323   7-year-old boy who met Messi abandons home aft...   \n",
       "88056  LeEco Founder Jia Yueting resigns from the CEO...   \n",
       "94109          Pakistan plans to export donkeys to China   \n",
       "28495  Even Maradona wasn't the fastest: Kapil Dev sl...   \n",
       "57121  Islamic State still not defeated: UK PM May wa...   \n",
       "48172  Flipkart loses appeal against Ã¢ÂÂ¹110cr tax ...   \n",
       "8069   Home service startup UrbanClap raises $50mn at...   \n",
       "\n",
       "                                                    text  \n",
       "53202  David Beckham and his wife Victoria Beckham ha...  \n",
       "75515  Amitabh Bachchan took part in a clean up drive...  \n",
       "20449  A picture of a girl and her grandmother went v...  \n",
       "7323   Murtaza Ahmadi, a seven-year-old boy who met L...  \n",
       "88056  Chinese technology startup LeEco's Founder Jia...  \n",
       "94109  Pakistan is planning to export donkeys to Chin...  \n",
       "28495  Slamming Yo-Yo test as the sole fitness criter...  \n",
       "57121  After Iraqi Prime Minister Haider al-Abadi dec...  \n",
       "48172  Flipkart has lost the appeal against Ã¢ÂÂ¹110...  \n",
       "8069   On-demand services startup UrbanClap has raise...  "
      ]
     },
     "execution_count": 4,
     "metadata": {},
     "output_type": "execute_result"
    }
   ],
   "source": [
    "data.sample(10)"
   ]
  },
  {
   "cell_type": "code",
   "execution_count": 5,
   "metadata": {},
   "outputs": [
    {
     "data": {
      "text/html": [
       "<div>\n",
       "<style scoped>\n",
       "    .dataframe tbody tr th:only-of-type {\n",
       "        vertical-align: middle;\n",
       "    }\n",
       "\n",
       "    .dataframe tbody tr th {\n",
       "        vertical-align: top;\n",
       "    }\n",
       "\n",
       "    .dataframe thead th {\n",
       "        text-align: right;\n",
       "    }\n",
       "</style>\n",
       "<table border=\"1\" class=\"dataframe\">\n",
       "  <thead>\n",
       "    <tr style=\"text-align: right;\">\n",
       "      <th></th>\n",
       "      <th>headlines</th>\n",
       "      <th>text</th>\n",
       "    </tr>\n",
       "  </thead>\n",
       "  <tbody>\n",
       "    <tr>\n",
       "      <th>0</th>\n",
       "      <td>upGrad learner switches to career in ML &amp; Al w...</td>\n",
       "      <td>Saurav Kant, an alumnus of upGrad and IIIT-B's...</td>\n",
       "    </tr>\n",
       "    <tr>\n",
       "      <th>1</th>\n",
       "      <td>Delhi techie wins free food from Swiggy for on...</td>\n",
       "      <td>Kunal Shah's credit card bill payment platform...</td>\n",
       "    </tr>\n",
       "    <tr>\n",
       "      <th>2</th>\n",
       "      <td>New Zealand end Rohit Sharma-led India's 12-ma...</td>\n",
       "      <td>New Zealand defeated India by 8 wickets in the...</td>\n",
       "    </tr>\n",
       "    <tr>\n",
       "      <th>3</th>\n",
       "      <td>Aegon life iTerm insurance plan helps customer...</td>\n",
       "      <td>With Aegon Life iTerm Insurance plan, customer...</td>\n",
       "    </tr>\n",
       "    <tr>\n",
       "      <th>4</th>\n",
       "      <td>Have known Hirani for yrs, what if MeToo claim...</td>\n",
       "      <td>Speaking about the sexual harassment allegatio...</td>\n",
       "    </tr>\n",
       "  </tbody>\n",
       "</table>\n",
       "</div>"
      ],
      "text/plain": [
       "                                           headlines  \\\n",
       "0  upGrad learner switches to career in ML & Al w...   \n",
       "1  Delhi techie wins free food from Swiggy for on...   \n",
       "2  New Zealand end Rohit Sharma-led India's 12-ma...   \n",
       "3  Aegon life iTerm insurance plan helps customer...   \n",
       "4  Have known Hirani for yrs, what if MeToo claim...   \n",
       "\n",
       "                                                text  \n",
       "0  Saurav Kant, an alumnus of upGrad and IIIT-B's...  \n",
       "1  Kunal Shah's credit card bill payment platform...  \n",
       "2  New Zealand defeated India by 8 wickets in the...  \n",
       "3  With Aegon Life iTerm Insurance plan, customer...  \n",
       "4  Speaking about the sexual harassment allegatio...  "
      ]
     },
     "execution_count": 5,
     "metadata": {},
     "output_type": "execute_result"
    }
   ],
   "source": [
    "data.head()"
   ]
  },
  {
   "cell_type": "markdown",
   "metadata": {},
   "source": []
  },
  {
   "cell_type": "markdown",
   "metadata": {},
   "source": [
    "## Step 2. 데이터 전처리하기 (추상적 요약)\n"
   ]
  },
  {
   "cell_type": "markdown",
   "metadata": {},
   "source": [
    "### 중복 샘플과 NULL 값이 존재하는 샘플 제거\n",
    "\n",
    "중복 샘플 유무를 확인"
   ]
  },
  {
   "cell_type": "code",
   "execution_count": 6,
   "metadata": {},
   "outputs": [
    {
     "name": "stdout",
     "output_type": "stream",
     "text": [
      "Text 열에서 중복을 배제한 유일한 샘플의 수 : 98360\n",
      "Summary 열에서 중복을 배제한 유일한 샘플의 수 : 98280\n"
     ]
    }
   ],
   "source": [
    "print('Text 열에서 중복을 배제한 유일한 샘플의 수 :', data['text'].nunique())\n",
    "print('Summary 열에서 중복을 배제한 유일한 샘플의 수 :', data['headlines'].nunique())"
   ]
  },
  {
   "cell_type": "markdown",
   "metadata": {},
   "source": [
    "\n",
    "데이터프레임의 ```drop_duplicates()```를 사용하면, 손쉽게 중복 샘플을 제거"
   ]
  },
  {
   "cell_type": "code",
   "execution_count": 7,
   "metadata": {},
   "outputs": [
    {
     "name": "stdout",
     "output_type": "stream",
     "text": [
      "전체 샘플수 : 98360\n"
     ]
    }
   ],
   "source": [
    "# inplace=True 를 설정하면 DataFrame 타입 값을 return 하지 않고 data 내부를 직접적으로 바꿉니다\n",
    "data.drop_duplicates(subset = ['text'], inplace=True)\n",
    "print('전체 샘플수 :', (len(data)))"
   ]
  },
  {
   "cell_type": "markdown",
   "metadata": {},
   "source": [
    "데이터프레임에 Null 값이 있는지 확인"
   ]
  },
  {
   "cell_type": "code",
   "execution_count": 8,
   "metadata": {},
   "outputs": [
    {
     "name": "stdout",
     "output_type": "stream",
     "text": [
      "headlines    0\n",
      "text         0\n",
      "dtype: int64\n"
     ]
    }
   ],
   "source": [
    "print(data.isnull().sum())"
   ]
  },
  {
   "cell_type": "markdown",
   "metadata": {},
   "source": [
    "### 텍스트 정규화와 불용어 제거\n",
    "\n"
   ]
  },
  {
   "cell_type": "code",
   "execution_count": 9,
   "metadata": {},
   "outputs": [
    {
     "name": "stdout",
     "output_type": "stream",
     "text": [
      "정규화 사전의 수:  120\n"
     ]
    }
   ],
   "source": [
    "contractions = {\"ain't\": \"is not\", \"aren't\": \"are not\",\"can't\": \"cannot\", \"'cause\": \"because\", \"could've\": \"could have\", \"couldn't\": \"could not\",\n",
    "                           \"didn't\": \"did not\",  \"doesn't\": \"does not\", \"don't\": \"do not\", \"hadn't\": \"had not\", \"hasn't\": \"has not\", \"haven't\": \"have not\",\n",
    "                           \"he'd\": \"he would\",\"he'll\": \"he will\", \"he's\": \"he is\", \"how'd\": \"how did\", \"how'd'y\": \"how do you\", \"how'll\": \"how will\", \"how's\": \"how is\",\n",
    "                           \"I'd\": \"I would\", \"I'd've\": \"I would have\", \"I'll\": \"I will\", \"I'll've\": \"I will have\",\"I'm\": \"I am\", \"I've\": \"I have\", \"i'd\": \"i would\",\n",
    "                           \"i'd've\": \"i would have\", \"i'll\": \"i will\",  \"i'll've\": \"i will have\",\"i'm\": \"i am\", \"i've\": \"i have\", \"isn't\": \"is not\", \"it'd\": \"it would\",\n",
    "                           \"it'd've\": \"it would have\", \"it'll\": \"it will\", \"it'll've\": \"it will have\",\"it's\": \"it is\", \"let's\": \"let us\", \"ma'am\": \"madam\",\n",
    "                           \"mayn't\": \"may not\", \"might've\": \"might have\",\"mightn't\": \"might not\",\"mightn't've\": \"might not have\", \"must've\": \"must have\",\n",
    "                           \"mustn't\": \"must not\", \"mustn't've\": \"must not have\", \"needn't\": \"need not\", \"needn't've\": \"need not have\",\"o'clock\": \"of the clock\",\n",
    "                           \"oughtn't\": \"ought not\", \"oughtn't've\": \"ought not have\", \"shan't\": \"shall not\", \"sha'n't\": \"shall not\", \"shan't've\": \"shall not have\",\n",
    "                           \"she'd\": \"she would\", \"she'd've\": \"she would have\", \"she'll\": \"she will\", \"she'll've\": \"she will have\", \"she's\": \"she is\",\n",
    "                           \"should've\": \"should have\", \"shouldn't\": \"should not\", \"shouldn't've\": \"should not have\", \"so've\": \"so have\",\"so's\": \"so as\",\n",
    "                           \"this's\": \"this is\",\"that'd\": \"that would\", \"that'd've\": \"that would have\", \"that's\": \"that is\", \"there'd\": \"there would\",\n",
    "                           \"there'd've\": \"there would have\", \"there's\": \"there is\", \"here's\": \"here is\",\"they'd\": \"they would\", \"they'd've\": \"they would have\",\n",
    "                           \"they'll\": \"they will\", \"they'll've\": \"they will have\", \"they're\": \"they are\", \"they've\": \"they have\", \"to've\": \"to have\",\n",
    "                           \"wasn't\": \"was not\", \"we'd\": \"we would\", \"we'd've\": \"we would have\", \"we'll\": \"we will\", \"we'll've\": \"we will have\", \"we're\": \"we are\",\n",
    "                           \"we've\": \"we have\", \"weren't\": \"were not\", \"what'll\": \"what will\", \"what'll've\": \"what will have\", \"what're\": \"what are\",\n",
    "                           \"what's\": \"what is\", \"what've\": \"what have\", \"when's\": \"when is\", \"when've\": \"when have\", \"where'd\": \"where did\", \"where's\": \"where is\",\n",
    "                           \"where've\": \"where have\", \"who'll\": \"who will\", \"who'll've\": \"who will have\", \"who's\": \"who is\", \"who've\": \"who have\",\n",
    "                           \"why's\": \"why is\", \"why've\": \"why have\", \"will've\": \"will have\", \"won't\": \"will not\", \"won't've\": \"will not have\",\n",
    "                           \"would've\": \"would have\", \"wouldn't\": \"would not\", \"wouldn't've\": \"would not have\", \"y'all\": \"you all\",\n",
    "                           \"y'all'd\": \"you all would\",\"y'all'd've\": \"you all would have\",\"y'all're\": \"you all are\",\"y'all've\": \"you all have\",\n",
    "                           \"you'd\": \"you would\", \"you'd've\": \"you would have\", \"you'll\": \"you will\", \"you'll've\": \"you will have\",\n",
    "                           \"you're\": \"you are\", \"you've\": \"you have\"}\n",
    "\n",
    "print(\"정규화 사전의 수: \", len(contractions))"
   ]
  },
  {
   "cell_type": "markdown",
   "metadata": {},
   "source": [
    "불용어 리스트"
   ]
  },
  {
   "cell_type": "code",
   "execution_count": 10,
   "metadata": {},
   "outputs": [
    {
     "name": "stdout",
     "output_type": "stream",
     "text": [
      "불용어 개수 : 179\n",
      "['i', 'me', 'my', 'myself', 'we', 'our', 'ours', 'ourselves', 'you', \"you're\", \"you've\", \"you'll\", \"you'd\", 'your', 'yours', 'yourself', 'yourselves', 'he', 'him', 'his', 'himself', 'she', \"she's\", 'her', 'hers', 'herself', 'it', \"it's\", 'its', 'itself', 'they', 'them', 'their', 'theirs', 'themselves', 'what', 'which', 'who', 'whom', 'this', 'that', \"that'll\", 'these', 'those', 'am', 'is', 'are', 'was', 'were', 'be', 'been', 'being', 'have', 'has', 'had', 'having', 'do', 'does', 'did', 'doing', 'a', 'an', 'the', 'and', 'but', 'if', 'or', 'because', 'as', 'until', 'while', 'of', 'at', 'by', 'for', 'with', 'about', 'against', 'between', 'into', 'through', 'during', 'before', 'after', 'above', 'below', 'to', 'from', 'up', 'down', 'in', 'out', 'on', 'off', 'over', 'under', 'again', 'further', 'then', 'once', 'here', 'there', 'when', 'where', 'why', 'how', 'all', 'any', 'both', 'each', 'few', 'more', 'most', 'other', 'some', 'such', 'no', 'nor', 'not', 'only', 'own', 'same', 'so', 'than', 'too', 'very', 's', 't', 'can', 'will', 'just', 'don', \"don't\", 'should', \"should've\", 'now', 'd', 'll', 'm', 'o', 're', 've', 'y', 'ain', 'aren', \"aren't\", 'couldn', \"couldn't\", 'didn', \"didn't\", 'doesn', \"doesn't\", 'hadn', \"hadn't\", 'hasn', \"hasn't\", 'haven', \"haven't\", 'isn', \"isn't\", 'ma', 'mightn', \"mightn't\", 'mustn', \"mustn't\", 'needn', \"needn't\", 'shan', \"shan't\", 'shouldn', \"shouldn't\", 'wasn', \"wasn't\", 'weren', \"weren't\", 'won', \"won't\", 'wouldn', \"wouldn't\"]\n"
     ]
    }
   ],
   "source": [
    "print('불용어 개수 :', len(stopwords.words('english') ))\n",
    "print(stopwords.words('english'))"
   ]
  },
  {
   "cell_type": "markdown",
   "metadata": {},
   "source": [
    "데이터 전처리 함수\n",
    "- html 태그 제거\n",
    "- ()로 닫힌 문자열 제거\n",
    "- \" 제거\n",
    "- 약어 정규화\n",
    "- 소유격 제거\n",
    "- 영어 외 문자(숫자, 특수문자 등) 공백으로 변환\n",
    "- m이 3개 이상 -> 2개로 변경\n",
    "- 불용어 제거(remove_stopwords = True이면)\n"
   ]
  },
  {
   "cell_type": "markdown",
   "metadata": {},
   "source": []
  },
  {
   "cell_type": "code",
   "execution_count": 11,
   "metadata": {},
   "outputs": [
    {
     "name": "stdout",
     "output_type": "stream",
     "text": [
      "=3\n"
     ]
    }
   ],
   "source": [
    "# 데이터 전처리 함수\n",
    "def preprocess_sentence(sentence, remove_stopwords=True):\n",
    "    sentence = sentence.lower() # 텍스트 소문자화\n",
    "    sentence = BeautifulSoup(sentence, \"lxml\").text # <br />, <a href = ...> 등의 html 태그 제거\n",
    "    #sentence = BeautifulSoup(sentence, \"html.parser\").text # <br />, <a href = ...> 등의 html 태그 제거\n",
    "    sentence = re.sub(r'\\([^)]*\\)', '', sentence) # 괄호로 닫힌 문자열 (...) 제거 Ex) my husband (and myself!) for => my husband for\n",
    "    sentence = re.sub('\"','', sentence) # 쌍따옴표 \" 제거\n",
    "    sentence = ' '.join([contractions[t] if t in contractions else t for t in sentence.split(\" \")]) # 약어 정규화\n",
    "    sentence = re.sub(r\"'s\\b\",\"\", sentence) # 소유격 제거. Ex) roland's -> roland\n",
    "    sentence = re.sub(\"[^a-zA-Z]\", \" \", sentence) # 영어 외 문자(숫자, 특수문자 등) 공백으로 변환\n",
    "    sentence = re.sub('[m]{2,}', 'mm', sentence) # m이 3개 이상이면 2개로 변경. Ex) ummmmmmm yeah -> umm yeah\n",
    "    \n",
    "    # 불용어 제거 (Text)\n",
    "    if remove_stopwords:\n",
    "        tokens = ' '.join(word for word in sentence.split() if not word in stopwords.words('english') if len(word) > 1)\n",
    "    # 불용어 미제거 (Summary)\n",
    "    else:\n",
    "        tokens = ' '.join(word for word in sentence.split() if len(word) > 1)\n",
    "    return tokens\n",
    "print('=3')"
   ]
  },
  {
   "cell_type": "markdown",
   "metadata": {},
   "source": [
    "text 전처리 실행"
   ]
  },
  {
   "cell_type": "code",
   "execution_count": 12,
   "metadata": {},
   "outputs": [
    {
     "name": "stdout",
     "output_type": "stream",
     "text": [
      "Text 전처리 후 결과:  ['saurav kant alumnus upgrad iiit pg program machine learning artificial intelligence sr systems engineer infosys almost years work experience program upgrad degree career support helped transition data scientist tech mahindra salary hike upgrad online power learning powered lakh careers', 'kunal shah credit card bill payment platform cred gave users chance win free food swiggy one year pranav kaushik delhi techie bagged reward spending cred coins users get one cred coin per rupee bill paid used avail rewards brands like ixigo bookmyshow ubereats cult fit', 'new zealand defeated india wickets fourth odi hamilton thursday win first match five match odi series india lost international match rohit sharma captaincy consecutive victories dating back march match witnessed india getting seventh lowest total odi cricket history', 'aegon life iterm insurance plan customers enjoy tax benefits premiums paid save taxes plan provides life cover age years also customers options insure critical illnesses disability accidental death benefit rider life cover age years', 'speaking sexual harassment allegations rajkumar hirani sonam kapoor said known hirani many years true metoo movement get derailed metoo movement always believe woman case need reserve judgment added hirani accused assistant worked sanju']\n"
     ]
    }
   ],
   "source": [
    "# 전체 Text 데이터에 대한 전처리 : 10분 이상 시간이 걸릴 수 있습니다. \n",
    "clean_text = []\n",
    "\n",
    "for i, text in enumerate(data['text']):\n",
    "    # if i % 5000 == 0:\n",
    "    #     print(i)\n",
    "    clean_text.append(preprocess_sentence(text))\n",
    "\n",
    "# 전처리 후 출력\n",
    "print(\"Text 전처리 후 결과: \", clean_text[:5])"
   ]
  },
  {
   "cell_type": "markdown",
   "metadata": {},
   "source": [
    "headlines 전처리 실행"
   ]
  },
  {
   "cell_type": "code",
   "execution_count": 13,
   "metadata": {},
   "outputs": [
    {
     "name": "stderr",
     "output_type": "stream",
     "text": [
      "/tmp/ipykernel_1172/2912404721.py:4: MarkupResemblesLocatorWarning: The input looks more like a filename than markup. You may want to open this file and pass the filehandle into Beautiful Soup.\n",
      "  sentence = BeautifulSoup(sentence, \"lxml\").text # <br />, <a href = ...> 등의 html 태그 제거\n"
     ]
    },
    {
     "name": "stdout",
     "output_type": "stream",
     "text": [
      "Summary 전처리 후 결과:  ['upgrad learner switches to career in ml al with salary hike', 'delhi techie wins free food from swiggy for one year on cred', 'new zealand end rohit sharma led india match winning streak', 'aegon life iterm insurance plan helps customers save tax', 'have known hirani for yrs what if metoo claims are not true sonam']\n"
     ]
    }
   ],
   "source": [
    "# 전체 Summary 데이터에 대한 전처리 : 5분 이상 시간이 걸릴 수 있습니다. \n",
    "clean_headlines = []\n",
    "\n",
    "for text in data['headlines']:\n",
    "    clean_headlines.append(preprocess_sentence(text, False))\n",
    "\n",
    "print(\"Summary 전처리 후 결과: \", clean_headlines[:5])"
   ]
  },
  {
   "cell_type": "code",
   "execution_count": 14,
   "metadata": {},
   "outputs": [
    {
     "name": "stdout",
     "output_type": "stream",
     "text": [
      "Yar\n"
     ]
    }
   ],
   "source": [
    "import numpy as np\n",
    "\n",
    "data['text'] = clean_text\n",
    "data['headlines'] = clean_headlines\n",
    "\n",
    "# 빈 값을 Null 값으로 변환\n",
    "data.replace('', np.nan, inplace = True)\n",
    "\n",
    "print(\"Yar\")"
   ]
  },
  {
   "cell_type": "markdown",
   "metadata": {},
   "source": [
    "다시 한번 빈(empty) 샘플이 생겼는지 확인\n",
    "- 없으므로 ''인 라인을 지울 필요 없음"
   ]
  },
  {
   "cell_type": "code",
   "execution_count": 15,
   "metadata": {},
   "outputs": [
    {
     "name": "stdout",
     "output_type": "stream",
     "text": [
      "0\n",
      "0\n",
      "전체 샘플수:  98360\n"
     ]
    }
   ],
   "source": [
    "print(clean_text.count(''))\n",
    "print(clean_headlines.count(''))\n",
    "\n",
    "print(\"전체 샘플수: \", len(data))\n"
   ]
  },
  {
   "cell_type": "markdown",
   "metadata": {},
   "source": []
  },
  {
   "cell_type": "markdown",
   "metadata": {},
   "source": []
  },
  {
   "cell_type": "markdown",
   "metadata": {},
   "source": [
    "### 데이터 전처리하기 (2) 훈련데이터와 테스트데이터 나누기\n"
   ]
  },
  {
   "cell_type": "markdown",
   "metadata": {},
   "source": [
    "#### 샘플의 최대 길이 정하기\n"
   ]
  },
  {
   "cell_type": "code",
   "execution_count": 16,
   "metadata": {},
   "outputs": [
    {
     "name": "stdout",
     "output_type": "stream",
     "text": [
      "텍스트의 최소 길이 : 1\n",
      "텍스트의 최대 길이 : 60\n",
      "텍스트의 평균 길이 : 35.09968483123221\n",
      "헤드라인의 최소 길이 : 1\n",
      "헤드라인의 최대 길이 : 16\n",
      "헤드라인의 평균 길이 : 9.299532330215534\n"
     ]
    },
    {
     "data": {
      "image/png": "[encoded data removed]",
      "text/plain": [
       "<Figure size 640x480 with 2 Axes>"
      ]
     },
     "metadata": {},
     "output_type": "display_data"
    },
    {
     "data": {
      "image/png": "[encoded data removed]",
      "text/plain": [
       "<Figure size 640x480 with 1 Axes>"
      ]
     },
     "metadata": {},
     "output_type": "display_data"
    },
    {
     "data": {
      "image/png": "[encoded data removed]",
      "text/plain": [
       "<Figure size 640x480 with 1 Axes>"
      ]
     },
     "metadata": {},
     "output_type": "display_data"
    }
   ],
   "source": [
    "# 길이 분포 출력\n",
    "import matplotlib.pyplot as plt\n",
    "\n",
    "text_len = [len(s.split()) for s in data['text']]\n",
    "headlines_len = [len(s.split()) for s in data['headlines']]\n",
    "\n",
    "print('텍스트의 최소 길이 : {}'.format(np.min(text_len)))\n",
    "print('텍스트의 최대 길이 : {}'.format(np.max(text_len)))\n",
    "print('텍스트의 평균 길이 : {}'.format(np.mean(text_len)))\n",
    "print('헤드라인의 최소 길이 : {}'.format(np.min(headlines_len)))\n",
    "print('헤드라인의 최대 길이 : {}'.format(np.max(headlines_len)))\n",
    "print('헤드라인의 평균 길이 : {}'.format(np.mean(headlines_len)))\n",
    "\n",
    "plt.subplot(1,2,1)\n",
    "plt.boxplot(text_len)\n",
    "plt.title('text')\n",
    "plt.subplot(1,2,2)\n",
    "plt.boxplot(headlines_len)\n",
    "plt.title('headlines')\n",
    "plt.tight_layout()\n",
    "plt.show()\n",
    "\n",
    "plt.title('text')\n",
    "plt.hist(text_len, bins = 40)\n",
    "plt.xlabel('length of samples')\n",
    "plt.ylabel('number of samples')\n",
    "plt.show()\n",
    "\n",
    "plt.title('headlines')\n",
    "plt.hist(headlines_len, bins = 40)\n",
    "plt.xlabel('length of samples')\n",
    "plt.ylabel('number of samples')\n",
    "plt.show()"
   ]
  },
  {
   "cell_type": "markdown",
   "metadata": {},
   "source": [
    "1 단어로 된 text, headline이 존재하여 확인해 봤더니 ('headlines', 'text') 레코드가 존재하여 삭제하였다."
   ]
  },
  {
   "cell_type": "code",
   "execution_count": 17,
   "metadata": {},
   "outputs": [
    {
     "name": "stdout",
     "output_type": "stream",
     "text": [
      "52 headlines text\n",
      "                                            headlines  \\\n",
      "50  yashwant sinha demands probe into alleged fund...   \n",
      "51  boeing sales cross bn for st time in its yr hi...   \n",
      "52                                          headlines   \n",
      "53  oneplus named bestselling premium smartphone b...   \n",
      "\n",
      "                                                 text  \n",
      "50  former finance minister yashwant sinha tuesday...  \n",
      "51  us based boeing wednesday reported annual sale...  \n",
      "52                                               text  \n",
      "53  oneplus emerged india best selling premium sma...  \n",
      "                                            headlines  \\\n",
      "50  yashwant sinha demands probe into alleged fund...   \n",
      "51  boeing sales cross bn for st time in its yr hi...   \n",
      "53  oneplus named bestselling premium smartphone b...   \n",
      "54  can never look at female body even if naked in...   \n",
      "\n",
      "                                                 text  \n",
      "50  former finance minister yashwant sinha tuesday...  \n",
      "51  us based boeing wednesday reported annual sale...  \n",
      "53  oneplus emerged india best selling premium sma...  \n",
      "54  filmmaker pooja bhatt talking presentation wom...  \n"
     ]
    }
   ],
   "source": [
    "for i, s in enumerate(data['text']):\n",
    "    if len(s.split()) < 5:\n",
    "        print(i, data.loc[i, \"headlines\"], data.loc[i, \"text\"])\n",
    "\n",
    "print(data.iloc[50:54])\n",
    "data = data.drop(52, axis = 0)\n",
    "print(data.iloc[50:54])"
   ]
  },
  {
   "cell_type": "code",
   "execution_count": 18,
   "metadata": {},
   "outputs": [
    {
     "name": "stdout",
     "output_type": "stream",
     "text": [
      "=3\n"
     ]
    }
   ],
   "source": [
    "text_max_len = 60\n",
    "headlines_max_len = 12\n",
    "print('=3')"
   ]
  },
  {
   "cell_type": "markdown",
   "metadata": {},
   "source": [
    "데이터의 몇 %가 해당하는지 계산하는 함수"
   ]
  },
  {
   "cell_type": "code",
   "execution_count": 19,
   "metadata": {},
   "outputs": [
    {
     "name": "stdout",
     "output_type": "stream",
     "text": [
      "=3\n"
     ]
    }
   ],
   "source": [
    "def below_threshold_len(max_len, nested_list):\n",
    "  cnt = 0\n",
    "  for s in nested_list:\n",
    "    if(len(s.split()) <= max_len):\n",
    "        cnt = cnt + 1\n",
    "  print('전체 샘플 중 길이가 %s 이하인 샘플의 비율: %s'%(max_len, (cnt / len(nested_list))))\n",
    "print('=3')"
   ]
  },
  {
   "cell_type": "code",
   "execution_count": 20,
   "metadata": {},
   "outputs": [
    {
     "name": "stdout",
     "output_type": "stream",
     "text": [
      "전체 샘플 중 길이가 60 이하인 샘플의 비율: 1.0\n",
      "전체 샘플 중 길이가 12 이하인 샘플의 비율: 0.9880336318994704\n"
     ]
    }
   ],
   "source": [
    "below_threshold_len(text_max_len, data['text'])\n",
    "below_threshold_len(headlines_max_len,  data['headlines'])"
   ]
  },
  {
   "cell_type": "markdown",
   "metadata": {},
   "source": [
    "정해진 길이보다 길면 제외하는 방법으로 데이터를 정제\n"
   ]
  },
  {
   "cell_type": "code",
   "execution_count": 21,
   "metadata": {},
   "outputs": [
    {
     "name": "stdout",
     "output_type": "stream",
     "text": [
      "전체 샘플수 : 97182\n"
     ]
    },
    {
     "data": {
      "text/html": [
       "<div>\n",
       "<style scoped>\n",
       "    .dataframe tbody tr th:only-of-type {\n",
       "        vertical-align: middle;\n",
       "    }\n",
       "\n",
       "    .dataframe tbody tr th {\n",
       "        vertical-align: top;\n",
       "    }\n",
       "\n",
       "    .dataframe thead th {\n",
       "        text-align: right;\n",
       "    }\n",
       "</style>\n",
       "<table border=\"1\" class=\"dataframe\">\n",
       "  <thead>\n",
       "    <tr style=\"text-align: right;\">\n",
       "      <th></th>\n",
       "      <th>headlines</th>\n",
       "      <th>text</th>\n",
       "    </tr>\n",
       "  </thead>\n",
       "  <tbody>\n",
       "    <tr>\n",
       "      <th>0</th>\n",
       "      <td>upgrad learner switches to career in ml al wit...</td>\n",
       "      <td>saurav kant alumnus upgrad iiit pg program mac...</td>\n",
       "    </tr>\n",
       "    <tr>\n",
       "      <th>1</th>\n",
       "      <td>delhi techie wins free food from swiggy for on...</td>\n",
       "      <td>kunal shah credit card bill payment platform c...</td>\n",
       "    </tr>\n",
       "    <tr>\n",
       "      <th>2</th>\n",
       "      <td>new zealand end rohit sharma led india match w...</td>\n",
       "      <td>new zealand defeated india wickets fourth odi ...</td>\n",
       "    </tr>\n",
       "    <tr>\n",
       "      <th>3</th>\n",
       "      <td>aegon life iterm insurance plan helps customer...</td>\n",
       "      <td>aegon life iterm insurance plan customers enjo...</td>\n",
       "    </tr>\n",
       "    <tr>\n",
       "      <th>5</th>\n",
       "      <td>rahat fateh ali khan denies getting notice for...</td>\n",
       "      <td>pakistani singer rahat fateh ali khan denied r...</td>\n",
       "    </tr>\n",
       "  </tbody>\n",
       "</table>\n",
       "</div>"
      ],
      "text/plain": [
       "                                           headlines  \\\n",
       "0  upgrad learner switches to career in ml al wit...   \n",
       "1  delhi techie wins free food from swiggy for on...   \n",
       "2  new zealand end rohit sharma led india match w...   \n",
       "3  aegon life iterm insurance plan helps customer...   \n",
       "5  rahat fateh ali khan denies getting notice for...   \n",
       "\n",
       "                                                text  \n",
       "0  saurav kant alumnus upgrad iiit pg program mac...  \n",
       "1  kunal shah credit card bill payment platform c...  \n",
       "2  new zealand defeated india wickets fourth odi ...  \n",
       "3  aegon life iterm insurance plan customers enjo...  \n",
       "5  pakistani singer rahat fateh ali khan denied r...  "
      ]
     },
     "execution_count": 21,
     "metadata": {},
     "output_type": "execute_result"
    }
   ],
   "source": [
    "# data = data[data.apply(lambda x: len(x['Text'].split()) <= text_max_len \n",
    "#     & data.apply(lambda x: len(x['Summary'].split())) <= summary_max_len)]\n",
    "data = data[data['text'].apply(lambda x: len(x.split()) <= text_max_len) & \n",
    "            data['headlines'].apply(lambda x: len(x.split()) <= headlines_max_len)]\n",
    "\n",
    "print('전체 샘플수 :', (len(data)))\n",
    "data.head()"
   ]
  },
  {
   "cell_type": "markdown",
   "metadata": {},
   "source": [
    "#### 디코더 인풋/타겟에 시작 토큰과 종료 토큰 추가하기\n"
   ]
  },
  {
   "cell_type": "code",
   "execution_count": 22,
   "metadata": {},
   "outputs": [
    {
     "data": {
      "text/html": [
       "<div>\n",
       "<style scoped>\n",
       "    .dataframe tbody tr th:only-of-type {\n",
       "        vertical-align: middle;\n",
       "    }\n",
       "\n",
       "    .dataframe tbody tr th {\n",
       "        vertical-align: top;\n",
       "    }\n",
       "\n",
       "    .dataframe thead th {\n",
       "        text-align: right;\n",
       "    }\n",
       "</style>\n",
       "<table border=\"1\" class=\"dataframe\">\n",
       "  <thead>\n",
       "    <tr style=\"text-align: right;\">\n",
       "      <th></th>\n",
       "      <th>headlines</th>\n",
       "      <th>text</th>\n",
       "      <th>decoder_input</th>\n",
       "      <th>decoder_target</th>\n",
       "    </tr>\n",
       "  </thead>\n",
       "  <tbody>\n",
       "    <tr>\n",
       "      <th>0</th>\n",
       "      <td>upgrad learner switches to career in ml al wit...</td>\n",
       "      <td>saurav kant alumnus upgrad iiit pg program mac...</td>\n",
       "      <td>sostoken upgrad learner switches to career in ...</td>\n",
       "      <td>upgrad learner switches to career in ml al wit...</td>\n",
       "    </tr>\n",
       "    <tr>\n",
       "      <th>1</th>\n",
       "      <td>delhi techie wins free food from swiggy for on...</td>\n",
       "      <td>kunal shah credit card bill payment platform c...</td>\n",
       "      <td>sostoken delhi techie wins free food from swig...</td>\n",
       "      <td>delhi techie wins free food from swiggy for on...</td>\n",
       "    </tr>\n",
       "    <tr>\n",
       "      <th>2</th>\n",
       "      <td>new zealand end rohit sharma led india match w...</td>\n",
       "      <td>new zealand defeated india wickets fourth odi ...</td>\n",
       "      <td>sostoken new zealand end rohit sharma led indi...</td>\n",
       "      <td>new zealand end rohit sharma led india match w...</td>\n",
       "    </tr>\n",
       "    <tr>\n",
       "      <th>3</th>\n",
       "      <td>aegon life iterm insurance plan helps customer...</td>\n",
       "      <td>aegon life iterm insurance plan customers enjo...</td>\n",
       "      <td>sostoken aegon life iterm insurance plan helps...</td>\n",
       "      <td>aegon life iterm insurance plan helps customer...</td>\n",
       "    </tr>\n",
       "    <tr>\n",
       "      <th>5</th>\n",
       "      <td>rahat fateh ali khan denies getting notice for...</td>\n",
       "      <td>pakistani singer rahat fateh ali khan denied r...</td>\n",
       "      <td>sostoken rahat fateh ali khan denies getting n...</td>\n",
       "      <td>rahat fateh ali khan denies getting notice for...</td>\n",
       "    </tr>\n",
       "  </tbody>\n",
       "</table>\n",
       "</div>"
      ],
      "text/plain": [
       "                                           headlines  \\\n",
       "0  upgrad learner switches to career in ml al wit...   \n",
       "1  delhi techie wins free food from swiggy for on...   \n",
       "2  new zealand end rohit sharma led india match w...   \n",
       "3  aegon life iterm insurance plan helps customer...   \n",
       "5  rahat fateh ali khan denies getting notice for...   \n",
       "\n",
       "                                                text  \\\n",
       "0  saurav kant alumnus upgrad iiit pg program mac...   \n",
       "1  kunal shah credit card bill payment platform c...   \n",
       "2  new zealand defeated india wickets fourth odi ...   \n",
       "3  aegon life iterm insurance plan customers enjo...   \n",
       "5  pakistani singer rahat fateh ali khan denied r...   \n",
       "\n",
       "                                       decoder_input  \\\n",
       "0  sostoken upgrad learner switches to career in ...   \n",
       "1  sostoken delhi techie wins free food from swig...   \n",
       "2  sostoken new zealand end rohit sharma led indi...   \n",
       "3  sostoken aegon life iterm insurance plan helps...   \n",
       "5  sostoken rahat fateh ali khan denies getting n...   \n",
       "\n",
       "                                      decoder_target  \n",
       "0  upgrad learner switches to career in ml al wit...  \n",
       "1  delhi techie wins free food from swiggy for on...  \n",
       "2  new zealand end rohit sharma led india match w...  \n",
       "3  aegon life iterm insurance plan helps customer...  \n",
       "5  rahat fateh ali khan denies getting notice for...  "
      ]
     },
     "execution_count": 22,
     "metadata": {},
     "output_type": "execute_result"
    }
   ],
   "source": [
    "# 요약 데이터에는 시작 토큰과 종료 토큰을 추가한다.\n",
    "data['decoder_input'] = data['headlines'].apply(lambda x : 'sostoken '+ x)\n",
    "data['decoder_target'] = data['headlines'].apply(lambda x : x + ' eostoken')\n",
    "data.head()"
   ]
  },
  {
   "cell_type": "markdown",
   "metadata": {},
   "source": [
    "디코더의 입력과 레이블을 각각 다시 Numpy 타입으로 저장"
   ]
  },
  {
   "cell_type": "code",
   "execution_count": 23,
   "metadata": {},
   "outputs": [
    {
     "name": "stdout",
     "output_type": "stream",
     "text": [
      "=3\n"
     ]
    }
   ],
   "source": [
    "encoder_input = np.array(data['text']) # 인코더의 입력\n",
    "decoder_input = np.array(data['decoder_input']) # 디코더의 입력\n",
    "decoder_target = np.array(data['decoder_target']) # 디코더의 레이블\n",
    "print('=3')"
   ]
  },
  {
   "cell_type": "markdown",
   "metadata": {},
   "source": [
    "훈련 데이터와 테스트 데이터를 분리"
   ]
  },
  {
   "cell_type": "code",
   "execution_count": 24,
   "metadata": {},
   "outputs": [
    {
     "data": {
      "text/plain": [
       "(97182,)"
      ]
     },
     "execution_count": 24,
     "metadata": {},
     "output_type": "execute_result"
    }
   ],
   "source": [
    "encoder_input.shape"
   ]
  },
  {
   "cell_type": "code",
   "execution_count": 25,
   "metadata": {},
   "outputs": [
    {
     "name": "stdout",
     "output_type": "stream",
     "text": [
      "[71200 79693 53646 ... 77121 36214 31529]\n"
     ]
    }
   ],
   "source": [
    "indices = np.arange(encoder_input.shape[0])\n",
    "np.random.shuffle(indices)\n",
    "print(indices)"
   ]
  },
  {
   "cell_type": "code",
   "execution_count": 26,
   "metadata": {},
   "outputs": [
    {
     "name": "stdout",
     "output_type": "stream",
     "text": [
      "=3\n"
     ]
    }
   ],
   "source": [
    "encoder_input = encoder_input[indices]\n",
    "decoder_input = decoder_input[indices]\n",
    "decoder_target = decoder_target[indices]\n",
    "print('=3')"
   ]
  },
  {
   "cell_type": "markdown",
   "metadata": {},
   "source": [
    "섞인 데이터를 8:2의 비율로 훈련 데이터와 테스트 데이터로 분리"
   ]
  },
  {
   "cell_type": "code",
   "execution_count": 27,
   "metadata": {},
   "outputs": [
    {
     "name": "stdout",
     "output_type": "stream",
     "text": [
      "테스트 데이터의 수 : 19436\n"
     ]
    }
   ],
   "source": [
    "n_of_val = int(len(encoder_input)*0.2)\n",
    "print('테스트 데이터의 수 :', n_of_val)"
   ]
  },
  {
   "cell_type": "code",
   "execution_count": 28,
   "metadata": {},
   "outputs": [
    {
     "name": "stdout",
     "output_type": "stream",
     "text": [
      "훈련 데이터의 개수 : 77746\n",
      "훈련 레이블의 개수 : 77746\n",
      "테스트 데이터의 개수 : 19436\n",
      "테스트 레이블의 개수 : 19436\n"
     ]
    }
   ],
   "source": [
    "encoder_input_train = encoder_input[:-n_of_val]\n",
    "decoder_input_train = decoder_input[:-n_of_val]\n",
    "decoder_target_train = decoder_target[:-n_of_val]\n",
    "\n",
    "encoder_input_test = encoder_input[-n_of_val:]\n",
    "decoder_input_test = decoder_input[-n_of_val:]\n",
    "decoder_target_test = decoder_target[-n_of_val:]\n",
    "\n",
    "print('훈련 데이터의 개수 :', len(encoder_input_train))\n",
    "print('훈련 레이블의 개수 :', len(decoder_input_train))\n",
    "print('테스트 데이터의 개수 :', len(encoder_input_test))\n",
    "print('테스트 레이블의 개수 :', len(decoder_input_test))"
   ]
  },
  {
   "cell_type": "markdown",
   "metadata": {},
   "source": [
    "### 데이터 전처리하기 (3) 정수 인코딩\n",
    "\n",
    "#### 단어 집합(vocabulary) 만들기 및 정수 인코딩\n"
   ]
  },
  {
   "cell_type": "code",
   "execution_count": 29,
   "metadata": {},
   "outputs": [
    {
     "name": "stdout",
     "output_type": "stream",
     "text": [
      "=3\n"
     ]
    }
   ],
   "source": [
    "src_tokenizer = Tokenizer() # 토크나이저 정의\n",
    "src_tokenizer.fit_on_texts(encoder_input_train) # 입력된 데이터로부터 단어 집합 생성\n",
    "print('=3')"
   ]
  },
  {
   "cell_type": "markdown",
   "metadata": {},
   "source": [
    "등장 빈도수가 7회 미만인 단어들이 이 데이터에서 얼만큼의 비중을 차지하는지 확인\n",
    "\n",
    "```src_tokenizer.word_counts.items()```에는 단어와 각 단어의 등장 빈도수가 저장돼 있는데, 이를 통해서 통계적인 정보를 얻을 수 있다."
   ]
  },
  {
   "cell_type": "code",
   "execution_count": 30,
   "metadata": {},
   "outputs": [
    {
     "name": "stdout",
     "output_type": "stream",
     "text": [
      "단어 집합(vocabulary)의 크기 : 69206\n",
      "등장 빈도가 7번 이하인 희귀 단어의 수: 48626\n",
      "단어 집합에서 희귀 단어를 제외시킬 경우의 단어 집합의 크기 20580\n",
      "단어 집합에서 희귀 단어의 비율: 70.26269398607057\n",
      "전체 등장 빈도에서 희귀 단어 등장 빈도 비율: 3.892523434669574\n"
     ]
    }
   ],
   "source": [
    "threshold = 8\n",
    "total_cnt = len(src_tokenizer.word_index) # 단어의 수\n",
    "rare_cnt = 0 # 등장 빈도수가 threshold보다 작은 단어의 개수를 카운트\n",
    "total_freq = 0 # 훈련 데이터의 전체 단어 빈도수 총 합\n",
    "rare_freq = 0 # 등장 빈도수가 threshold보다 작은 단어의 등장 빈도수의 총 합\n",
    "\n",
    "# 단어와 빈도수의 쌍(pair)을 key와 value로 받는다.\n",
    "for key, value in src_tokenizer.word_counts.items():\n",
    "    total_freq = total_freq + value\n",
    "\n",
    "    # 단어의 등장 빈도수가 threshold보다 작으면\n",
    "    if(value < threshold):\n",
    "        rare_cnt = rare_cnt + 1\n",
    "        rare_freq = rare_freq + value\n",
    "\n",
    "print('단어 집합(vocabulary)의 크기 :', total_cnt)\n",
    "print('등장 빈도가 %s번 이하인 희귀 단어의 수: %s'%(threshold - 1, rare_cnt))\n",
    "print('단어 집합에서 희귀 단어를 제외시킬 경우의 단어 집합의 크기 %s'%(total_cnt - rare_cnt))\n",
    "print(\"단어 집합에서 희귀 단어의 비율:\", (rare_cnt / total_cnt)*100)\n",
    "print(\"전체 등장 빈도에서 희귀 단어 등장 빈도 비율:\", (rare_freq / total_freq)*100)"
   ]
  },
  {
   "cell_type": "markdown",
   "metadata": {},
   "source": [
    "등장 빈도가 threshold 값인 8회 미만, 즉 7회 이하인 단어들은 단어 집합에서 74% 이상을 차지한다. 하지만 실제로 훈련 데이터에서 등장 빈도로 차지하는 비중은 3.05%밖에 되지 않는다.\n",
    "\n",
    "그래서 등장 빈도가 6회 이하인 단어들은 정수 인코딩 과정에서 빼고, 훈련 데이터에서 제거하고자 한다. 단어 집합의 크기를 22000개로 제한한다. "
   ]
  },
  {
   "cell_type": "code",
   "execution_count": 31,
   "metadata": {},
   "outputs": [
    {
     "name": "stdout",
     "output_type": "stream",
     "text": [
      "=3\n"
     ]
    }
   ],
   "source": [
    "src_vocab = 22000\n",
    "src_tokenizer = Tokenizer(num_words=src_vocab) # 단어 집합의 크기를 22,000으로 제한\n",
    "src_tokenizer.fit_on_texts(encoder_input_train) # 단어 집합 재생성\n",
    "print('=3')"
   ]
  },
  {
   "cell_type": "markdown",
   "metadata": {},
   "source": [
    "```texts_to_sequences()```는 생성된 단어 집합에 기반하여 입력으로 주어진 텍스트 데이터의 단어들을 모두 정수로 변환하는 정수 인코딩을 수행한다. 단어 집합의 크기를 22,000으로 제한했으므로 22,000이 넘는 숫자들은 정수 인코딩 후에는 데이터에 존재하지 않는다."
   ]
  },
  {
   "cell_type": "code",
   "execution_count": 32,
   "metadata": {},
   "outputs": [
    {
     "name": "stdout",
     "output_type": "stream",
     "text": [
      "[[135, 545, 38, 1813, 56, 7204, 16, 1110, 5250, 8263, 6513, 3661, 155, 545, 3, 13, 38, 1813, 63, 7204, 8263, 545, 1251, 685, 1110, 3952, 2154, 58, 1105, 3926, 55, 528, 1481, 135, 545, 2486], [270, 1757, 961, 5347, 8660, 13327, 196, 162, 1057, 15317, 3004, 424, 221, 68, 440, 8660, 3295, 6684, 1028, 117, 1444, 3, 1699, 17427, 2388, 2257, 7719, 65, 310, 17, 58, 1552, 9997, 301, 525, 106], [417, 419, 2432, 6357, 174, 481, 14748, 7603, 833, 150, 167, 59, 1888, 9, 1, 146, 77, 233, 541, 2140, 18316, 67, 3684, 461, 2384, 12171, 7603, 601, 452, 1758, 176]]\n"
     ]
    }
   ],
   "source": [
    "# 텍스트 시퀀스를 정수 시퀀스로 변환\n",
    "encoder_input_train = src_tokenizer.texts_to_sequences(encoder_input_train) \n",
    "encoder_input_test = src_tokenizer.texts_to_sequences(encoder_input_test)\n",
    "\n",
    "# 잘 진행되었는지 샘플 출력\n",
    "print(encoder_input_train[:3])"
   ]
  },
  {
   "cell_type": "markdown",
   "metadata": {},
   "source": [
    "headlines 데이터에 대해서도 동일한 작업을 수행"
   ]
  },
  {
   "cell_type": "code",
   "execution_count": 33,
   "metadata": {},
   "outputs": [
    {
     "name": "stdout",
     "output_type": "stream",
     "text": [
      "=3\n"
     ]
    }
   ],
   "source": [
    "tar_tokenizer = Tokenizer()\n",
    "tar_tokenizer.fit_on_texts(decoder_input_train)\n",
    "print('=3')"
   ]
  },
  {
   "cell_type": "markdown",
   "metadata": {},
   "source": [
    "target token의 통계 정보를 얻어서 등장 빈도수가 7회 미만인 단어들의 데이터 내 비중을 확인한다.\n",
    "- ```tar_tokenizer.word_counts.items()```에 단어와 각 단어의 등장 빈도수가 저장되어 있다."
   ]
  },
  {
   "cell_type": "code",
   "execution_count": 34,
   "metadata": {},
   "outputs": [
    {
     "name": "stdout",
     "output_type": "stream",
     "text": [
      "단어 집합(vocabulary)의 크기 : 30030\n",
      "등장 빈도가 5번 이하인 희귀 단어의 수: 19644\n",
      "단어 집합에서 희귀 단어를 제외시킬 경우의 단어 집합의 크기 10386\n",
      "단어 집합에서 희귀 단어의 비율: 65.41458541458542\n",
      "전체 등장 빈도에서 희귀 단어 등장 빈도 비율: 4.713903122824403\n"
     ]
    }
   ],
   "source": [
    "threshold = 6\n",
    "total_cnt = len(tar_tokenizer.word_index) # 단어의 수\n",
    "rare_cnt = 0 # 등장 빈도수가 threshold보다 작은 단어의 개수를 카운트\n",
    "total_freq = 0 # 훈련 데이터의 전체 단어 빈도수 총 합\n",
    "rare_freq = 0 # 등장 빈도수가 threshold보다 작은 단어의 등장 빈도수의 총 합\n",
    "\n",
    "# 단어와 빈도수의 쌍(pair)을 key와 value로 받는다.\n",
    "for key, value in tar_tokenizer.word_counts.items():\n",
    "    total_freq = total_freq + value\n",
    "\n",
    "    # 단어의 등장 빈도수가 threshold보다 작으면\n",
    "    if(value < threshold):\n",
    "        rare_cnt = rare_cnt + 1\n",
    "        rare_freq = rare_freq + value\n",
    "\n",
    "print('단어 집합(vocabulary)의 크기 :', total_cnt)\n",
    "print('등장 빈도가 %s번 이하인 희귀 단어의 수: %s'%(threshold - 1, rare_cnt))\n",
    "print('단어 집합에서 희귀 단어를 제외시킬 경우의 단어 집합의 크기 %s'%(total_cnt - rare_cnt))\n",
    "print(\"단어 집합에서 희귀 단어의 비율:\", (rare_cnt / total_cnt)*100)\n",
    "print(\"전체 등장 빈도에서 희귀 단어 등장 빈도 비율:\", (rare_freq / total_freq)*100)"
   ]
  },
  {
   "cell_type": "markdown",
   "metadata": {},
   "source": [
    "등장 빈도가 2회 이하인 단어들은 단어 집합에서 약 57%를 차지한다. 하지만 실제로 훈련 데이터에서 등장 빈도로 차지하는 비중은  3.46%밖에 되지 않는다. 이 단어들은 모두 제거하고. 단어 집합의 크기를 17000개로 제한한다.\n",
    "- headline의 특성상 등장 빈도가 낮은 단어가 아마존 예에서 보다 적다.\n",
    "- target 단어수가 많아지면 어떤 영향이 있을까?"
   ]
  },
  {
   "cell_type": "code",
   "execution_count": 35,
   "metadata": {},
   "outputs": [
    {
     "name": "stdout",
     "output_type": "stream",
     "text": [
      "input\n",
      "input  [[1, 711, 604, 5, 10388, 107, 16, 711, 7, 5190], [1, 258, 1006, 1265, 4363, 399, 259, 938], [1, 340, 315, 3140, 313, 694, 3, 3378, 8753, 14, 330, 322], [1, 900, 247, 880, 29, 1528], [1, 587, 125, 1378, 252, 6456, 3, 521, 44, 1291]]\n",
      "target\n",
      "decoder  [[711, 604, 5, 10388, 107, 16, 711, 7, 5190, 2], [258, 1006, 1265, 4363, 399, 259, 938, 2], [340, 315, 3140, 313, 694, 3, 3378, 8753, 14, 330, 322, 2], [900, 247, 880, 29, 1528, 2], [587, 125, 1378, 252, 6456, 3, 521, 44, 1291, 2]]\n"
     ]
    }
   ],
   "source": [
    "#tar_vocab = 10000\n",
    "#tar_vocab = 5000\n",
    "#tar_vocab = 2000\n",
    "#tar_vocab = 1000\n",
    "#tar_vocab = 500\n",
    "tar_vocab = 11000\n",
    "tar_tokenizer = Tokenizer(num_words=tar_vocab) \n",
    "tar_tokenizer.fit_on_texts(decoder_input_train)\n",
    "tar_tokenizer.fit_on_texts(decoder_target_train)\n",
    "\n",
    "# 텍스트 시퀀스를 정수 시퀀스로 변환\n",
    "decoder_input_train = tar_tokenizer.texts_to_sequences(decoder_input_train) \n",
    "decoder_target_train = tar_tokenizer.texts_to_sequences(decoder_target_train)\n",
    "decoder_input_test = tar_tokenizer.texts_to_sequences(decoder_input_test)\n",
    "decoder_target_test = tar_tokenizer.texts_to_sequences(decoder_target_test)\n",
    "\n",
    "# 잘 변환되었는지 확인\n",
    "print('input')\n",
    "print('input ',decoder_input_train[:5])\n",
    "print('target')\n",
    "print('decoder ',decoder_target_train[:5])"
   ]
  },
  {
   "cell_type": "markdown",
   "metadata": {},
   "source": []
  },
  {
   "cell_type": "markdown",
   "metadata": {},
   "source": [
    "요약문에서 길이가 0이 된 샘플들의 데이터를 지운다.\n",
    "- decoder_input에는 sostoken 또는 decoder_target에는 eostoken이 추가된 상태\n",
    "- 길이가 0이 된 요약문의 실제 길이는 1로 나온다.\n",
    "- 훈련 데이터와 테스트 데이터에 대해서 요약문의 길이가 1인 경우의 인덱스를 각각 drop_train과 drop_test 변수에 저장하고 이 샘플들은 모두 삭제할 거예요."
   ]
  },
  {
   "cell_type": "code",
   "execution_count": 36,
   "metadata": {},
   "outputs": [
    {
     "name": "stdout",
     "output_type": "stream",
     "text": [
      "삭제할 훈련 데이터의 개수 : 0\n",
      "삭제할 테스트 데이터의 개수 : 0\n",
      "훈련 데이터의 개수 : 77746\n",
      "훈련 레이블의 개수 : 77746\n",
      "테스트 데이터의 개수 : 19436\n",
      "테스트 레이블의 개수 : 19436\n"
     ]
    }
   ],
   "source": [
    "drop_train = [index for index, sentence in enumerate(decoder_input_train) if len(sentence) == 1]\n",
    "drop_test = [index for index, sentence in enumerate(decoder_input_test) if len(sentence) == 1]\n",
    "\n",
    "print('삭제할 훈련 데이터의 개수 :', len(drop_train))\n",
    "print('삭제할 테스트 데이터의 개수 :', len(drop_test))\n",
    "\n",
    "encoder_input_train = [sentence for index, sentence in enumerate(encoder_input_train) if index not in drop_train]\n",
    "decoder_input_train = [sentence for index, sentence in enumerate(decoder_input_train) if index not in drop_train]\n",
    "decoder_target_train = [sentence for index, sentence in enumerate(decoder_target_train) if index not in drop_train]\n",
    "\n",
    "encoder_input_test = [sentence for index, sentence in enumerate(encoder_input_test) if index not in drop_test]\n",
    "decoder_input_test = [sentence for index, sentence in enumerate(decoder_input_test) if index not in drop_test]\n",
    "decoder_target_test = [sentence for index, sentence in enumerate(decoder_target_test) if index not in drop_test]\n",
    "\n",
    "print('훈련 데이터의 개수 :', len(encoder_input_train))\n",
    "print('훈련 레이블의 개수 :', len(decoder_input_train))\n",
    "print('테스트 데이터의 개수 :', len(encoder_input_test))\n",
    "print('테스트 레이블의 개수 :', len(decoder_input_test))"
   ]
  },
  {
   "cell_type": "markdown",
   "metadata": {},
   "source": [
    "#### 패딩하기\n",
    "\n",
    "서로 다른 길이의 샘플들을 병렬 처리하기 위해 같은 길이로 맞춰주는 패딩 작업 시행"
   ]
  },
  {
   "cell_type": "code",
   "execution_count": 37,
   "metadata": {},
   "outputs": [
    {
     "name": "stdout",
     "output_type": "stream",
     "text": [
      "=3\n"
     ]
    }
   ],
   "source": [
    "encoder_input_train = pad_sequences(encoder_input_train, maxlen=text_max_len, padding='post')\n",
    "encoder_input_test = pad_sequences(encoder_input_test, maxlen=text_max_len, padding='post')\n",
    "decoder_input_train = pad_sequences(decoder_input_train, maxlen=headlines_max_len, padding='post')\n",
    "decoder_target_train = pad_sequences(decoder_target_train, maxlen=headlines_max_len, padding='post')\n",
    "decoder_input_test = pad_sequences(decoder_input_test, maxlen=headlines_max_len, padding='post')\n",
    "decoder_target_test = pad_sequences(decoder_target_test, maxlen=headlines_max_len, padding='post')\n",
    "print('=3')"
   ]
  },
  {
   "cell_type": "markdown",
   "metadata": {},
   "source": [
    "## Step 3. 모델 설계하기"
   ]
  },
  {
   "cell_type": "markdown",
   "metadata": {},
   "source": [
    "### 인코더"
   ]
  },
  {
   "cell_type": "code",
   "execution_count": 38,
   "metadata": {},
   "outputs": [
    {
     "name": "stdout",
     "output_type": "stream",
     "text": [
      "INFO:tensorflow:Using MirroredStrategy with devices ('/job:localhost/replica:0/task:0/device:GPU:0', '/job:localhost/replica:0/task:0/device:GPU:1')\n"
     ]
    },
    {
     "name": "stderr",
     "output_type": "stream",
     "text": [
      "2023-11-23 07:06:23.367895: I external/local_xla/xla/stream_executor/cuda/cuda_executor.cc:887] could not open file to read NUMA node: /sys/bus/pci/devices/0000:0a:00.0/numa_node\n",
      "Your kernel may have been built without NUMA support.\n",
      "2023-11-23 07:06:23.367983: I external/local_xla/xla/stream_executor/cuda/cuda_executor.cc:887] could not open file to read NUMA node: /sys/bus/pci/devices/0000:0b:00.0/numa_node\n",
      "Your kernel may have been built without NUMA support.\n",
      "2023-11-23 07:06:23.559119: I external/local_xla/xla/stream_executor/cuda/cuda_executor.cc:887] could not open file to read NUMA node: /sys/bus/pci/devices/0000:0a:00.0/numa_node\n",
      "Your kernel may have been built without NUMA support.\n",
      "2023-11-23 07:06:23.559188: I external/local_xla/xla/stream_executor/cuda/cuda_executor.cc:887] could not open file to read NUMA node: /sys/bus/pci/devices/0000:0b:00.0/numa_node\n",
      "Your kernel may have been built without NUMA support.\n",
      "2023-11-23 07:06:23.559221: I external/local_xla/xla/stream_executor/cuda/cuda_executor.cc:887] could not open file to read NUMA node: /sys/bus/pci/devices/0000:0a:00.0/numa_node\n",
      "Your kernel may have been built without NUMA support.\n",
      "2023-11-23 07:06:23.559255: I external/local_xla/xla/stream_executor/cuda/cuda_executor.cc:887] could not open file to read NUMA node: /sys/bus/pci/devices/0000:0b:00.0/numa_node\n",
      "Your kernel may have been built without NUMA support.\n",
      "2023-11-23 07:06:23.941281: I external/local_xla/xla/stream_executor/cuda/cuda_executor.cc:887] could not open file to read NUMA node: /sys/bus/pci/devices/0000:0a:00.0/numa_node\n",
      "Your kernel may have been built without NUMA support.\n",
      "2023-11-23 07:06:23.941347: I external/local_xla/xla/stream_executor/cuda/cuda_executor.cc:887] could not open file to read NUMA node: /sys/bus/pci/devices/0000:0b:00.0/numa_node\n",
      "Your kernel may have been built without NUMA support.\n",
      "2023-11-23 07:06:23.941382: I external/local_xla/xla/stream_executor/cuda/cuda_executor.cc:887] could not open file to read NUMA node: /sys/bus/pci/devices/0000:0a:00.0/numa_node\n",
      "Your kernel may have been built without NUMA support.\n",
      "2023-11-23 07:06:23.941412: I external/local_xla/xla/stream_executor/cuda/cuda_executor.cc:887] could not open file to read NUMA node: /sys/bus/pci/devices/0000:0b:00.0/numa_node\n",
      "Your kernel may have been built without NUMA support.\n",
      "2023-11-23 07:06:23.941439: I external/local_xla/xla/stream_executor/cuda/cuda_executor.cc:887] could not open file to read NUMA node: /sys/bus/pci/devices/0000:0a:00.0/numa_node\n",
      "Your kernel may have been built without NUMA support.\n",
      "2023-11-23 07:06:23.941465: I external/local_xla/xla/stream_executor/cuda/cuda_executor.cc:887] could not open file to read NUMA node: /sys/bus/pci/devices/0000:0b:00.0/numa_node\n",
      "Your kernel may have been built without NUMA support.\n",
      "2023-11-23 07:06:23.950703: I external/local_xla/xla/stream_executor/cuda/cuda_executor.cc:887] could not open file to read NUMA node: /sys/bus/pci/devices/0000:0a:00.0/numa_node\n",
      "Your kernel may have been built without NUMA support.\n",
      "2023-11-23 07:06:23.950827: I external/local_xla/xla/stream_executor/cuda/cuda_executor.cc:887] could not open file to read NUMA node: /sys/bus/pci/devices/0000:0b:00.0/numa_node\n",
      "Your kernel may have been built without NUMA support.\n",
      "2023-11-23 07:06:23.950876: I external/local_xla/xla/stream_executor/cuda/cuda_executor.cc:887] could not open file to read NUMA node: /sys/bus/pci/devices/0000:0a:00.0/numa_node\n",
      "Your kernel may have been built without NUMA support.\n",
      "2023-11-23 07:06:23.950883: I tensorflow/core/common_runtime/gpu/gpu_device.cc:2022] Could not identify NUMA node of platform GPU id 0, defaulting to 0.  Your kernel may not have been built with NUMA support.\n",
      "2023-11-23 07:06:23.950919: I external/local_xla/xla/stream_executor/cuda/cuda_executor.cc:887] could not open file to read NUMA node: /sys/bus/pci/devices/0000:0b:00.0/numa_node\n",
      "Your kernel may have been built without NUMA support.\n",
      "2023-11-23 07:06:23.950923: I tensorflow/core/common_runtime/gpu/gpu_device.cc:2022] Could not identify NUMA node of platform GPU id 1, defaulting to 0.  Your kernel may not have been built with NUMA support.\n",
      "2023-11-23 07:06:23.950965: I external/local_xla/xla/stream_executor/cuda/cuda_executor.cc:887] could not open file to read NUMA node: /sys/bus/pci/devices/0000:0a:00.0/numa_node\n",
      "Your kernel may have been built without NUMA support.\n",
      "2023-11-23 07:06:23.950982: I tensorflow/core/common_runtime/gpu/gpu_device.cc:1929] Created device /job:localhost/replica:0/task:0/device:GPU:0 with 9071 MB memory:  -> device: 0, name: NVIDIA GeForce RTX 2080 Ti, pci bus id: 0000:0a:00.0, compute capability: 7.5\n",
      "2023-11-23 07:06:23.951249: I external/local_xla/xla/stream_executor/cuda/cuda_executor.cc:887] could not open file to read NUMA node: /sys/bus/pci/devices/0000:0b:00.0/numa_node\n",
      "Your kernel may have been built without NUMA support.\n",
      "2023-11-23 07:06:23.951265: I tensorflow/core/common_runtime/gpu/gpu_device.cc:1929] Created device /job:localhost/replica:0/task:0/device:GPU:1 with 9071 MB memory:  -> device: 1, name: NVIDIA GeForce RTX 2080 Ti, pci bus id: 0000:0b:00.0, compute capability: 7.5\n"
     ]
    }
   ],
   "source": [
    "import tensorflow as tf\n",
    "# strategy = tf.distribute.MirroredStrategy()\n",
    "# print(f\"장치 개수: {strategy.num_replicas_in_sync}\")\n",
    "\n",
    "gpus = tf.config.experimental.list_physical_devices('GPU')\n",
    "if gpus:\n",
    "    try:\n",
    "        # 필요한 경우 메모리 성장을 설정\n",
    "        for gpu in gpus:\n",
    "            tf.config.experimental.set_memory_growth(gpu, True)\n",
    "        \n",
    "        # MirroredStrategy를 사용하여 분산 학습을 설정\n",
    "        strategy = tf.distribute.MirroredStrategy()\n",
    "    except RuntimeError as e:\n",
    "        print(e)\n"
   ]
  },
  {
   "cell_type": "code",
   "execution_count": 39,
   "metadata": {},
   "outputs": [],
   "source": [
    "from tensorflow.keras.layers import Input, LSTM, Embedding, Dense, Concatenate, TimeDistributed\n",
    "from tensorflow.keras.models import Model\n",
    "from tensorflow.keras.callbacks import EarlyStopping, ModelCheckpoint\n",
    "\n",
    "\n",
    "with strategy.scope():\n",
    "\n",
    "    # recurrent drop out\n",
    "    #recurrent_dropout_flag = True\n",
    "    recurrent_dropout_flag = False\n",
    "\n",
    "    # 인코더 설계 시작\n",
    "    embedding_dim = 128\n",
    "    hidden_size = 256\n",
    "\n",
    "    # 인코더\n",
    "    encoder_inputs = Input(shape=(text_max_len,))\n",
    "\n",
    "    # 인코더의 임베딩 층\n",
    "    enc_emb = Embedding(src_vocab, embedding_dim)(encoder_inputs)\n",
    "\n",
    "    # 인코더의 LSTM 1\n",
    "    if recurrent_dropout_flag:\n",
    "        encoder_lstm1 = LSTM(hidden_size, return_sequences=True, return_state=True ,dropout = 0.4, recurrent_dropout = 0.4)\n",
    "    else:\n",
    "        encoder_lstm1 = LSTM(hidden_size, return_sequences=True, return_state=True ,dropout = 0.4)\n",
    "    encoder_output1, state_h1, state_c1 = encoder_lstm1(enc_emb)\n",
    "\n",
    "    # 인코더의 LSTM 2\n",
    "    if recurrent_dropout_flag:\n",
    "        encoder_lstm2 = LSTM(hidden_size, return_sequences=True, return_state=True ,dropout = 0.4, recurrent_dropout = 0.4)\n",
    "    else:\n",
    "        encoder_lstm2 = LSTM(hidden_size, return_sequences=True, return_state=True ,dropout = 0.4)\n",
    "    encoder_output2, state_h2, state_c2 = encoder_lstm2(encoder_output1)\n",
    "\n",
    "    # 인코더의 LSTM 3\n",
    "    if recurrent_dropout_flag:\n",
    "        encoder_lstm3 = LSTM(hidden_size, return_sequences=True, return_state=True ,dropout = 0.4, recurrent_dropout = 0.4)\n",
    "    else:\n",
    "        encoder_lstm3 = LSTM(hidden_size, return_sequences=True, return_state=True ,dropout = 0.4)\n",
    "    encoder_outputs, state_h, state_c = encoder_lstm3(encoder_output2)\n"
   ]
  },
  {
   "cell_type": "markdown",
   "metadata": {},
   "source": [
    "### 디코더"
   ]
  },
  {
   "cell_type": "code",
   "execution_count": 40,
   "metadata": {},
   "outputs": [],
   "source": [
    "with strategy.scope():\n",
    "\n",
    "    # 디코더 설계\n",
    "    decoder_inputs = Input(shape=(None,))\n",
    "\n",
    "    # 디코더의 임베딩 층\n",
    "    dec_emb_layer = Embedding(tar_vocab, embedding_dim)\n",
    "    dec_emb = dec_emb_layer(decoder_inputs)\n",
    "\n",
    "    # 디코더의 LSTM\n",
    "    # decoder_lstm = LSTM(hidden_size, return_sequences=True, return_state=True, dropout=0.4, recurrent_dropout=0.2)\n",
    "    decoder_lstm = LSTM(hidden_size, return_sequences=True, return_state=True, dropout=0.4)\n",
    "    decoder_outputs, _, _ = decoder_lstm(dec_emb, initial_state=[state_h, state_c])"
   ]
  },
  {
   "cell_type": "markdown",
   "metadata": {},
   "source": [
    "디코더의 출력층에서는 Summary의 단어장인 tar_vocab의 수많은 선택지 중 하나의 단어를 선택하는 다중 클래스 분류 문제를 풀어야 한다. 그러므로, Dense의 인자로 tar_vocab을 주고, 활성화 함수로 소프트맥스 함수를 사용한다.\n",
    "\n",
    "\n",
    "### 어텐션 메커니즘\n",
    "\n"
   ]
  },
  {
   "cell_type": "markdown",
   "metadata": {},
   "source": []
  },
  {
   "cell_type": "code",
   "execution_count": 41,
   "metadata": {},
   "outputs": [
    {
     "name": "stdout",
     "output_type": "stream",
     "text": [
      "Model: \"model\"\n",
      "__________________________________________________________________________________________________\n",
      " Layer (type)                Output Shape                 Param #   Connected to                  \n",
      "==================================================================================================\n",
      " input_1 (InputLayer)        [(None, 60)]                 0         []                            \n",
      "                                                                                                  \n",
      " embedding (Embedding)       (None, 60, 128)              2816000   ['input_1[0][0]']             \n",
      "                                                                                                  \n",
      " lstm (LSTM)                 [(None, 60, 256),            394240    ['embedding[0][0]']           \n",
      "                              (None, 256),                                                        \n",
      "                              (None, 256)]                                                        \n",
      "                                                                                                  \n",
      " input_2 (InputLayer)        [(None, None)]               0         []                            \n",
      "                                                                                                  \n",
      " lstm_1 (LSTM)               [(None, 60, 256),            525312    ['lstm[0][0]']                \n",
      "                              (None, 256),                                                        \n",
      "                              (None, 256)]                                                        \n",
      "                                                                                                  \n",
      " embedding_1 (Embedding)     (None, None, 128)            1408000   ['input_2[0][0]']             \n",
      "                                                                                                  \n",
      " lstm_2 (LSTM)               [(None, 60, 256),            525312    ['lstm_1[0][0]']              \n",
      "                              (None, 256),                                                        \n"
     ]
    },
    {
     "name": "stdout",
     "output_type": "stream",
     "text": [
      "                              (None, 256)]                                                        \n",
      "                                                                                                  \n",
      " lstm_3 (LSTM)               [(None, None, 256),          394240    ['embedding_1[0][0]',         \n",
      "                              (None, 256),                           'lstm_2[0][1]',              \n",
      "                              (None, 256)]                           'lstm_2[0][2]']              \n",
      "                                                                                                  \n",
      " attention_layer (AdditiveA  (None, None, 256)            256       ['lstm_3[0][0]',              \n",
      " ttention)                                                           'lstm_2[0][0]']              \n",
      "                                                                                                  \n",
      " concat_layer (Concatenate)  (None, None, 512)            0         ['lstm_3[0][0]',              \n",
      "                                                                     'attention_layer[0][0]']     \n",
      "                                                                                                  \n",
      " dense (Dense)               (None, None, 11000)          5643000   ['concat_layer[0][0]']        \n",
      "                                                                                                  \n",
      "==================================================================================================\n",
      "Total params: 11706360 (44.66 MB)\n",
      "Trainable params: 11706360 (44.66 MB)\n",
      "Non-trainable params: 0 (0.00 Byte)\n",
      "__________________________________________________________________________________________________\n"
     ]
    }
   ],
   "source": [
    "from tensorflow.keras.layers import AdditiveAttention\n",
    "\n",
    "with strategy.scope():\n",
    "\n",
    "    # 어텐션 층(어텐션 함수)\n",
    "    attn_layer = AdditiveAttention(name='attention_layer')\n",
    "\n",
    "    # 인코더와 디코더의 모든 time step의 hidden state를 어텐션 층에 전달하고 결과를 리턴\n",
    "    attn_out = attn_layer([decoder_outputs, encoder_outputs])\n",
    "\n",
    "\n",
    "    # 어텐션의 결과와 디코더의 hidden state들을 연결\n",
    "    decoder_concat_input = Concatenate(axis=-1, name='concat_layer')([decoder_outputs, attn_out])\n",
    "\n",
    "    # 디코더의 출력층\n",
    "    decoder_softmax_layer = Dense(tar_vocab, activation='softmax')\n",
    "    decoder_softmax_outputs = decoder_softmax_layer(decoder_concat_input)\n",
    "\n",
    "    # 모델 정의\n",
    "    model = Model([encoder_inputs, decoder_inputs], decoder_softmax_outputs)\n",
    "    model.summary()"
   ]
  },
  {
   "cell_type": "markdown",
   "metadata": {},
   "source": [
    "위의 코드는 인코더의 hidden state들과 디코더의 hidden state들을 어텐션 함수의 입력으로 사용하고, 어텐션 함수가 리턴한 값을 예측 시에 디코더의 hidden state와 함께 활용하는 형태로 작동하고 있어요."
   ]
  },
  {
   "cell_type": "markdown",
   "metadata": {},
   "source": [
    "### 모델 훈련하기\n",
    "\n",
    "설계한 모델을 가지고 훈련 진행"
   ]
  },
  {
   "cell_type": "code",
   "execution_count": 42,
   "metadata": {},
   "outputs": [
    {
     "name": "stdout",
     "output_type": "stream",
     "text": [
      "Epoch 1/50\n",
      "INFO:tensorflow:Collective all_reduce tensors: 15 all_reduces, num_devices = 2, group_size = 2, implementation = CommunicationImplementation.NCCL, num_packs = 1\n",
      "INFO:tensorflow:Collective all_reduce IndexedSlices: 2 all_reduces, num_devices =2, group_size = 2, implementation = CommunicationImplementation.NCCL\n",
      "INFO:tensorflow:Reduce to /job:localhost/replica:0/task:0/device:CPU:0 then broadcast to ('/job:localhost/replica:0/task:0/device:CPU:0',).\n",
      "INFO:tensorflow:Reduce to /job:localhost/replica:0/task:0/device:CPU:0 then broadcast to ('/job:localhost/replica:0/task:0/device:CPU:0',).\n",
      "INFO:tensorflow:Collective all_reduce tensors: 15 all_reduces, num_devices = 2, group_size = 2, implementation = CommunicationImplementation.NCCL, num_packs = 1\n",
      "INFO:tensorflow:Collective all_reduce IndexedSlices: 2 all_reduces, num_devices =2, group_size = 2, implementation = CommunicationImplementation.NCCL\n",
      "INFO:tensorflow:Reduce to /job:localhost/replica:0/task:0/device:CPU:0 then broadcast to ('/job:localhost/replica:0/task:0/device:CPU:0',).\n",
      "INFO:tensorflow:Reduce to /job:localhost/replica:0/task:0/device:CPU:0 then broadcast to ('/job:localhost/replica:0/task:0/device:CPU:0',).\n"
     ]
    },
    {
     "name": "stderr",
     "output_type": "stream",
     "text": [
      "WARNING: All log messages before absl::InitializeLog() is called are written to STDERR\n",
      "W0000 00:00:1700690790.283738    1172 op_level_cost_estimator.cc:699] Error in PredictCost() for the op: op: \"Softmax\" attr { key: \"T\" value { type: DT_FLOAT } } inputs { dtype: DT_FLOAT shape { unknown_rank: true } } device { type: \"GPU\" vendor: \"NVIDIA\" model: \"NVIDIA GeForce RTX 2080 Ti\" frequency: 1650 num_cores: 68 environment { key: \"architecture\" value: \"7.5\" } environment { key: \"cuda\" value: \"12020\" } environment { key: \"cudnn\" value: \"8904\" } num_registers: 65536 l1_cache_size: 24576 l2_cache_size: 5767168 shared_memory_size_per_multiprocessor: 65536 memory_size: 9511632896 bandwidth: 616000000 } outputs { dtype: DT_FLOAT shape { unknown_rank: true } }\n",
      "W0000 00:00:1700690790.283884    1172 op_level_cost_estimator.cc:699] Error in PredictCost() for the op: op: \"Softmax\" attr { key: \"T\" value { type: DT_FLOAT } } inputs { dtype: DT_FLOAT shape { unknown_rank: true } } device { type: \"GPU\" vendor: \"NVIDIA\" model: \"NVIDIA GeForce RTX 2080 Ti\" frequency: 1650 num_cores: 68 environment { key: \"architecture\" value: \"7.5\" } environment { key: \"cuda\" value: \"12020\" } environment { key: \"cudnn\" value: \"8904\" } num_registers: 65536 l1_cache_size: 24576 l2_cache_size: 5767168 shared_memory_size_per_multiprocessor: 65536 memory_size: 9511632896 bandwidth: 616000000 } outputs { dtype: DT_FLOAT shape { unknown_rank: true } }\n",
      "2023-11-23 07:06:31.315395: I external/local_xla/xla/stream_executor/cuda/cuda_dnn.cc:454] Loaded cuDNN version 8904\n",
      "2023-11-23 07:06:31.318054: I external/local_xla/xla/stream_executor/cuda/cuda_dnn.cc:454] Loaded cuDNN version 8904\n"
     ]
    },
    {
     "ename": "",
     "evalue": "",
     "output_type": "error",
     "traceback": [
      "\u001b[1;31mThe Kernel crashed while executing code in the the current cell or a previous cell. Please review the code in the cell(s) to identify a possible cause of the failure. Click <a href='https://aka.ms/vscodeJupyterKernelCrash'>here</a> for more info. View Jupyter <a href='command:jupyter.viewOutput'>log</a> for further details."
     ]
    }
   ],
   "source": [
    "with strategy.scope():\n",
    "    #model.compile(optimizer='rmsprop', loss='sparse_categorical_crossentropy')\n",
    "    model.compile(optimizer='rmsprop', loss='sparse_categorical_crossentropy')\n",
    "    \n",
    "es = EarlyStopping(monitor='val_loss', patience=2, verbose=1)\n",
    "history = model.fit(x=[encoder_input_train, decoder_input_train], y=decoder_target_train, \\\n",
    "          validation_data=([encoder_input_test, decoder_input_test], decoder_target_test), \\\n",
    "          batch_size=256, callbacks=[es], epochs=50)"
   ]
  },
  {
   "cell_type": "code",
   "execution_count": null,
   "metadata": {},
   "outputs": [
    {
     "data": {
      "image/png": "[encoded data removed]",
      "text/plain": [
       "<Figure size 640x480 with 1 Axes>"
      ]
     },
     "metadata": {},
     "output_type": "display_data"
    }
   ],
   "source": [
    "plt.plot(history.history['loss'], label='train')\n",
    "plt.plot(history.history['val_loss'], label='test')\n",
    "plt.legend()\n",
    "plt.show()"
   ]
  },
  {
   "cell_type": "markdown",
   "metadata": {},
   "source": [
    "## Step 4. 실제 결과와 요약문 비교하기(추상적 요약)\n",
    "\n",
    "테스트 단계에서는 정수 인덱스 행렬로 존재하던 텍스트 데이터를 실제 데이터로 복원해야 하므로, 필요한 3개의 사전을 만든다."
   ]
  },
  {
   "cell_type": "code",
   "execution_count": null,
   "metadata": {},
   "outputs": [
    {
     "name": "stdout",
     "output_type": "stream",
     "text": [
      "=3\n"
     ]
    }
   ],
   "source": [
    "src_index_to_word = src_tokenizer.index_word # 원문 단어 집합에서 정수 -> 단어를 얻음\n",
    "tar_word_to_index = tar_tokenizer.word_index # 요약 단어 집합에서 단어 -> 정수를 얻음\n",
    "tar_index_to_word = tar_tokenizer.index_word # 요약 단어 집합에서 정수 -> 단어를 얻음\n",
    "\n",
    "print('=3')"
   ]
  },
  {
   "cell_type": "markdown",
   "metadata": {},
   "source": [
    "seq2seq는 훈련할 때와 실제 동작할 때(인퍼런스 단계)의 방식이 다르므로 그에 맞게 모델 설계를 별개로 진행해야 한다. \n",
    "정답 문장이 없는 인퍼런스 단계에서는 만들어야 할 문장의 길이만큼 디코더가 반복 구조로 동작해야 하기 때문에 부득이하게 인퍼런스를 위한 모델 설계를 별도로 해주어야 한다. 이때는 인코더 모델과 디코더 모델을 분리해서 설계한다."
   ]
  },
  {
   "cell_type": "markdown",
   "metadata": {},
   "source": []
  },
  {
   "cell_type": "code",
   "execution_count": null,
   "metadata": {},
   "outputs": [
    {
     "name": "stdout",
     "output_type": "stream",
     "text": [
      "=3\n"
     ]
    }
   ],
   "source": [
    "# 인코더 설계\n",
    "encoder_model = Model(inputs=encoder_inputs, outputs=[encoder_outputs, state_h, state_c])\n",
    "\n",
    "# 이전 시점의 상태들을 저장하는 텐서\n",
    "decoder_state_input_h = Input(shape=(hidden_size,))\n",
    "decoder_state_input_c = Input(shape=(hidden_size,))\n",
    "\n",
    "dec_emb2 = dec_emb_layer(decoder_inputs)\n",
    "\n",
    "# 문장의 다음 단어를 예측하기 위해서 초기 상태(initial_state)를 이전 시점의 상태로 사용. 이는 뒤의 함수 decode_sequence()에 구현\n",
    "# 훈련 과정에서와 달리 LSTM의 리턴하는 은닉 상태와 셀 상태인 state_h와 state_c를 버리지 않음.\n",
    "decoder_outputs2, state_h2, state_c2 = decoder_lstm(dec_emb2, initial_state=[decoder_state_input_h, decoder_state_input_c])\n",
    "\n",
    "print('=3')"
   ]
  },
  {
   "cell_type": "markdown",
   "metadata": {},
   "source": [
    "어텐션 메커니즘을 사용하는 출력층을 설계"
   ]
  },
  {
   "cell_type": "code",
   "execution_count": null,
   "metadata": {},
   "outputs": [
    {
     "name": "stdout",
     "output_type": "stream",
     "text": [
      "=3\n"
     ]
    }
   ],
   "source": [
    "# 어텐션 함수\n",
    "decoder_hidden_state_input = Input(shape=(text_max_len, hidden_size))\n",
    "attn_out_inf = attn_layer([decoder_outputs2, decoder_hidden_state_input])\n",
    "decoder_inf_concat = Concatenate(axis=-1, name='concat')([decoder_outputs2, attn_out_inf])\n",
    "\n",
    "# 디코더의 출력층\n",
    "decoder_outputs2 = decoder_softmax_layer(decoder_inf_concat) \n",
    "\n",
    "# 최종 디코더 모델\n",
    "decoder_model = Model(\n",
    "    [decoder_inputs] + [decoder_hidden_state_input,decoder_state_input_h, decoder_state_input_c],\n",
    "    [decoder_outputs2] + [state_h2, state_c2])\n",
    "\n",
    "print('=3')"
   ]
  },
  {
   "cell_type": "markdown",
   "metadata": {},
   "source": [
    "인퍼런스 단계에서 단어 시퀀스를 완성하는 함수"
   ]
  },
  {
   "cell_type": "code",
   "execution_count": null,
   "metadata": {},
   "outputs": [
    {
     "name": "stdout",
     "output_type": "stream",
     "text": [
      "=3\n"
     ]
    }
   ],
   "source": [
    "def decode_sequence(input_seq):\n",
    "    # 입력으로부터 인코더의 상태를 얻음\n",
    "    e_out, e_h, e_c = encoder_model.predict(input_seq)\n",
    "\n",
    "     # <SOS>에 해당하는 토큰 생성\n",
    "    target_seq = np.zeros((1,1))\n",
    "    target_seq[0, 0] = tar_word_to_index['sostoken']\n",
    "\n",
    "    stop_condition = False\n",
    "    decoded_sentence = ''\n",
    "    i = 0\n",
    "    while not stop_condition: # stop_condition이 True가 될 때까지 루프 반복\n",
    "        # i += 1\n",
    "        # if i == 1:\n",
    "        #     print(target_seq.shape)\n",
    "        #     print(e_out.shape, e_h.shape, e_c.shape)    \n",
    "            \n",
    "        output_tokens, h, c = decoder_model.predict([target_seq] + [e_out, e_h, e_c], verbose = 0)\n",
    "        sampled_token_index = np.argmax(output_tokens[0, -1, :])\n",
    "        sampled_token = tar_index_to_word[sampled_token_index]\n",
    "\n",
    "        if (sampled_token!='eostoken'):\n",
    "            decoded_sentence += ' '+sampled_token\n",
    "\n",
    "        #  <eos>에 도달하거나 최대 길이를 넘으면 중단.\n",
    "        if (sampled_token == 'eostoken'  or len(decoded_sentence.split()) >= (headlines_max_len-1)):\n",
    "            stop_condition = True\n",
    "\n",
    "        # 길이가 1인 타겟 시퀀스를 업데이트\n",
    "        target_seq = np.zeros((1,1))\n",
    "        target_seq[0, 0] = sampled_token_index\n",
    "\n",
    "        # 상태를 업데이트 합니다.\n",
    "        e_h, e_c = h, c\n",
    "\n",
    "    return decoded_sentence\n",
    "print('=3')"
   ]
  },
  {
   "cell_type": "markdown",
   "metadata": {},
   "source": [
    "###  모델 테스트하기"
   ]
  },
  {
   "cell_type": "code",
   "execution_count": null,
   "metadata": {},
   "outputs": [
    {
     "name": "stdout",
     "output_type": "stream",
     "text": [
      "=3\n"
     ]
    }
   ],
   "source": [
    "# 원문의 정수 시퀀스를 텍스트 시퀀스로 변환\n",
    "def seq2text(input_seq):\n",
    "    temp=''\n",
    "    for i in input_seq:\n",
    "        if (i!=0):\n",
    "            temp = temp + src_index_to_word[i]+' '\n",
    "    return temp\n",
    "\n",
    "# 요약문의 정수 시퀀스를 텍스트 시퀀스로 변환\n",
    "def seq2summary(input_seq):\n",
    "    temp=''\n",
    "    for i in input_seq:\n",
    "        if((i != 0 and i != tar_word_to_index['sostoken']) and i != tar_word_to_index['eostoken']):\n",
    "            temp = temp + tar_index_to_word[i] + ' '\n",
    "    return temp\n",
    "\n",
    "print('=3')"
   ]
  },
  {
   "cell_type": "markdown",
   "metadata": {},
   "source": [
    "테스트 데이터 약 50개의 샘플에 대해서 실제 요약과 예측된 요약을 비교함"
   ]
  },
  {
   "cell_type": "code",
   "execution_count": null,
   "metadata": {},
   "outputs": [
    {
     "name": "stdout",
     "output_type": "stream",
     "text": [
      "원문 : reacting india captain virat kohli becoming fastest cricketer reach odi runs sachin tendulkar tweeted intensity consistency bat amazing congratulations achieving runs odis keep runs flowing kohli took odi innings reach run mark notably sachin first ever player reach landmark \n",
      "실제 요약 : keep the runs sachin as kohli reaches odi runs \n",
      "1/1 [==============================] - 0s 448ms/step\n"
     ]
    },
    {
     "name": "stderr",
     "output_type": "stream",
     "text": [
      "2023-11-16 11:25:14.740583: W tensorflow/core/grappler/costs/op_level_cost_estimator.cc:693] Error in PredictCost() for the op: op: \"Softmax\" attr { key: \"T\" value { type: DT_FLOAT } } inputs { dtype: DT_FLOAT shape { unknown_rank: true } } device { type: \"GPU\" vendor: \"NVIDIA\" model: \"NVIDIA GeForce RTX 2080 Ti\" frequency: 1650 num_cores: 68 environment { key: \"architecture\" value: \"7.5\" } environment { key: \"cuda\" value: \"11080\" } environment { key: \"cudnn\" value: \"8600\" } num_registers: 65536 l1_cache_size: 24576 l2_cache_size: 5767168 shared_memory_size_per_multiprocessor: 65536 memory_size: 9511632896 bandwidth: 616000000 } outputs { dtype: DT_FLOAT shape { unknown_rank: true } }\n"
     ]
    },
    {
     "name": "stdout",
     "output_type": "stream",
     "text": [
      "예측 요약 :  kohli tendulkar hit sachin tendulkar to hit ton\n",
      "\n",
      "\n",
      "원문 : yu wei hawaii sentenced years prison killing mother called police turn murder said fridge officers asked mother apologising sentencing monday said ashamed \n",
      "실제 요약 : she is in fridge hawaii man told police after killing mother in \n",
      "1/1 [==============================] - 0s 15ms/step\n",
      "예측 요약 :  was murdered in life of life in us murder case\n",
      "\n",
      "\n",
      "원문 : harley davidson announced planning launch first electric motorcycle bike hailed first broad clutch twist go portfolio electric two wheelers company said harley davidson set release two electric models portfolio lighter accessible product options \n",
      "실제 요약 : harley davidson to launch first electric motorcycle in \n",
      "1/1 [==============================] - 0s 15ms/step\n",
      "예측 요약 :  mercedes benz its first ever electric electric\n",
      "\n",
      "\n",
      "원문 : facebook war room within two months launch favour strategic response team company spokesperson said strategic response team attempts handle critical time sensitive situations said justin vp global operations war room launched quickly spot fix issues like misinformation us elections \n",
      "실제 요약 : facebook its war room within months of launch \n",
      "1/1 [==============================] - 0s 14ms/step\n",
      "예측 요약 :  facebook loses its first time in years\n",
      "\n",
      "\n",
      "원문 : biotech major biocon chairperson kiran mazumdar shaw friday said could possible drug shortage due gst supply chain refusing stock medicines said pharmacies willing stock medicines many said prepared gst scary \n",
      "실제 요약 : gst may lead to drug shortage kiran shaw \n",
      "1/1 [==============================] - 0s 14ms/step\n",
      "예측 요약 :  to be paid for insurance of\n",
      "\n",
      "\n",
      "원문 : apparent attack us pakistan president mamnoon hussain sunday said terrorism country caused interference foreign powers pakistan dragged war tragic incident said hussain said pakistan affected terrorism \n",
      "실제 요약 : terror caused by foreign interference in pak prez hussain \n",
      "1/1 [==============================] - 0s 14ms/step\n",
      "예측 요약 :  pakistan has no to be in afghanistan\n",
      "\n",
      "\n",
      "원문 : ex australia pacer mitchell johnson said team india captain virat kohli retire score hundred ongoing test melbourne cricket ground johnson remark came shared picture road suggesting mcg pitch flat road beneficial batsmen \n",
      "실제 요약 : kohli should retire if he does not score hundred at johnson \n",
      "1/1 [==============================] - 0s 14ms/step\n",
      "예측 요약 :  kohli is the world cup is the world cup kohli\n",
      "\n",
      "\n",
      "원문 : british finance minister philip hammond said demonetisation goods services tax implementation india would strong supporters gdp following temporary negative impact meeting indian finance minister arun jaitley washington hammond said india story remains engaging uk country leaves european union bigger trade relations \n",
      "실제 요약 : note ban gst will drive growth british finance minister \n",
      "1/1 [==============================] - 0s 14ms/step\n",
      "예측 요약 :  uk economy may be used in next years jaitley\n",
      "\n",
      "\n",
      "원문 : sachin tendulkar took facebook praise share story indian women cricket team captain mithali raj introduced cricket ongoing women world cup raj became leading run scorer women odis also set record joint plus scores reacting sachin post year old tweeted thanks kind words \n",
      "실제 요약 : sachin shares how mithali raj was introduced to cricket \n",
      "1/1 [==============================] - 0s 15ms/step\n",
      "예측 요약 :  sachin posts pic of indian cricket team india best odi\n",
      "\n",
      "\n",
      "원문 : nasa launching world first mission study rapidly rotating neutron stars years discovery neutron stars weighing solar masses dense material would weigh billion tonnes earth neutron star interior composition explorer mission launching scheduled june aboard spacex rocket \n",
      "실제 요약 : nasa to launch first ever mission to study stars \n",
      "1/1 [==============================] - 0s 15ms/step\n",
      "예측 요약 :  nasa finds moon to be for jupiter nasa\n",
      "\n",
      "\n",
      "원문 : uttar pradesh woman given triple talaq told observe halala couple decided remarry reportedly panchayat called matter widely reported union law minister ravi shankar prasad mentioned instance speech woman earlier said would accept triple talaq \n",
      "실제 요약 : woman given triple talaq for to remarry husband \n",
      "1/1 [==============================] - 0s 15ms/step\n",
      "예측 요약 :  muslim woman forced to marry triple talaq\n",
      "\n",
      "\n",
      "원문 : four supreme court judges publicly criticised chief justice india dipak misra included bench begin hearing several important cases january cases include challenges aadhaar challenge judgment criminalising homosexual relationships petition regarding restrictions women entering sabarimala temple \n",
      "실제 요약 : sc judges who slammed cji not on bench for key cases \n",
      "1/1 [==============================] - 0s 14ms/step\n",
      "예측 요약 :  sc judges to be pleas of judges judges\n",
      "\n",
      "\n",
      "원문 : video flight attendant making allegedly inebriated man harassed hyderabad rajiv gandhi international airport touch feet gone viral man brother verbally harassed airport parking lot approached police video shows man repeatedly apologising touched feet \n",
      "실제 요약 : flight attendant makes man who harassed her touch her feet \n",
      "1/1 [==============================] - 0s 15ms/step\n",
      "예측 요약 :  man tries to death for stealing passenger at delhi airport\n",
      "\n",
      "\n",
      "원문 : farmers maharashtra lost crops around lakh hectares land due rains state government sought crore aid centre villages districts affected state government still awaiting figures districts farmers entitled per hectare two hectares \n",
      "실제 요약 : maha farmers lose crops to state seeks cr aid \n",
      "1/1 [==============================] - 0s 14ms/step\n",
      "예측 요약 :  maha farmers to get crore to land farmers relief\n",
      "\n",
      "\n",
      "원문 : indian spinner harbhajan singh mocked sri lankan cricket team tweeting needs revive get international level later deleted post harbhajan mentioned sad see sri lankan team lowest adding also getting beaten teams like zimbabwe \n",
      "실제 요약 : harbhajan mocks sri lankan team later deletes tweet \n",
      "1/1 [==============================] - 0s 15ms/step\n",
      "예측 요약 :  am not to understand women in india harbhajan\n",
      "\n",
      "\n",
      "원문 : asserting building ram temple ayodhya matter belief union minister uma bharti saturday said ready go jail hang notably supreme court recently reserved order petition seeking restoration conspiracy charges bharti babri mosque demolition case \n",
      "실제 요약 : ready to go to jail for ram temple in ayodhya uma bharti \n",
      "1/1 [==============================] - 0s 15ms/step\n",
      "예측 요약 :  will not believe in the name of my family vhp\n",
      "\n",
      "\n",
      "원문 : former haryana chief minister indian national lok dal president om prakash chautala expelled hisar mp dushyant chautala chautala party accused indiscipline hooliganism spreading within party rally held last month mark birthday great grandfather chaudhary devi lal party statement read \n",
      "실제 요약 : chief om prakash chautala expels from party \n",
      "1/1 [==============================] - 0s 14ms/step\n",
      "예측 요약 :  ex cm seeks ex cm on his party\n",
      "\n",
      "\n",
      "원문 : johannesburg test match india south africa first instance india pacers taking wickets test jasprit bumrah pick bowlers seven wickets followed mohammad shami took six seven wickets shared ishant sharma bhuvneshwar kumar india fifth pacer hardik pandya went \n",
      "실제 요약 : indian pacers take all wickets in test for first time \n",
      "1/1 [==============================] - 0s 14ms/step\n",
      "예측 요약 :  india st test test series against sa captain\n",
      "\n",
      "\n",
      "원문 : google photos censored gorilla tag image labelling technology found classified people colour category photos according test wired google photos derive results gorilla searched collection animal images google confirmed added technology nowhere near perfect \n",
      "실제 요약 : google removed tag as it showed dark skinned people \n",
      "1/1 [==============================] - 0s 15ms/step\n",
      "예측 요약 :  youtube removes videos of videos in real time\n",
      "\n",
      "\n",
      "원문 : three people injured bomb explosion destroyed trinamool congress office west bengal burdwan district official said blast happened due explosives stored inside building investigating explosives came brought inside building added injured inside building explosion occurred \n",
      "실제 요약 : injured as explosion destroys trinamool office in bengal \n",
      "1/1 [==============================] - 0s 14ms/step\n",
      "예측 요약 :  dead as pm killed in west bengal\n",
      "\n",
      "\n",
      "원문 : bjp spokesperson sambit patra wednesday said corrupt jailed law taking course see reason political party cry vendetta law vendetta statement comes congress slammed bjp chidambaram son karti chidambaram arrest money laundering case calling bjp government vendetta \n",
      "실제 요약 : this is law not bjp on karti chidambaram arrest \n",
      "1/1 [==============================] - 0s 14ms/step\n",
      "예측 요약 :  bjp is not against bjp chief for corruption bjp\n",
      "\n",
      "\n",
      "원문 : us prosecutors asked federal court force pharma bro martin shkreli give million assets including one kind wu tang album worth million prosecutors also sought seize lil wayne album machine former turing pharmaceutical ceo hedge fund manager convicted august defrauding investors \n",
      "실제 요약 : us seek to seize shkreli mn album \n",
      "1/1 [==============================] - 0s 14ms/step\n",
      "예측 요약 :  us court denies bn to sell bn in yrs\n",
      "\n",
      "\n",
      "원문 : baahubali opening film th moscow international film festival confirmed film director ss rajamouli twitter indian films screened festival include konkona sen sharma directorial debut death gulshan grover festival held june june \n",
      "실제 요약 : baahubali to be opening film at moscow int film fest \n",
      "1/1 [==============================] - 0s 15ms/step\n",
      "예측 요약 :  first song from india film festival\n",
      "\n",
      "\n",
      "원문 : according reports star india shut channel low trps reportedly substituted kannada sports channel places used frequent exist anymore first channel wrote vj anu menon portrayed character meanwhile former vj shruti seth tweeted end era \n",
      "실제 요약 : channel to be shut down due to low reports \n",
      "1/1 [==============================] - 0s 14ms/step\n",
      "예측 요약 :  tv show maker denies being called him\n",
      "\n",
      "\n",
      "원문 : us based commerce giant amazon made formal offer acquire stake indian counterpart flipkart proposing merge two companies per reports amazon also offered breakup fee billion reports added meanwhile speculated walmart offering buy controlling stake flipkart billion \n",
      "실제 요약 : amazon makes formal offer to buy flipkart stake reports \n",
      "1/1 [==============================] - 0s 15ms/step\n",
      "예측 요약 :  amazon may buy stake in its largest stake in months\n",
      "\n",
      "\n",
      "원문 : indian wrestler vinesh phogat claimed top position women freestyle kg nordic system event gold coast saturday win second successive gold commonwealth games gold india fifth wrestling rd overall cwg earlier vinesh cousin babita kumari claimed silver women freestyle kg event \n",
      "실제 요약 : wrestler vinesh phogat claims her second straight cwg gold \n",
      "1/1 [==============================] - 0s 15ms/step\n",
      "예측 요약 :  indian shooter wins gold at asian games\n",
      "\n",
      "\n",
      "원문 : liquor baron vijay mallya told mumbai court monday enforcement directorate resisted efforts settle loans public sector banks despite continuing efforts last two three years ed every step resisted effort stated mallya also objected ed plea seeking declare fugitive \n",
      "실제 요약 : ed my efforts to settle loans with banks mallya \n",
      "1/1 [==============================] - 0s 15ms/step\n",
      "예측 요약 :  vijay mallya to pay action against mallya\n",
      "\n",
      "\n",
      "원문 : around people killed others injured transformer exploded jaipur village tuesday five people died spot others succumbed injuries hospital receiving treatment state government announced compensation lakh kin deceased \n",
      "실제 요약 : dead after explodes in jaipur \n",
      "1/1 [==============================] - 0s 14ms/step\n",
      "예측 요약 :  killed injured in blast at gujarat highway\n",
      "\n",
      "\n",
      "원문 : addressing gathering police crime victims long island friday us president donald trump suggested officers nice dealing suspects advocating treatment people custody speaking arresting officers protect suspects heads putting police cars trump called criminals animals \n",
      "실제 요약 : do not be too nice to suspects trump to police \n",
      "1/1 [==============================] - 0s 15ms/step\n",
      "예측 요약 :  us police protest trump protest over protest\n",
      "\n",
      "\n",
      "원문 : study organisation economic co operation development stated uk overweight country western europe adults overweight revealed adult obesity rates uk increased since meanwhile countries lowest levels obesity include japan switzerland among others \n",
      "실제 요약 : uk most overweight country in western europe study \n",
      "1/1 [==============================] - 0s 14ms/step\n",
      "예측 요약 :  global crisis could be more than un study\n",
      "\n",
      "\n",
      "원문 : amid various incidents statue vandalism across country bjp general secretary ram madhav said lenin statue vandalism cpi statue installed private property razed people previously installed added \n",
      "실제 요약 : lenin statue in tripura was not vandalism bjp leader \n",
      "1/1 [==============================] - 0s 14ms/step\n",
      "예측 요약 :  wb temple statue of india statue in wb\n",
      "\n",
      "\n",
      "원문 : uttar pradesh cm yogi adityanath announced ex gratia lakh families deceased explosion ntpc plant raebareli cm also announced compensation seriously injured minor injuries least people died injured explosion wednesday \n",
      "실제 요약 : up cm announces lakh ex gratia for ntpc explosion victims \n",
      "1/1 [==============================] - 0s 14ms/step\n",
      "예측 요약 :  up govt announces lakh compensation for kin of lakh\n",
      "\n",
      "\n",
      "원문 : karan johar said would like apologise alia bhatt making feel conscious weight asked lose weight debut film student year gym every day even puts extra goes crazy think blame added \n",
      "실제 요약 : regret making alia feel conscious about her weight johar \n",
      "1/1 [==============================] - 0s 14ms/step\n",
      "예측 요약 :  alia is like alia bhatt on alia bhatt\n",
      "\n",
      "\n",
      "원문 : ex indian pacer ashish nehra revealed found yo yo test easy fond running fast bowler nehra added achieved score test january way qualifying mark players find difficult like yuvraj still stuck yet clear added \n",
      "실제 요약 : found yo yo test easy because was pacer ashish nehra \n",
      "1/1 [==============================] - 0s 14ms/step\n",
      "예측 요약 :  pujara told me to play me in test pujara\n",
      "\n",
      "\n",
      "원문 : speaking farmer suicides madhya pradesh minister balkrishna patidar sunday said commit suicide adding global problem even policemen businessmen commit suicide minister said difficult curb reason suicide known people commit assume \n",
      "실제 요약 : who does not commit suicide mp minister on farmer suicides \n",
      "1/1 [==============================] - 0s 14ms/step\n",
      "예측 요약 :  will not commit suicide if we want suicide minister\n",
      "\n",
      "\n",
      "원문 : privacy advocacy group accused google invading users privacy tracking store purchases made google data products bought users tracking financial transactions lets businesses see online searches translate sales group claimed hard users avoid google purchase tracking \n",
      "실제 요약 : google faces probe for tracking users in store purchases \n",
      "1/1 [==============================] - 0s 15ms/step\n",
      "예측 요약 :  facebook to pay app for data data from whatsapp\n",
      "\n",
      "\n",
      "원문 : us judge ruled identities upcoming trial mexican drug lord joaquin el chapo guzman kept secret ensure safety guzman lawyers earlier said drug lord promised kill notably guzman allegedly harmed several witnesses past \n",
      "실제 요약 : keep names of in el chapo case secret us judge \n",
      "1/1 [==============================] - 0s 15ms/step\n",
      "예측 요약 :  us court dismisses porn porn video of drug attack\n",
      "\n",
      "\n",
      "원문 : gst council saturday approved quarterly filing return small taxpayers turnover crore optional facility move expected benefit taxpayers turnover less crore however need deposit tax every month \n",
      "실제 요약 : taxpayers with up to cr turnover to file returns quarterly \n",
      "1/1 [==============================] - 0s 14ms/step\n",
      "예측 요약 :  gst council cuts cr from revenue to attract gst\n",
      "\n",
      "\n",
      "원문 : two assam families one muslim hindu opted keep babies took home hospital instead biological sons two sets parents whose sons accidentally swapped birth decided take dna test one fathers filed rti query contacted family \n",
      "실제 요약 : two assam couples opt to keep sons who were swapped at birth \n",
      "1/1 [==============================] - 0s 15ms/step\n",
      "예측 요약 :  kerala police marry male couple to marry baby\n",
      "\n",
      "\n",
      "원문 : flight lieutenant court indian air force caught stealing wallet cctv cameras incident happened canteen mumbai general court martial found officer guilty instructed pay back cost wallet \n",
      "실제 요약 : iaf officer gets court for stealing wallet \n",
      "1/1 [==============================] - 0s 15ms/step\n",
      "예측 요약 :  indigo suspends employee for over abusing woman\n",
      "\n",
      "\n",
      "원문 : pacer dale steyn praised india ishant sharma saying big fan ishant long time played sunrisers saw capable maintained focus fitness able come tour fast bowlers really needed stood steyn added \n",
      "실제 요약 : have been big fan of ishant south africa steyn \n",
      "1/1 [==============================] - 0s 14ms/step\n",
      "예측 요약 :  am not know how much than rohit dhawan on his debut\n",
      "\n",
      "\n",
      "원문 : brihanmumbai municipal corporation spend crore diwali bonuses given employees year one lakh bmc employees given bonuses ranging reportedly workers association demanded bonus amounting salaries \n",
      "실제 요약 : mumbai civic body to spend cr on diwali bonus for staff \n",
      "1/1 [==============================] - 0s 14ms/step\n",
      "예측 요약 :  mumbai civic body to get cr from property for poor\n",
      "\n",
      "\n",
      "원문 : asian games commonwealth games gold medallist bajrang punia become world number one wrestler kg category year old silver world championships recently top united world wrestling rankings points points ahead second placed wrestler lone male indian figure top category \n",
      "실제 요약 : year old bajrang becomes world no wrestler in kg category \n",
      "1/1 [==============================] - 0s 14ms/step\n",
      "예측 요약 :  india wins gold in india at world ships\n",
      "\n",
      "\n",
      "원문 : world number one rafael nadal net went towards juan mart del potro console hug defeating five set minute wimbledon quarter final wednesday almost five hours fell wanted stay night long came kind potro said \n",
      "실제 요약 : nadal consoles rival with hug after min wimbledon match \n",
      "1/1 [==============================] - 0s 15ms/step\n",
      "예측 요약 :  nadal nadal to retire after yrs of the world cup\n",
      "\n",
      "\n",
      "원문 : government wednesday said expatriates would required apply aadhaar card staying india days required pay domestic income tax finance act provides mandatory quoting aadhaar submitting income tax returns making application allotment pan effective july \n",
      "실제 요약 : expats in india for over days need aadhaar for \n",
      "1/1 [==============================] - 0s 15ms/step\n",
      "예측 요약 :  aadhaar linking aadhaar not mandatory for aadhaar uidai\n",
      "\n",
      "\n",
      "원문 : ajit agarkar quickest fast bowler reach odi wickets slammed fastest odi fifty india deliveries zimbabwe december agarkar surpassed kapil dev scored fifty balls march windies scored took three wickets help india win match \n",
      "실제 요약 : fastest fast bowler to odi wickets hit fastest odi for india \n",
      "1/1 [==============================] - 0s 14ms/step\n",
      "예측 요약 :  cook fastest odi bowler to hit sixes in test\n",
      "\n",
      "\n",
      "원문 : migrant labourer odisha managed score literacy exam conducted malayalam kerala state literacy mission authority another worker hailing bihar also managed score full marks examination meanwhile year old woman hails fishing kozhikode also scored full marks \n",
      "실제 요약 : two migrant workers score in kerala literacy exam \n",
      "1/1 [==============================] - 0s 14ms/step\n",
      "예측 요약 :  kerala man scores in kerala school in jee\n",
      "\n",
      "\n",
      "원문 : pm narendra modi tuesday met twitter ceo jack dorsey called new delhi tweeted enjoy medium made great friends see everyday creativity people enjoyed conversation importance global conversation also thanks ideas twitter dorsey earlier tweeted \n",
      "실제 요약 : enjoy being on this medium pm modi tweets to twitter ceo \n",
      "1/1 [==============================] - 0s 16ms/step\n",
      "예측 요약 :  pm modi tweets user on twitter\n",
      "\n",
      "\n",
      "원문 : india become second largest smartphone market world overtaking united states according report analyst firm indian smartphone market grew year year third quarter sales crossing million units first time report added india stands behind china list \n",
      "실제 요약 : india overtakes us to become world nd largest smartphone market \n",
      "1/1 [==============================] - 0s 15ms/step\n",
      "예측 요약 :  india ranks its first ever market market market\n",
      "\n",
      "\n",
      "원문 : recent gravitational wave discoveries resulting black hole mergers suggested ancient black holes source almost dark matter universe recent us based study ruled source researchers claimed black holes detection range could resulted dark matter formation \n",
      "실제 요약 : study rules out ancient black holes as source of dark matter \n",
      "1/1 [==============================] - 0s 15ms/step\n",
      "예측 요약 :  scientists find dark to find dark human data\n",
      "\n",
      "\n"
     ]
    }
   ],
   "source": [
    "for i in range(50, 100):\n",
    "    print(\"원문 :\", seq2text(encoder_input_test[i]))\n",
    "    print(\"실제 요약 :\", seq2summary(decoder_input_test[i]))\n",
    "    print(\"예측 요약 :\", decode_sequence(encoder_input_test[i].reshape(1, text_max_len)))\n",
    "    print(\"\\n\")"
   ]
  },
  {
   "cell_type": "markdown",
   "metadata": {},
   "source": [
    "### 모델 서머리"
   ]
  },
  {
   "cell_type": "code",
   "execution_count": null,
   "metadata": {},
   "outputs": [
    {
     "name": "stdout",
     "output_type": "stream",
     "text": [
      "Model: \"model_4\"\n",
      "__________________________________________________________________________________________________\n",
      " Layer (type)                Output Shape                 Param #   Connected to                  \n",
      "==================================================================================================\n",
      " input_4 (InputLayer)        [(None, None)]               0         []                            \n",
      "                                                                                                  \n",
      " embedding_3 (Embedding)     (None, None, 128)            1408000   ['input_4[0][0]']             \n",
      "                                                                                                  \n",
      " input_8 (InputLayer)        [(None, 256)]                0         []                            \n",
      "                                                                                                  \n",
      " input_9 (InputLayer)        [(None, 256)]                0         []                            \n",
      "                                                                                                  \n",
      " lstm_9 (LSTM)               [(None, None, 256),          394240    ['embedding_3[2][0]',         \n",
      "                              (None, 256),                           'input_8[0][0]',             \n",
      "                              (None, 256)]                           'input_9[0][0]']             \n",
      "                                                                                                  \n",
      " input_10 (InputLayer)       [(None, 60, 256)]            0         []                            \n",
      "                                                                                                  \n",
      " attention_layer (AdditiveA  (None, None, 256)            256       ['lstm_9[2][0]',              \n",
      " ttention)                                                           'input_10[0][0]']            \n",
      "                                                                                                  \n",
      " concat (Concatenate)        (None, None, 512)            0         ['lstm_9[2][0]',              \n",
      "                                                                     'attention_layer[2][0]']     \n",
      "                                                                                                  \n",
      " dense (Dense)               (None, None, 11000)          5643000   ['concat[0][0]']              \n",
      "                                                                                                  \n",
      "==================================================================================================\n",
      "Total params: 7445496 (28.40 MB)\n",
      "Trainable params: 7445496 (28.40 MB)\n",
      "Non-trainable params: 0 (0.00 Byte)\n",
      "__________________________________________________________________________________________________\n"
     ]
    }
   ],
   "source": [
    "decoder_model.summary()"
   ]
  },
  {
   "cell_type": "markdown",
   "metadata": {},
   "source": []
  },
  {
   "cell_type": "code",
   "execution_count": null,
   "metadata": {},
   "outputs": [
    {
     "data": {
      "image/png": "[encoded data removed]",
      "text/plain": [
       "<IPython.core.display.Image object>"
      ]
     },
     "execution_count": 138,
     "metadata": {},
     "output_type": "execute_result"
    }
   ],
   "source": [
    "import tensorflow as tf\n",
    "tf.keras.utils.plot_model(model, show_shapes=True, show_layer_names=True)"
   ]
  },
  {
   "cell_type": "code",
   "execution_count": null,
   "metadata": {},
   "outputs": [
    {
     "data": {
      "image/png": "[encoded data removed]",
      "text/plain": [
       "<IPython.core.display.Image object>"
      ]
     },
     "execution_count": 139,
     "metadata": {},
     "output_type": "execute_result"
    }
   ],
   "source": [
    "import tensorflow as tf\n",
    "tf.keras.utils.plot_model(decoder_model, show_shapes=True, show_layer_names=True)"
   ]
  },
  {
   "cell_type": "code",
   "execution_count": null,
   "metadata": {},
   "outputs": [
    {
     "data": {
      "image/png": "[encoded data removed]",
      "text/plain": [
       "<IPython.core.display.Image object>"
      ]
     },
     "execution_count": 140,
     "metadata": {},
     "output_type": "execute_result"
    }
   ],
   "source": [
    "tf.keras.utils.plot_model(encoder_model, show_shapes=True, show_layer_names=True)"
   ]
  },
  {
   "cell_type": "markdown",
   "metadata": {},
   "source": [
    "```\n",
    "원문 : actor irrfan khan while talking about his equation with his son said we are open about relationships there's no hesitation or embarrassment discussing with him any kind of relationship even if it's sexual there should be a space where you can discuss he added irrfan further said it is better to have a friendly relationship with your children \n",
    "실제 요약 : no sexual with son \n",
    "1/1 [==============================] - 0s 18ms/step\n",
    "예측 요약 :  no one of on\n",
    "\n",
    "\n",
    "원문 : a communist a pie in french philosopher bernard face while he was promoting his film ' which is about kurds fighting isis in serbia on wednesday levy once scrutinised for backing military intervention in libya has been attacked with nine times by the same man meanwhile another protester held a banner saying bernard levy advocates murders \n",
    "실제 요약 : french hit with in face for time \n",
    "1/1 [==============================] - 0s 15ms/step\n",
    "예측 요약 :  video shows in\n",
    "\n",
    "\n",
    "원문 : german chancellor angela chief of staff peter on saturday said german must invest more in electric vehicles and take on elon musk's tesla when is our automobile industry which is so good actually going to be in a position to build a car that travels 50 kilometres further than a tesla and costs ã¢ââ¬10 000 less said \n",
    "실제 요약 : must take on tesla \n",
    "1/1 [==============================] - 0s 16ms/step\n",
    "예측 요약 :  tesla on tesla\n",
    "\n",
    "\n",
    "원문 : rebel congress leader shehzad poonawalla has released facebook data leak accused firm cambridge analytica's proposal to the party to prepare for 2019 lok sabha elections the 49 page report titled driven campaign the path to the 2019 lok was allegedly developed in august 2017 the proposal said whenever somebody registered on the website their details were recorded to target ads \n",
    "실제 요약 : cong leader fb 2019 to cong \n",
    "1/1 [==============================] - 0s 16ms/step\n",
    "예측 요약 :  fb to in polls\n",
    "\n",
    "\n",
    "원문 : as many as 19 people were killed after a truck laden with cement overturned on the ahmedabad highway in gujarat on saturday morning at least seven people were also reported to be injured in the accident the injured people were immediately rushed to a nearby hospital reports said \n",
    "실제 요약 : 19 as on in gujarat \n",
    "1/1 [==============================] - 0s 15ms/step\n",
    "예측 요약 :  12 killed in in\n",
    "\n",
    "\n",
    "원문 : his government runs on the values of the constitution maharashtra cm devendra fadnavis on thursday said the constitution shows us the way in a better manner than the gita bible and quran as to how to serve people he said the indian constitution is the best constitution in the world and is more important for us than any religious book \n",
    "실제 요약 : more for govt than maha cm \n",
    "1/1 [==============================] - 0s 15ms/step\n",
    "예측 요약 :  india has a in the cm\n",
    "\n",
    "\n",
    "원문 : survey satellite known as tess has spotted hot earth and super earth planets in solar systems 49 and 60 light years away marking its first discovery since april launch tess is designed to build on the work of its predecessor kepler space telescope which discovered over 2 500 confirmed exoplanets in 20 years and is now running out of fuel \n",
    "실제 요약 : nasa 2 new 5 months after launch \n",
    "1/1 [==============================] - 0s 19ms/step\n",
    "예측 요약 :  new of the first time\n",
    "\n",
    "\n",
    "원문 : the uidai on saturday denied media reports which claimed that anyone can access personal details of all aadhaar holders due to an unsecured interface operated by a state owned utility company for verifying customers' identities there is no truth in this story as there has been absolutely no breach of aadhaar database the uidai said \n",
    "실제 요약 : denies reports on aadhaar govt firm \n",
    "1/1 [==============================] - 0s 17ms/step\n",
    "예측 요약 :  denies of aadhaar\n",
    "\n",
    "\n",
    "원문 : japanese carmaker nissan has asked its staff to avoid contact with ousted chairman carlos ghosn and former director greg kelly they are currently facing probe for allegedly under reporting compensation by 80 million in 2011 2018 the automaker also directed staff to report any attempted contact to the company's legal department \n",
    "실제 요약 : asks staff to not \n",
    "1/1 [==============================] - 0s 17ms/step\n",
    "예측 요약 :  to over\n",
    "\n",
    "\n",
    "원문 : gurugram based second hand automobile startup has raised around crore 30 million in series e round of funding the round was led by the family office of japanese based investor joe who is the founder of multi business firm along with an undisclosed foreign investor founded in 2014 provides an online marketplace for sale of new and used automobiles \n",
    "실제 요약 : startup raises crore \n",
    "1/1 [==============================] - 0s 19ms/step\n",
    "예측 요약 :  startup raises crore from\n",
    "\n",
    "\n",
    "원문 : of united nations un employees have been sexually harassed at work in the past two years according to the findings of the first survey on such misconduct out of the 30 respondents 10 1 said that they were touched in ways that made them feel uncomfortable only one in three people said that they took action after experiencing sexual harassment \n",
    "실제 요약 : 1 in 3 un in two years \n",
    "1/1 [==============================] - 0s 18ms/step\n",
    "예측 요약 :  in in\n",
    "\n",
    "\n",
    "원문 : recalling the australian cricket teams he faced in his career indian cricketer harbhajan singh said this team is not a shadow of that australian side t he australian side that i competed against the top seven or eight were all match winners anyone could come in and win a match in his own right harbhajan added \n",
    "실제 요약 : australia not a of team i \n",
    "1/1 [==============================] - 0s 17ms/step\n",
    "예측 요약 :  team india team team\n",
    "\n",
    "\n",
    "원문 : has lost a uk lawsuit filed by indian banks seeking to collect over 1 55 billion amid allegations that he committed massive fraud the court said lenders can enforce an indian court ruling related to allegations that mallya defaulted on 1 4 billion in debt for his now defunct kingfisher airlines it refused to overturn worldwide order freezing mallya's assets \n",
    "실제 요약 : loses uk by indian to 1 bn \n",
    "1/1 [==============================] - 0s 16ms/step\n",
    "예측 요약 :  uk to pay 1 bn over\n",
    "\n",
    "\n",
    "원문 : reacting to preity bidding during the first day of the ipl auction a user tweeted can the other teams get any player other tweets read auctioneer next player for auction is preity zinta 3 crore auctioneer ma'am player ka naam toh do and mom beta ye lo chocolate zinta \n",
    "실제 요약 : can get tweets user on ipl \n",
    "1/1 [==============================] - 0s 16ms/step\n",
    "예측 요약 :  tweets user on ipl\n",
    "\n",
    "\n",
    "원문 : salman khan rekha shatrughan sinha and his daughter sonakshi sinha have featured in a remake of the song which is in the form of a for the dharmendra starrer 'yamla pagla deewana phir se' the also featured other old songs including mere sona re sona e ishq meri jaan' and 'main jat \n",
    "실제 요약 : salman in \n",
    "1/1 [==============================] - 0s 17ms/step\n",
    "예측 요약 :  salman khan for\n",
    "\n",
    "\n",
    "원문 : the cbi on thursday arrested rotomac owner vikram kothari and his son rahul for allegedly defrauding banks of ã¢ââ¹3 700 crore company had submitted forged documents to get loans and created shell firms to carry out illegal activities earlier authorities had notified all land sea and air ports to prevent kothari and his family members from leaving india \n",
    "실제 요약 : cbi in \n",
    "1/1 [==============================] - 0s 16ms/step\n",
    "예측 요약 :  delhi son crore for\n",
    "\n",
    "\n",
    "원문 : tibetan spiritual leader dalai lama has said that indians are than the chinese partly attributing their to the climate he further said that india was the most stable and living example of how people of diverse traditions and ideas could live together the spiritual leader also called on india and china to solve their issues through dialogue \n",
    "실제 요약 : indians are than the chinese \n",
    "1/1 [==============================] - 0s 15ms/step\n",
    "예측 요약 :  india for india\n",
    "\n",
    "\n",
    "원문 : scientists have discovered the oldest known colours 1 1 billion year old bright pink extracted from rocks beneath africa's sahara desert the are fossils of produced by organisms which inhabited an ancient ocean said a researcher from australian national university the fossils range from blood red to deep purple in form and bright pink when diluted \n",
    "실제 요약 : as world's \n",
    "1/1 [==============================] - 0s 16ms/step\n",
    "예측 요약 :  scientists 1 1 billion\n",
    "\n",
    "\n",
    "원문 : the wealth of india's richest person mukesh ambani can keep the country's government running for 20 days according to bloomberg the chairman of india's second most valuable company reliance industries ambani has a net worth of around 40 billion born on april 19 1957 the business tycoon celebrates his 61st birthday today \n",
    "실제 요약 : could india's govt for 20 days \n",
    "1/1 [==============================] - 0s 15ms/step\n",
    "예측 요약 :  why do the india's\n",
    "\n",
    "\n",
    "원문 : baba ramdev led patanjali ayurved has said that it has no plans for an initial public offer ipo yet in an interview patanjali md acharya balkrishna has said the company is focussing only on the domestic market currently and not looking at the international market with he further said ads are not for promoting our products but are ã¢ââ \n",
    "실제 요약 : has no plans for an \n",
    "1/1 [==============================] - 0s 15ms/step\n",
    "예측 요약 :  no to\n",
    "\n",
    "\n",
    "원문 : a video has surfaced wherein congress mla and madhya pradesh labour minister mahendra singh could be heard saying workers and officers who won't follow instructions kar diya will be kicked out the minister made the remark while interacting with party workers in the state's district on december 31 \n",
    "실제 요약 : mp on not orders \n",
    "1/1 [==============================] - 0s 15ms/step\n",
    "예측 요약 :  will be if bjp mla\n",
    "\n",
    "\n",
    "원문 : wishing her husband dharmendra deol on his birthday on saturday hema malini tweeted happy birthday to my love the dearest father to my darling girls and proud grandfather to and i thank all the numerous fans who are sending their greetings to me on birthday will definitely convey their wishes to him she further wrote n \n",
    "실제 요약 : to my \n",
    "1/1 [==============================] - 0s 15ms/step\n",
    "예측 요약 :  my on my\n",
    "\n",
    "\n",
    "원문 : khan has said that for most part of her life she was completely non famous my only identity was i was a sibling or a daughter to these other famous people you're recognised but people don't know your name added soha she further said that she doesn't get upset by this as it has become a part of her identity \n",
    "실제 요약 : for most of my life i was \n",
    "1/1 [==============================] - 0s 15ms/step\n",
    "예측 요약 :  i'm my life for me\n",
    "\n",
    "\n",
    "원문 : the government has clarified that resolution plans under insolvency and bankruptcy code ibc do not require the approval of the shareholders the resolution process is taken up after it is approved by the authority which is the national company law tribunal the clarification reportedly comes amid concerns about the possibility of companies' promoters blocking resolution process \n",
    "실제 요약 : not for govt \n",
    "1/1 [==============================] - 0s 15ms/step\n",
    "예측 요약 :  govt not not to govt\n",
    "\n",
    "\n",
    "원문 : former italian prime minister on monday described french president emmanuel macron as a 39 year old lad with a with a good looking mum in an apparent dig at the age gap between macron and his wife brigitte notably aged 80 is 49 years older than his partner \n",
    "실제 요약 : is yr old with ex pm \n",
    "1/1 [==============================] - 0s 18ms/step\n",
    "예측 요약 :  ex pm to\n",
    "\n",
    "\n",
    "원문 : the recent make ii initiative introduced for defence will help small industries participate in manufacturing defence equipment defence minister nirmala sitharaman said on thursday her statement comes after the defence acquisition council simplified the make ii procedure to make it industry friendly with minimal government control and relaxed the minimum qualification criteria \n",
    "실제 요약 : make will help \n",
    "1/1 [==============================] - 0s 15ms/step\n",
    "예측 요약 :  to\n",
    "\n",
    "\n",
    "원문 : the father of a victim in the 1987 case has said he is happy with the delhi high court verdict adding that they waited for justice for 31 years culprits have been punished at last he added the hc sentenced 16 former policemen to life imprisonment for murdering 42 people in uttar pradesh's meerut during the 1987 riots \n",
    "실제 요약 : for for yrs father of \n",
    "1/1 [==============================] - 0s 16ms/step\n",
    "예측 요약 :  father to be in delhi hc\n",
    "\n",
    "\n",
    "원문 : to be 45 100 feet wide flew past earth making its closest approach at 42 000 km over antarctica the asteroid flew little over one tenth the earth moon distance and above the orbital altitude of communications satellites the flyby was used by nasa to test its asteroid detection and tracking network to prepare for a real asteroid impact threat \n",
    "실제 요약 : the of a house at 000 \n",
    "1/1 [==============================] - 0s 16ms/step\n",
    "예측 요약 :  for 000 000\n",
    "\n",
    "\n",
    "원문 : being the unofficial sponsor of vodafone brings you the fantastic breaks contest for all the fans stood by their teams through thick and thin they will be required to answer a simple question to stand a chance to win many exciting prizes and an iphone every match \n",
    "실제 요약 : the breaks \n",
    "1/1 [==============================] - 0s 16ms/step\n",
    "예측 요약 :  to for\n",
    "\n",
    "\n",
    "원문 : extending gains for the second straight session indian equity sensex and nifty closed at record highs on monday as financial stocks continued to rise sensex closed 135 73 points up at 37 89 while the nifty ended 26 30 points higher at 11 10 the sensex has advanced 11 this year holding its place as asia best performing market \n",
    "실제 요약 : end at record \n",
    "1/1 [==============================] - 0s 16ms/step\n",
    "예측 요약 :  for the world\n",
    "\n",
    "\n",
    "원문 : hollywood actor ryan reynolds jokingly cropped out wife blake in a picture that he posted on social media to wish her on her 30th birthday on friday happy birthday to my amazing wife he wrote in the photo's caption ryan and blake got married in 2012 and have two daughters together \n",
    "실제 요약 : out wife in post \n",
    "1/1 [==============================] - 0s 15ms/step\n",
    "예측 요약 :  husband of her\n",
    "\n",
    "\n",
    "원문 : farhan akhtar posted a picture on instagram to wish his father javed akhtar on his 73rd birthday on wednesday while captioning the post happy birthday pa love you wishing the master of wisdom a very happy birthday sahab tweeted riteish deshmukh meanwhile farah khan tweeted easily the and most intelligent man at least in our family \n",
    "실제 요약 : on father \n",
    "1/1 [==============================] - 0s 16ms/step\n",
    "예측 요약 :  on\n",
    "\n",
    "\n",
    "원문 : talking about cross border terrorism and infiltration bjp president amit shah on saturday said the only solution to the issue is to answer every pakistani bullet with a bomb he was responding to a question that why the situation along the line of control loc did not improve despite the surgical strikes undertaken by india in 2016 \n",
    "실제 요약 : a to only shah \n",
    "1/1 [==============================] - 0s 15ms/step\n",
    "예측 요약 :  is a to shah\n",
    "\n",
    "\n",
    "원문 : madhya pradesh home minister bhupendra singh on monday revealed the name of a minor rape and murder victim on twitter while addressing a complaint about the case singh apologised on tuesday claiming that the name was revealed inadvertently by an employee who was sacked immediately he added that he regretted the mistake and later deleted the tweet \n",
    "실제 요약 : mp home minister rape name on twitter \n",
    "1/1 [==============================] - 0s 15ms/step\n",
    "예측 요약 :  rape accused of rape\n",
    "\n",
    "\n",
    "원문 : reacting to ms dhoni's tweet about playing online multiplayer game pubg a user tweeted duo hai other users reacted with tweets like as a die hard fan it's just amazing feeling after knowing that your idol also plays pubg you're looking so cool here though you are always cool like ice and your character id pls \n",
    "실제 요약 : tweets user on tweet about \n",
    "1/1 [==============================] - 0s 15ms/step\n",
    "예측 요약 :  tweets user on\n",
    "\n",
    "\n",
    "원문 : american tennis star serena williams hosted a 1950s themed baby shower on saturday with her friends and family including sister venus williams and celebrities eva and lala anthony among others when you and your crew go so far back to the even then they had your back read the caption of instagram post from the event \n",
    "실제 요약 : has baby \n",
    "1/1 [==============================] - 0s 15ms/step\n",
    "예측 요약 :  after\n",
    "\n",
    "\n",
    "원문 : white house spokesperson sean spicer called prize winner journalism site a left wing blog and dismissed its report on changes made to a trust document allowing president donald trump to withdraw money from his businesses without disclosing it in response delivered a 15 tweet thread defending its reporting and shared the revised document \n",
    "실제 요약 : house calls a \n",
    "1/1 [==============================] - 0s 16ms/step\n",
    "예측 요약 :  house of trump\n",
    "\n",
    "\n",
    "원문 : an advertisement by kalyan jewellers featuring amitabh bachchan and his daughter shweta nanda was taken down after being slammed by the all india bank officers' confederation the ad allegedly showed the characters being mistreated by bank employees the bank union had earlier called the ad and said it aimed to create in the banking system \n",
    "실제 요약 : daughter after \n",
    "1/1 [==============================] - 0s 15ms/step\n",
    "예측 요약 :  big after on her\n",
    "\n",
    "\n",
    "원문 : terrorists on saturday opened fire at a central reserve police force crpf convoy near the army cantonment in chowk in j k's srinagar and fled towards a school nearby while a crpf sub inspector has been martyred in the shelling at least two crpf jawans and a civilian have been injured the attack has been claimed by lashkar e taiba \n",
    "실제 요약 : attack in officer \n",
    "1/1 [==============================] - 0s 15ms/step\n",
    "예측 요약 :  fire in j k\n",
    "\n",
    "\n",
    "원문 : manisha koirala has said portraying nargis dutt onscreen is the dream of any actress she said this while discussing how she feels honoured to have played the role of nargis dutt in 'sanju' a biopic on son sanjay dutt she added i have a very small role it's a special appearance but i am really excited to know audience reaction \n",
    "실제 요약 : of actress to play on \n",
    "1/1 [==============================] - 0s 15ms/step\n",
    "예측 요약 :  i in\n",
    "\n",
    "\n",
    "원문 : two bluetooth enabled fidget spinners exploded in the us states of michigan and alabama this week the fidget spinners both of which used bluetooth to connect to phones to play music through built in speakers exploded while charging for less than 30 and 45 minutes one of the box did not have any instructions but only read made in china \n",
    "실제 요약 : while \n",
    "1/1 [==============================] - 0s 16ms/step\n",
    "예측 요약 :  in us to\n",
    "\n",
    "\n",
    "원문 : 83 lakh companies have permanent account number pan but didn't file income tax returns for assessment year 2016 17 delhi had the most number of such companies at over 1 44 lakh notices have been issued to companies which were prima facie not carrying out any business for a period of two immediately preceding and failed to file financial statements \n",
    "실제 요약 : over 6 lakh have but did not tax \n",
    "1/1 [==============================] - 0s 16ms/step\n",
    "예측 요약 :  lakh for not in\n",
    "\n",
    "\n",
    "원문 : party chief mukesh sahni on sunday joined the grand alliance in bihar in the presence of rjd leader tejashwi yadav sahni who is popularly called of ' said if nda wins more than two lok sabha seats in bihar i will quit politics the announcement of his joining came hours after bjp jd u announced their seat sharing arrangement \n",
    "실제 요약 : in bihar of polls \n",
    "1/1 [==============================] - 0s 15ms/step\n",
    "예측 요약 :  in bihar\n",
    "\n",
    "\n",
    "원문 : drug enforcement agents in the us have seized ã¢ââ¹19 crore worth of drugs like and heroin stamped with ride hailing app uber's logo the officials have also arrested four men in the matter one of whom is said to be an uber driver rubber stamps of logos like mcdonald's panda express and animal planet were also found with the suspects \n",
    "실제 요약 : crore worth of with uber in us \n",
    "1/1 [==============================] - 0s 17ms/step\n",
    "예측 요약 :  worth crore in us\n",
    "\n",
    "\n",
    "원문 : slamming a troll for calling her relationship with singer zayn malik a pr stunt supermodel gigi hadid wrote stop trying to a relationship that you don't even know and that you do not see 99 of just because i'm 'a doesn't mean i don't feel like this can be hurtful especially about someone i love deeply she added \n",
    "실제 요약 : slams who with \n",
    "1/1 [==============================] - 0s 15ms/step\n",
    "예측 요약 :  slams for on\n",
    "\n",
    "\n",
    "원문 : kaushal who starred opposite alia bhatt in 'raazi' said she's the most accident prone human being he has ever known on the set whenever you hear someone hurting herself it has to be her she'd keep on banging her knee against the bed or her toe somewhere he added vicky further said she'd hurt herself just by holding the gun \n",
    "실제 요약 : the most human being \n",
    "1/1 [==============================] - 0s 15ms/step\n",
    "예측 요약 :  most of my film\n",
    "\n",
    "\n",
    "원문 : two miners from madhya pradesh's panna district and have become crorepatis after a big diamond they found two months ago was sold for ã¢ââ¹2 55 crore at an auction they had mined a 42 9 carat diamond and the highest bid was of ã¢ââ¹6 lakh per carat they would share ã¢ââ¹2 30 crore after reduction of royalty and other taxes \n",
    "실제 요약 : 2 become as found for ã¢ââ¹2 cr \n",
    "1/1 [==============================] - 0s 16ms/step\n",
    "예측 요약 :  mp has a of ã¢ââ¹2 000 crore\n",
    "\n",
    "\n",
    "원문 : opener smriti mandhana slammed a 129 ball 135 against south africa at on wednesday to become the first indian woman cricketer to smash odi hundreds in three away countries mandhana had earlier slammed a ton each in australia and england the century was also the first by an indian woman against south africa in south africa \n",
    "실제 요약 : 1st indian woman to hit odi in 3 away \n",
    "1/1 [==============================] - 0s 15ms/step\n",
    "예측 요약 :  becomes first to hit in\n",
    "\n",
    "\n",
    "원문 : home ministry has declared nagaland a disturbed area under armed forces special powers act afspa for six more months till june end the ministry said the state is in such a dangerous condition that use of armed forces in aid of civil power is necessary afspa empowers the security forces to conduct operations anywhere and arrest anyone without prior notice \n",
    "실제 요약 : govt in for 6 more months \n",
    "1/1 [==============================] - 0s 15ms/step\n",
    "예측 요약 :  govt for\n",
    "\n",
    "\n",
    "원문 : an argentine navy submarine that went missing on november 15 last year with 44 crew members aboard has been located by a us company the submarine san juan was found some 800 metres below the surface of the atlantic ocean argentina signed a contract with the company in august that guaranteed it 7 5 million if it found the submarine \n",
    "실제 요약 : found a year after with \n",
    "1/1 [==============================] - 0s 15ms/step\n",
    "예측 요약 :  found in in 6 years\n",
    "\n",
    "````\n"
   ]
  },
  {
   "cell_type": "markdown",
   "metadata": {},
   "source": [
    "# Step 5. Summa를 이용해서 추출적 요약해 보기\n",
    "\n"
   ]
  },
  {
   "cell_type": "code",
   "execution_count": null,
   "metadata": {},
   "outputs": [],
   "source": [
    "from summa.summarizer import summarize"
   ]
  },
  {
   "cell_type": "markdown",
   "metadata": {},
   "source": [
    "비율로 summarize"
   ]
  },
  {
   "cell_type": "code",
   "execution_count": null,
   "metadata": {},
   "outputs": [
    {
     "name": "stdout",
     "output_type": "stream",
     "text": [
      "Summary:\n"
     ]
    }
   ],
   "source": [
    "print('Summary:')\n",
    "data['summary_1'] = data['text'].apply(lambda x: summarize(x, ratio = 0.4))"
   ]
  },
  {
   "cell_type": "code",
   "execution_count": null,
   "metadata": {},
   "outputs": [],
   "source": [
    "data['summary_2'] = data['text'].apply(lambda x: summarize(x, words = 15))"
   ]
  },
  {
   "cell_type": "markdown",
   "metadata": {},
   "source": [
    "### 결과 보기\n",
    "- 추출적 요약은 문장을 추출하는 것이다. 그런데, 추출할 요약의 문장이 기준을 넘어가면 ''이 리턴 되는 것 같다.\n",
    "- 아래 결과에서 summry_1, summary_2 컬럼 중 비어 있는 데이터가 요약이 추출되지 않은 것을 보여 준다.\n"
   ]
  },
  {
   "cell_type": "code",
   "execution_count": null,
   "metadata": {},
   "outputs": [
    {
     "data": {
      "text/html": [
       "<div>\n",
       "<style scoped>\n",
       "    .dataframe tbody tr th:only-of-type {\n",
       "        vertical-align: middle;\n",
       "    }\n",
       "\n",
       "    .dataframe tbody tr th {\n",
       "        vertical-align: top;\n",
       "    }\n",
       "\n",
       "    .dataframe thead th {\n",
       "        text-align: right;\n",
       "    }\n",
       "</style>\n",
       "<table border=\"1\" class=\"dataframe\">\n",
       "  <thead>\n",
       "    <tr style=\"text-align: right;\">\n",
       "      <th></th>\n",
       "      <th>summary_1</th>\n",
       "      <th>summary_2</th>\n",
       "    </tr>\n",
       "  </thead>\n",
       "  <tbody>\n",
       "    <tr>\n",
       "      <th>0</th>\n",
       "      <td></td>\n",
       "      <td></td>\n",
       "    </tr>\n",
       "    <tr>\n",
       "      <th>1</th>\n",
       "      <td></td>\n",
       "      <td></td>\n",
       "    </tr>\n",
       "    <tr>\n",
       "      <th>2</th>\n",
       "      <td></td>\n",
       "      <td></td>\n",
       "    </tr>\n",
       "    <tr>\n",
       "      <th>3</th>\n",
       "      <td></td>\n",
       "      <td></td>\n",
       "    </tr>\n",
       "    <tr>\n",
       "      <th>5</th>\n",
       "      <td></td>\n",
       "      <td></td>\n",
       "    </tr>\n",
       "    <tr>\n",
       "      <th>6</th>\n",
       "      <td></td>\n",
       "      <td></td>\n",
       "    </tr>\n",
       "    <tr>\n",
       "      <th>7</th>\n",
       "      <td></td>\n",
       "      <td></td>\n",
       "    </tr>\n",
       "    <tr>\n",
       "      <th>8</th>\n",
       "      <td></td>\n",
       "      <td></td>\n",
       "    </tr>\n",
       "    <tr>\n",
       "      <th>9</th>\n",
       "      <td></td>\n",
       "      <td></td>\n",
       "    </tr>\n",
       "    <tr>\n",
       "      <th>10</th>\n",
       "      <td></td>\n",
       "      <td></td>\n",
       "    </tr>\n",
       "  </tbody>\n",
       "</table>\n",
       "</div>"
      ],
      "text/plain": [
       "   summary_1 summary_2\n",
       "0                     \n",
       "1                     \n",
       "2                     \n",
       "3                     \n",
       "5                     \n",
       "6                     \n",
       "7                     \n",
       "8                     \n",
       "9                     \n",
       "10                    "
      ]
     },
     "execution_count": 144,
     "metadata": {},
     "output_type": "execute_result"
    }
   ],
   "source": [
    "data.loc[:10, ['summary_1', 'summary_2']]"
   ]
  },
  {
   "cell_type": "code",
   "execution_count": null,
   "metadata": {},
   "outputs": [
    {
     "data": {
      "text/html": [
       "<div>\n",
       "<style scoped>\n",
       "    .dataframe tbody tr th:only-of-type {\n",
       "        vertical-align: middle;\n",
       "    }\n",
       "\n",
       "    .dataframe tbody tr th {\n",
       "        vertical-align: top;\n",
       "    }\n",
       "\n",
       "    .dataframe thead th {\n",
       "        text-align: right;\n",
       "    }\n",
       "</style>\n",
       "<table border=\"1\" class=\"dataframe\">\n",
       "  <thead>\n",
       "    <tr style=\"text-align: right;\">\n",
       "      <th></th>\n",
       "      <th>headlines</th>\n",
       "      <th>text</th>\n",
       "      <th>decoder_input</th>\n",
       "      <th>decoder_target</th>\n",
       "      <th>summary_1</th>\n",
       "      <th>summary_2</th>\n",
       "    </tr>\n",
       "  </thead>\n",
       "  <tbody>\n",
       "    <tr>\n",
       "      <th>98396</th>\n",
       "      <td>crpf jawan axed to death by maoists in chhatti...</td>\n",
       "      <td>crpf jawan tuesday axed death sharp edged weap...</td>\n",
       "      <td>sostoken crpf jawan axed to death by maoists i...</td>\n",
       "      <td>crpf jawan axed to death by maoists in chhatti...</td>\n",
       "      <td></td>\n",
       "      <td></td>\n",
       "    </tr>\n",
       "    <tr>\n",
       "      <th>98397</th>\n",
       "      <td>first song from sonakshi sinha noor titled uff...</td>\n",
       "      <td>uff yeh first song sonakshi sinha starrer upco...</td>\n",
       "      <td>sostoken first song from sonakshi sinha noor t...</td>\n",
       "      <td>first song from sonakshi sinha noor titled uff...</td>\n",
       "      <td></td>\n",
       "      <td></td>\n",
       "    </tr>\n",
       "    <tr>\n",
       "      <th>98398</th>\n",
       "      <td>the matrix film to get reboot reports</td>\n",
       "      <td>according reports new version science fiction ...</td>\n",
       "      <td>sostoken the matrix film to get reboot reports</td>\n",
       "      <td>the matrix film to get reboot reports eostoken</td>\n",
       "      <td></td>\n",
       "      <td></td>\n",
       "    </tr>\n",
       "    <tr>\n",
       "      <th>98399</th>\n",
       "      <td>snoop dogg aims gun at clown dressed as trump ...</td>\n",
       "      <td>new music video shows rapper snoop dogg aiming...</td>\n",
       "      <td>sostoken snoop dogg aims gun at clown dressed ...</td>\n",
       "      <td>snoop dogg aims gun at clown dressed as trump ...</td>\n",
       "      <td></td>\n",
       "      <td></td>\n",
       "    </tr>\n",
       "    <tr>\n",
       "      <th>98400</th>\n",
       "      <td>madhesi morcha withdraws support to nepalese g...</td>\n",
       "      <td>madhesi morcha alliance seven political partie...</td>\n",
       "      <td>sostoken madhesi morcha withdraws support to n...</td>\n",
       "      <td>madhesi morcha withdraws support to nepalese g...</td>\n",
       "      <td></td>\n",
       "      <td></td>\n",
       "    </tr>\n",
       "  </tbody>\n",
       "</table>\n",
       "</div>"
      ],
      "text/plain": [
       "                                               headlines  \\\n",
       "98396  crpf jawan axed to death by maoists in chhatti...   \n",
       "98397  first song from sonakshi sinha noor titled uff...   \n",
       "98398              the matrix film to get reboot reports   \n",
       "98399  snoop dogg aims gun at clown dressed as trump ...   \n",
       "98400  madhesi morcha withdraws support to nepalese g...   \n",
       "\n",
       "                                                    text  \\\n",
       "98396  crpf jawan tuesday axed death sharp edged weap...   \n",
       "98397  uff yeh first song sonakshi sinha starrer upco...   \n",
       "98398  according reports new version science fiction ...   \n",
       "98399  new music video shows rapper snoop dogg aiming...   \n",
       "98400  madhesi morcha alliance seven political partie...   \n",
       "\n",
       "                                           decoder_input  \\\n",
       "98396  sostoken crpf jawan axed to death by maoists i...   \n",
       "98397  sostoken first song from sonakshi sinha noor t...   \n",
       "98398     sostoken the matrix film to get reboot reports   \n",
       "98399  sostoken snoop dogg aims gun at clown dressed ...   \n",
       "98400  sostoken madhesi morcha withdraws support to n...   \n",
       "\n",
       "                                          decoder_target summary_1 summary_2  \n",
       "98396  crpf jawan axed to death by maoists in chhatti...                      \n",
       "98397  first song from sonakshi sinha noor titled uff...                      \n",
       "98398     the matrix film to get reboot reports eostoken                      \n",
       "98399  snoop dogg aims gun at clown dressed as trump ...                      \n",
       "98400  madhesi morcha withdraws support to nepalese g...                      "
      ]
     },
     "execution_count": 145,
     "metadata": {},
     "output_type": "execute_result"
    }
   ],
   "source": [
    "data.tail()"
   ]
  },
  {
   "cell_type": "markdown",
   "metadata": {},
   "source": []
  },
  {
   "cell_type": "markdown",
   "metadata": {},
   "source": []
  }
 ],
 "metadata": {
  "kernelspec": {
   "display_name": "Python 3",
   "language": "python",
   "name": "python3"
  },
  "language_info": {
   "codemirror_mode": {
    "name": "ipython",
    "version": 3
   },
   "file_extension": ".py",
   "mimetype": "text/x-python",
   "name": "python",
   "nbconvert_exporter": "python",
   "pygments_lexer": "ipython3",
   "version": "3.10.12"
  }
 },
 "nbformat": 4,
 "nbformat_minor": 2
}
