{
 "cells": [
  {
   "cell_type": "markdown",
   "metadata": {},
   "source": [
    "# 4. 뉴스 요약봇 만들기"
   ]
  },
  {
   "cell_type": "markdown",
   "metadata": {},
   "source": [
    "## Step 1. 데이터 수집하기\n"
   ]
  },
  {
   "cell_type": "code",
   "execution_count": 416,
   "metadata": {},
   "outputs": [
    {
     "name": "stdout",
     "output_type": "stream",
     "text": [
      "3.8.1\n",
      "2.14.0\n",
      "2.1.3\n",
      "1.2.0\n"
     ]
    }
   ],
   "source": [
    "from importlib.metadata import version\n",
    "import nltk\n",
    "import tensorflow\n",
    "import summa\n",
    "import pandas\n",
    "\n",
    "print(nltk.__version__)\n",
    "print(tensorflow.__version__)\n",
    "print(pandas.__version__)\n",
    "print(version('summa'))"
   ]
  },
  {
   "cell_type": "code",
   "execution_count": 417,
   "metadata": {},
   "outputs": [
    {
     "name": "stdout",
     "output_type": "stream",
     "text": [
      "=3\n"
     ]
    },
    {
     "name": "stderr",
     "output_type": "stream",
     "text": [
      "[nltk_data] Downloading package stopwords to\n",
      "[nltk_data]     /home/centillion/nltk_data...\n",
      "[nltk_data]   Package stopwords is already up-to-date!\n"
     ]
    }
   ],
   "source": [
    "import nltk\n",
    "nltk.download('stopwords')\n",
    "\n",
    "import numpy as np\n",
    "import pandas as pd\n",
    "import os\n",
    "import re\n",
    "import matplotlib.pyplot as plt\n",
    "from nltk.corpus import stopwords\n",
    "from bs4 import BeautifulSoup \n",
    "from tensorflow.keras.preprocessing.text import Tokenizer \n",
    "from tensorflow.keras.preprocessing.sequence import pad_sequences\n",
    "import urllib.request\n",
    "import warnings\n",
    "warnings.filterwarnings(\"ignore\", category=UserWarning, module='bs4')\n",
    "\n",
    "print('=3')"
   ]
  },
  {
   "cell_type": "code",
   "execution_count": 418,
   "metadata": {},
   "outputs": [
    {
     "name": "stdout",
     "output_type": "stream",
     "text": [
      "전체 샘플수 : 98401\n"
     ]
    }
   ],
   "source": [
    "import urllib.request\n",
    "import pandas as pd\n",
    "urllib.request.urlretrieve(\"https://raw.githubusercontent.com/sunnysai12345/News_Summary/master/news_summary_more.csv\", filename=\"news_summary_more.csv\")\n",
    "data = pd.read_csv('news_summary_more.csv', encoding='iso-8859-1')\n",
    "print('전체 샘플수 :', (len(data)))"
   ]
  },
  {
   "cell_type": "code",
   "execution_count": 419,
   "metadata": {},
   "outputs": [
    {
     "data": {
      "text/html": [
       "<div>\n",
       "<style scoped>\n",
       "    .dataframe tbody tr th:only-of-type {\n",
       "        vertical-align: middle;\n",
       "    }\n",
       "\n",
       "    .dataframe tbody tr th {\n",
       "        vertical-align: top;\n",
       "    }\n",
       "\n",
       "    .dataframe thead th {\n",
       "        text-align: right;\n",
       "    }\n",
       "</style>\n",
       "<table border=\"1\" class=\"dataframe\">\n",
       "  <thead>\n",
       "    <tr style=\"text-align: right;\">\n",
       "      <th></th>\n",
       "      <th>headlines</th>\n",
       "      <th>text</th>\n",
       "    </tr>\n",
       "  </thead>\n",
       "  <tbody>\n",
       "    <tr>\n",
       "      <th>93025</th>\n",
       "      <td>FIR ordered against woman cop for sexually ass...</td>\n",
       "      <td>A Delhi court has ordered an FIR against a pol...</td>\n",
       "    </tr>\n",
       "    <tr>\n",
       "      <th>56603</th>\n",
       "      <td>BJP leader posts picture with AK-47, captions ...</td>\n",
       "      <td>Youth Bharatiya Janata Party leader Ashish Sar...</td>\n",
       "    </tr>\n",
       "    <tr>\n",
       "      <th>8937</th>\n",
       "      <td>Mumbai-based wealth management startup CashRic...</td>\n",
       "      <td>Mumbai-based wealth management startup CashRic...</td>\n",
       "    </tr>\n",
       "    <tr>\n",
       "      <th>35997</th>\n",
       "      <td>Monthly salary of L-Gs more than doubled to Ã¢...</td>\n",
       "      <td>The Union Cabinet has approved a proposal to r...</td>\n",
       "    </tr>\n",
       "    <tr>\n",
       "      <th>71329</th>\n",
       "      <td>Bihar journalist Pankaj Mishra shot at by two men</td>\n",
       "      <td>Rashtriya Sahara journalist Pankaj Mishra was ...</td>\n",
       "    </tr>\n",
       "    <tr>\n",
       "      <th>30331</th>\n",
       "      <td>Anxious SRK stayed awake 24 hrs for KKR's do-o...</td>\n",
       "      <td>Kolkata Knight Riders' owner Shah Rukh Khan tw...</td>\n",
       "    </tr>\n",
       "    <tr>\n",
       "      <th>5714</th>\n",
       "      <td>Malaysia charges US bank Goldman Sachs over 1M...</td>\n",
       "      <td>Malaysia has filed criminal charges against Go...</td>\n",
       "    </tr>\n",
       "    <tr>\n",
       "      <th>75926</th>\n",
       "      <td>Jacqueline shares pic from Tokyo vacation on h...</td>\n",
       "      <td>Actress Jacqueline Fernandez took to social me...</td>\n",
       "    </tr>\n",
       "    <tr>\n",
       "      <th>34127</th>\n",
       "      <td>Reliance adds Ã¢ÂÂ¹22,000 crore in a day as J...</td>\n",
       "      <td>Mukesh Ambani-led Reliance Industries (RIL) ad...</td>\n",
       "    </tr>\n",
       "    <tr>\n",
       "      <th>74528</th>\n",
       "      <td>Google adds 6-second preview for videos to mob...</td>\n",
       "      <td>Search giant Google on Saturday added a six-se...</td>\n",
       "    </tr>\n",
       "  </tbody>\n",
       "</table>\n",
       "</div>"
      ],
      "text/plain": [
       "                                               headlines  \\\n",
       "93025  FIR ordered against woman cop for sexually ass...   \n",
       "56603  BJP leader posts picture with AK-47, captions ...   \n",
       "8937   Mumbai-based wealth management startup CashRic...   \n",
       "35997  Monthly salary of L-Gs more than doubled to Ã¢...   \n",
       "71329  Bihar journalist Pankaj Mishra shot at by two men   \n",
       "30331  Anxious SRK stayed awake 24 hrs for KKR's do-o...   \n",
       "5714   Malaysia charges US bank Goldman Sachs over 1M...   \n",
       "75926  Jacqueline shares pic from Tokyo vacation on h...   \n",
       "34127  Reliance adds Ã¢ÂÂ¹22,000 crore in a day as J...   \n",
       "74528  Google adds 6-second preview for videos to mob...   \n",
       "\n",
       "                                                    text  \n",
       "93025  A Delhi court has ordered an FIR against a pol...  \n",
       "56603  Youth Bharatiya Janata Party leader Ashish Sar...  \n",
       "8937   Mumbai-based wealth management startup CashRic...  \n",
       "35997  The Union Cabinet has approved a proposal to r...  \n",
       "71329  Rashtriya Sahara journalist Pankaj Mishra was ...  \n",
       "30331  Kolkata Knight Riders' owner Shah Rukh Khan tw...  \n",
       "5714   Malaysia has filed criminal charges against Go...  \n",
       "75926  Actress Jacqueline Fernandez took to social me...  \n",
       "34127  Mukesh Ambani-led Reliance Industries (RIL) ad...  \n",
       "74528  Search giant Google on Saturday added a six-se...  "
      ]
     },
     "execution_count": 419,
     "metadata": {},
     "output_type": "execute_result"
    }
   ],
   "source": [
    "data.sample(10)"
   ]
  },
  {
   "cell_type": "code",
   "execution_count": 420,
   "metadata": {},
   "outputs": [
    {
     "data": {
      "text/html": [
       "<div>\n",
       "<style scoped>\n",
       "    .dataframe tbody tr th:only-of-type {\n",
       "        vertical-align: middle;\n",
       "    }\n",
       "\n",
       "    .dataframe tbody tr th {\n",
       "        vertical-align: top;\n",
       "    }\n",
       "\n",
       "    .dataframe thead th {\n",
       "        text-align: right;\n",
       "    }\n",
       "</style>\n",
       "<table border=\"1\" class=\"dataframe\">\n",
       "  <thead>\n",
       "    <tr style=\"text-align: right;\">\n",
       "      <th></th>\n",
       "      <th>headlines</th>\n",
       "      <th>text</th>\n",
       "    </tr>\n",
       "  </thead>\n",
       "  <tbody>\n",
       "    <tr>\n",
       "      <th>0</th>\n",
       "      <td>upGrad learner switches to career in ML &amp; Al w...</td>\n",
       "      <td>Saurav Kant, an alumnus of upGrad and IIIT-B's...</td>\n",
       "    </tr>\n",
       "    <tr>\n",
       "      <th>1</th>\n",
       "      <td>Delhi techie wins free food from Swiggy for on...</td>\n",
       "      <td>Kunal Shah's credit card bill payment platform...</td>\n",
       "    </tr>\n",
       "    <tr>\n",
       "      <th>2</th>\n",
       "      <td>New Zealand end Rohit Sharma-led India's 12-ma...</td>\n",
       "      <td>New Zealand defeated India by 8 wickets in the...</td>\n",
       "    </tr>\n",
       "    <tr>\n",
       "      <th>3</th>\n",
       "      <td>Aegon life iTerm insurance plan helps customer...</td>\n",
       "      <td>With Aegon Life iTerm Insurance plan, customer...</td>\n",
       "    </tr>\n",
       "    <tr>\n",
       "      <th>4</th>\n",
       "      <td>Have known Hirani for yrs, what if MeToo claim...</td>\n",
       "      <td>Speaking about the sexual harassment allegatio...</td>\n",
       "    </tr>\n",
       "  </tbody>\n",
       "</table>\n",
       "</div>"
      ],
      "text/plain": [
       "                                           headlines  \\\n",
       "0  upGrad learner switches to career in ML & Al w...   \n",
       "1  Delhi techie wins free food from Swiggy for on...   \n",
       "2  New Zealand end Rohit Sharma-led India's 12-ma...   \n",
       "3  Aegon life iTerm insurance plan helps customer...   \n",
       "4  Have known Hirani for yrs, what if MeToo claim...   \n",
       "\n",
       "                                                text  \n",
       "0  Saurav Kant, an alumnus of upGrad and IIIT-B's...  \n",
       "1  Kunal Shah's credit card bill payment platform...  \n",
       "2  New Zealand defeated India by 8 wickets in the...  \n",
       "3  With Aegon Life iTerm Insurance plan, customer...  \n",
       "4  Speaking about the sexual harassment allegatio...  "
      ]
     },
     "execution_count": 420,
     "metadata": {},
     "output_type": "execute_result"
    }
   ],
   "source": [
    "data.head()"
   ]
  },
  {
   "cell_type": "markdown",
   "metadata": {},
   "source": []
  },
  {
   "cell_type": "markdown",
   "metadata": {},
   "source": [
    "## Step 2. 데이터 전처리하기 (추상적 요약)\n"
   ]
  },
  {
   "cell_type": "markdown",
   "metadata": {},
   "source": [
    "### 중복 샘플과 NULL 값이 존재하는 샘플 제거\n",
    "\n",
    "중복 샘플 유무를 확인"
   ]
  },
  {
   "cell_type": "code",
   "execution_count": 421,
   "metadata": {},
   "outputs": [
    {
     "name": "stdout",
     "output_type": "stream",
     "text": [
      "Text 열에서 중복을 배제한 유일한 샘플의 수 : 98360\n",
      "Summary 열에서 중복을 배제한 유일한 샘플의 수 : 98280\n"
     ]
    }
   ],
   "source": [
    "print('Text 열에서 중복을 배제한 유일한 샘플의 수 :', data['text'].nunique())\n",
    "print('Summary 열에서 중복을 배제한 유일한 샘플의 수 :', data['headlines'].nunique())"
   ]
  },
  {
   "cell_type": "markdown",
   "metadata": {},
   "source": [
    "\n",
    "데이터프레임의 ```drop_duplicates()```를 사용하면, 손쉽게 중복 샘플을 제거"
   ]
  },
  {
   "cell_type": "code",
   "execution_count": 422,
   "metadata": {},
   "outputs": [
    {
     "name": "stdout",
     "output_type": "stream",
     "text": [
      "전체 샘플수 : 98360\n"
     ]
    }
   ],
   "source": [
    "# inplace=True 를 설정하면 DataFrame 타입 값을 return 하지 않고 data 내부를 직접적으로 바꿉니다\n",
    "data.drop_duplicates(subset = ['text'], inplace=True)\n",
    "print('전체 샘플수 :', (len(data)))"
   ]
  },
  {
   "cell_type": "markdown",
   "metadata": {},
   "source": [
    "데이터프레임에 Null 값이 있는지 확인"
   ]
  },
  {
   "cell_type": "code",
   "execution_count": 423,
   "metadata": {},
   "outputs": [
    {
     "name": "stdout",
     "output_type": "stream",
     "text": [
      "headlines    0\n",
      "text         0\n",
      "dtype: int64\n"
     ]
    }
   ],
   "source": [
    "print(data.isnull().sum())"
   ]
  },
  {
   "cell_type": "markdown",
   "metadata": {},
   "source": [
    "### 텍스트 정규화와 불용어 제거\n",
    "\n"
   ]
  },
  {
   "cell_type": "code",
   "execution_count": 424,
   "metadata": {},
   "outputs": [
    {
     "name": "stdout",
     "output_type": "stream",
     "text": [
      "정규화 사전의 수:  120\n"
     ]
    }
   ],
   "source": [
    "contractions = {\"ain't\": \"is not\", \"aren't\": \"are not\",\"can't\": \"cannot\", \"'cause\": \"because\", \"could've\": \"could have\", \"couldn't\": \"could not\",\n",
    "                           \"didn't\": \"did not\",  \"doesn't\": \"does not\", \"don't\": \"do not\", \"hadn't\": \"had not\", \"hasn't\": \"has not\", \"haven't\": \"have not\",\n",
    "                           \"he'd\": \"he would\",\"he'll\": \"he will\", \"he's\": \"he is\", \"how'd\": \"how did\", \"how'd'y\": \"how do you\", \"how'll\": \"how will\", \"how's\": \"how is\",\n",
    "                           \"I'd\": \"I would\", \"I'd've\": \"I would have\", \"I'll\": \"I will\", \"I'll've\": \"I will have\",\"I'm\": \"I am\", \"I've\": \"I have\", \"i'd\": \"i would\",\n",
    "                           \"i'd've\": \"i would have\", \"i'll\": \"i will\",  \"i'll've\": \"i will have\",\"i'm\": \"i am\", \"i've\": \"i have\", \"isn't\": \"is not\", \"it'd\": \"it would\",\n",
    "                           \"it'd've\": \"it would have\", \"it'll\": \"it will\", \"it'll've\": \"it will have\",\"it's\": \"it is\", \"let's\": \"let us\", \"ma'am\": \"madam\",\n",
    "                           \"mayn't\": \"may not\", \"might've\": \"might have\",\"mightn't\": \"might not\",\"mightn't've\": \"might not have\", \"must've\": \"must have\",\n",
    "                           \"mustn't\": \"must not\", \"mustn't've\": \"must not have\", \"needn't\": \"need not\", \"needn't've\": \"need not have\",\"o'clock\": \"of the clock\",\n",
    "                           \"oughtn't\": \"ought not\", \"oughtn't've\": \"ought not have\", \"shan't\": \"shall not\", \"sha'n't\": \"shall not\", \"shan't've\": \"shall not have\",\n",
    "                           \"she'd\": \"she would\", \"she'd've\": \"she would have\", \"she'll\": \"she will\", \"she'll've\": \"she will have\", \"she's\": \"she is\",\n",
    "                           \"should've\": \"should have\", \"shouldn't\": \"should not\", \"shouldn't've\": \"should not have\", \"so've\": \"so have\",\"so's\": \"so as\",\n",
    "                           \"this's\": \"this is\",\"that'd\": \"that would\", \"that'd've\": \"that would have\", \"that's\": \"that is\", \"there'd\": \"there would\",\n",
    "                           \"there'd've\": \"there would have\", \"there's\": \"there is\", \"here's\": \"here is\",\"they'd\": \"they would\", \"they'd've\": \"they would have\",\n",
    "                           \"they'll\": \"they will\", \"they'll've\": \"they will have\", \"they're\": \"they are\", \"they've\": \"they have\", \"to've\": \"to have\",\n",
    "                           \"wasn't\": \"was not\", \"we'd\": \"we would\", \"we'd've\": \"we would have\", \"we'll\": \"we will\", \"we'll've\": \"we will have\", \"we're\": \"we are\",\n",
    "                           \"we've\": \"we have\", \"weren't\": \"were not\", \"what'll\": \"what will\", \"what'll've\": \"what will have\", \"what're\": \"what are\",\n",
    "                           \"what's\": \"what is\", \"what've\": \"what have\", \"when's\": \"when is\", \"when've\": \"when have\", \"where'd\": \"where did\", \"where's\": \"where is\",\n",
    "                           \"where've\": \"where have\", \"who'll\": \"who will\", \"who'll've\": \"who will have\", \"who's\": \"who is\", \"who've\": \"who have\",\n",
    "                           \"why's\": \"why is\", \"why've\": \"why have\", \"will've\": \"will have\", \"won't\": \"will not\", \"won't've\": \"will not have\",\n",
    "                           \"would've\": \"would have\", \"wouldn't\": \"would not\", \"wouldn't've\": \"would not have\", \"y'all\": \"you all\",\n",
    "                           \"y'all'd\": \"you all would\",\"y'all'd've\": \"you all would have\",\"y'all're\": \"you all are\",\"y'all've\": \"you all have\",\n",
    "                           \"you'd\": \"you would\", \"you'd've\": \"you would have\", \"you'll\": \"you will\", \"you'll've\": \"you will have\",\n",
    "                           \"you're\": \"you are\", \"you've\": \"you have\"}\n",
    "\n",
    "print(\"정규화 사전의 수: \", len(contractions))"
   ]
  },
  {
   "cell_type": "markdown",
   "metadata": {},
   "source": [
    "불용어 리스트"
   ]
  },
  {
   "cell_type": "code",
   "execution_count": 425,
   "metadata": {},
   "outputs": [
    {
     "name": "stdout",
     "output_type": "stream",
     "text": [
      "불용어 개수 : 179\n",
      "['i', 'me', 'my', 'myself', 'we', 'our', 'ours', 'ourselves', 'you', \"you're\", \"you've\", \"you'll\", \"you'd\", 'your', 'yours', 'yourself', 'yourselves', 'he', 'him', 'his', 'himself', 'she', \"she's\", 'her', 'hers', 'herself', 'it', \"it's\", 'its', 'itself', 'they', 'them', 'their', 'theirs', 'themselves', 'what', 'which', 'who', 'whom', 'this', 'that', \"that'll\", 'these', 'those', 'am', 'is', 'are', 'was', 'were', 'be', 'been', 'being', 'have', 'has', 'had', 'having', 'do', 'does', 'did', 'doing', 'a', 'an', 'the', 'and', 'but', 'if', 'or', 'because', 'as', 'until', 'while', 'of', 'at', 'by', 'for', 'with', 'about', 'against', 'between', 'into', 'through', 'during', 'before', 'after', 'above', 'below', 'to', 'from', 'up', 'down', 'in', 'out', 'on', 'off', 'over', 'under', 'again', 'further', 'then', 'once', 'here', 'there', 'when', 'where', 'why', 'how', 'all', 'any', 'both', 'each', 'few', 'more', 'most', 'other', 'some', 'such', 'no', 'nor', 'not', 'only', 'own', 'same', 'so', 'than', 'too', 'very', 's', 't', 'can', 'will', 'just', 'don', \"don't\", 'should', \"should've\", 'now', 'd', 'll', 'm', 'o', 're', 've', 'y', 'ain', 'aren', \"aren't\", 'couldn', \"couldn't\", 'didn', \"didn't\", 'doesn', \"doesn't\", 'hadn', \"hadn't\", 'hasn', \"hasn't\", 'haven', \"haven't\", 'isn', \"isn't\", 'ma', 'mightn', \"mightn't\", 'mustn', \"mustn't\", 'needn', \"needn't\", 'shan', \"shan't\", 'shouldn', \"shouldn't\", 'wasn', \"wasn't\", 'weren', \"weren't\", 'won', \"won't\", 'wouldn', \"wouldn't\"]\n"
     ]
    }
   ],
   "source": [
    "print('불용어 개수 :', len(stopwords.words('english') ))\n",
    "print(stopwords.words('english'))"
   ]
  },
  {
   "cell_type": "markdown",
   "metadata": {},
   "source": [
    "데이터 전처리 함수\n",
    "- html 태그 제거\n",
    "- ()로 닫힌 문자열 제거\n",
    "- \" 제거\n",
    "- 약어 정규화\n",
    "- 소유격 제거\n",
    "- 영어 외 문자(숫자, 특수문자 등) 공백으로 변환\n",
    "- m이 3개 이상 -> 2개로 변경\n",
    "- 불용어 제거(remove_stopwords = True이면)\n"
   ]
  },
  {
   "cell_type": "markdown",
   "metadata": {},
   "source": []
  },
  {
   "cell_type": "code",
   "execution_count": 426,
   "metadata": {},
   "outputs": [
    {
     "name": "stdout",
     "output_type": "stream",
     "text": [
      "=3\n"
     ]
    }
   ],
   "source": [
    "# 데이터 전처리 함수\n",
    "def preprocess_sentence(sentence, remove_stopwords=True):\n",
    "    sentence = sentence.lower() # 텍스트 소문자화\n",
    "    #sentence = BeautifulSoup(sentence, \"lxml\").text # <br />, <a href = ...> 등의 html 태그 제거\n",
    "    sentence = BeautifulSoup(sentence, \"html.parser\").text # <br />, <a href = ...> 등의 html 태그 제거\n",
    "    sentence = re.sub(r'\\([^)]*\\)', '', sentence) # 괄호로 닫힌 문자열 (...) 제거 Ex) my husband (and myself!) for => my husband for\n",
    "    sentence = re.sub('\"','', sentence) # 쌍따옴표 \" 제거\n",
    "    sentence = ' '.join([contractions[t] if t in contractions else t for t in sentence.split(\" \")]) # 약어 정규화\n",
    "    sentence = re.sub(r\"'s\\b\",\"\", sentence) # 소유격 제거. Ex) roland's -> roland\n",
    "    sentence = re.sub(\"[^a-zA-Z]\", \" \", sentence) # 영어 외 문자(숫자, 특수문자 등) 공백으로 변환\n",
    "    sentence = re.sub('[m]{2,}', 'mm', sentence) # m이 3개 이상이면 2개로 변경. Ex) ummmmmmm yeah -> umm yeah\n",
    "    \n",
    "    # 불용어 제거 (Text)\n",
    "    if remove_stopwords:\n",
    "        tokens = ' '.join(word for word in sentence.split() if not word in stopwords.words('english') if len(word) > 1)\n",
    "    # 불용어 미제거 (Summary)\n",
    "    else:\n",
    "        tokens = ' '.join(word for word in sentence.split() if len(word) > 1)\n",
    "    return tokens\n",
    "print('=3')"
   ]
  },
  {
   "cell_type": "markdown",
   "metadata": {},
   "source": [
    "text 전처리 실행"
   ]
  },
  {
   "cell_type": "code",
   "execution_count": 427,
   "metadata": {},
   "outputs": [
    {
     "name": "stdout",
     "output_type": "stream",
     "text": [
      "Text 전처리 후 결과:  ['saurav kant alumnus upgrad iiit pg program machine learning artificial intelligence sr systems engineer infosys almost years work experience program upgrad degree career support helped transition data scientist tech mahindra salary hike upgrad online power learning powered lakh careers', 'kunal shah credit card bill payment platform cred gave users chance win free food swiggy one year pranav kaushik delhi techie bagged reward spending cred coins users get one cred coin per rupee bill paid used avail rewards brands like ixigo bookmyshow ubereats cult fit', 'new zealand defeated india wickets fourth odi hamilton thursday win first match five match odi series india lost international match rohit sharma captaincy consecutive victories dating back march match witnessed india getting seventh lowest total odi cricket history', 'aegon life iterm insurance plan customers enjoy tax benefits premiums paid save taxes plan provides life cover age years also customers options insure critical illnesses disability accidental death benefit rider life cover age years', 'speaking sexual harassment allegations rajkumar hirani sonam kapoor said known hirani many years true metoo movement get derailed metoo movement always believe woman case need reserve judgment added hirani accused assistant worked sanju']\n"
     ]
    }
   ],
   "source": [
    "# 전체 Text 데이터에 대한 전처리 : 10분 이상 시간이 걸릴 수 있습니다. \n",
    "clean_text = []\n",
    "\n",
    "for i, text in enumerate(data['text']):\n",
    "    # if i % 5000 == 0:\n",
    "    #     print(i)\n",
    "    clean_text.append(preprocess_sentence(text))\n",
    "\n",
    "# 전처리 후 출력\n",
    "print(\"Text 전처리 후 결과: \", clean_text[:5])"
   ]
  },
  {
   "cell_type": "markdown",
   "metadata": {},
   "source": [
    "headlines 전처리 실행"
   ]
  },
  {
   "cell_type": "code",
   "execution_count": 428,
   "metadata": {},
   "outputs": [
    {
     "name": "stderr",
     "output_type": "stream",
     "text": [
      "/tmp/ipykernel_1889365/2986640144.py:5: MarkupResemblesLocatorWarning: The input looks more like a filename than markup. You may want to open this file and pass the filehandle into Beautiful Soup.\n",
      "  sentence = BeautifulSoup(sentence, \"html.parser\").text # <br />, <a href = ...> 등의 html 태그 제거\n"
     ]
    },
    {
     "name": "stdout",
     "output_type": "stream",
     "text": [
      "Summary 전처리 후 결과:  ['upgrad learner switches to career in ml al with salary hike', 'delhi techie wins free food from swiggy for one year on cred', 'new zealand end rohit sharma led india match winning streak', 'aegon life iterm insurance plan helps customers save tax', 'have known hirani for yrs what if metoo claims are not true sonam']\n"
     ]
    }
   ],
   "source": [
    "# 전체 Summary 데이터에 대한 전처리 : 5분 이상 시간이 걸릴 수 있습니다. \n",
    "clean_headlines = []\n",
    "\n",
    "for text in data['headlines']:\n",
    "    clean_headlines.append(preprocess_sentence(text, False))\n",
    "\n",
    "print(\"Summary 전처리 후 결과: \", clean_headlines[:5])"
   ]
  },
  {
   "cell_type": "markdown",
   "metadata": {},
   "source": [
    "다시 한번 빈(empty) 샘플이 생겼는지 확인\n",
    "- 없으므로 ''인 라인을 지울 필요 없음"
   ]
  },
  {
   "cell_type": "code",
   "execution_count": 429,
   "metadata": {},
   "outputs": [
    {
     "name": "stdout",
     "output_type": "stream",
     "text": [
      "0\n",
      "0\n",
      "전체 샘플수:  98360\n"
     ]
    }
   ],
   "source": [
    "print(clean_text.count(''))\n",
    "print(clean_headlines.count(''))\n",
    "\n",
    "print(\"전체 샘플수: \", len(data))\n"
   ]
  },
  {
   "cell_type": "markdown",
   "metadata": {},
   "source": []
  },
  {
   "cell_type": "markdown",
   "metadata": {},
   "source": [
    "### 데이터 전처리하기 (2) 훈련데이터와 테스트데이터 나누기\n"
   ]
  },
  {
   "cell_type": "markdown",
   "metadata": {},
   "source": [
    "#### 샘플의 최대 길이 정하기\n"
   ]
  },
  {
   "cell_type": "code",
   "execution_count": 430,
   "metadata": {},
   "outputs": [
    {
     "name": "stdout",
     "output_type": "stream",
     "text": [
      "텍스트의 최소 길이 : 1\n",
      "텍스트의 최대 길이 : 91\n",
      "텍스트의 평균 길이 : 58.23813542090281\n",
      "헤드라인의 최소 길이 : 1\n",
      "헤드라인의 최대 길이 : 18\n",
      "헤드라인의 평균 길이 : 9.553660024400163\n"
     ]
    },
    {
     "data": {
      "image/png": "[encoded data removed]",
      "text/plain": [
       "<Figure size 640x480 with 2 Axes>"
      ]
     },
     "metadata": {},
     "output_type": "display_data"
    },
    {
     "data": {
      "image/png": "[encoded data removed]",
      "text/plain": [
       "<Figure size 640x480 with 1 Axes>"
      ]
     },
     "metadata": {},
     "output_type": "display_data"
    },
    {
     "data": {
      "image/png": "[encoded data removed]",
      "text/plain": [
       "<Figure size 640x480 with 1 Axes>"
      ]
     },
     "metadata": {},
     "output_type": "display_data"
    }
   ],
   "source": [
    "# 길이 분포 출력\n",
    "import matplotlib.pyplot as plt\n",
    "\n",
    "text_len = [len(s.split()) for s in data['text']]\n",
    "headlines_len = [len(s.split()) for s in data['headlines']]\n",
    "\n",
    "print('텍스트의 최소 길이 : {}'.format(np.min(text_len)))\n",
    "print('텍스트의 최대 길이 : {}'.format(np.max(text_len)))\n",
    "print('텍스트의 평균 길이 : {}'.format(np.mean(text_len)))\n",
    "print('헤드라인의 최소 길이 : {}'.format(np.min(headlines_len)))\n",
    "print('헤드라인의 최대 길이 : {}'.format(np.max(headlines_len)))\n",
    "print('헤드라인의 평균 길이 : {}'.format(np.mean(headlines_len)))\n",
    "\n",
    "plt.subplot(1,2,1)\n",
    "plt.boxplot(text_len)\n",
    "plt.title('text')\n",
    "plt.subplot(1,2,2)\n",
    "plt.boxplot(headlines_len)\n",
    "plt.title('headlines')\n",
    "plt.tight_layout()\n",
    "plt.show()\n",
    "\n",
    "plt.title('text')\n",
    "plt.hist(text_len, bins = 40)\n",
    "plt.xlabel('length of samples')\n",
    "plt.ylabel('number of samples')\n",
    "plt.show()\n",
    "\n",
    "plt.title('headlines')\n",
    "plt.hist(headlines_len, bins = 40)\n",
    "plt.xlabel('length of samples')\n",
    "plt.ylabel('number of samples')\n",
    "plt.show()"
   ]
  },
  {
   "cell_type": "markdown",
   "metadata": {},
   "source": [
    "1 단어로 된 text, headline이 존재하여 확인해 봤더니 ('headlines', 'text') 레코드가 존재하여 삭제하였다."
   ]
  },
  {
   "cell_type": "code",
   "execution_count": 431,
   "metadata": {},
   "outputs": [
    {
     "name": "stdout",
     "output_type": "stream",
     "text": [
      "52 headlines text\n",
      "                                            headlines  \\\n",
      "50  Yashwant Sinha demands probe into alleged fund...   \n",
      "51  Boeing sales cross $100bn for 1st time in its ...   \n",
      "52                                          headlines   \n",
      "53  OnePlus named bestselling premium smartphone b...   \n",
      "\n",
      "                                                 text  \n",
      "50  Former Finance Minister Yashwant Sinha on Tues...  \n",
      "51  US-based Boeing on Wednesday reported annual s...  \n",
      "52                                               text  \n",
      "53  OnePlus has emerged as India's best-selling pr...  \n",
      "                                            headlines  \\\n",
      "50  Yashwant Sinha demands probe into alleged fund...   \n",
      "51  Boeing sales cross $100bn for 1st time in its ...   \n",
      "53  OnePlus named bestselling premium smartphone b...   \n",
      "54  Can never look at female body, even if naked, ...   \n",
      "\n",
      "                                                 text  \n",
      "50  Former Finance Minister Yashwant Sinha on Tues...  \n",
      "51  US-based Boeing on Wednesday reported annual s...  \n",
      "53  OnePlus has emerged as India's best-selling pr...  \n",
      "54  Filmmaker Pooja Bhatt, while talking about the...  \n"
     ]
    }
   ],
   "source": [
    "for i, s in enumerate(data['text']):\n",
    "    if len(s.split()) < 5:\n",
    "        print(i, data.loc[i, \"headlines\"], data.loc[i, \"text\"])\n",
    "\n",
    "print(data.iloc[50:54])\n",
    "data = data.drop(52, axis = 0)\n",
    "print(data.iloc[50:54])"
   ]
  },
  {
   "cell_type": "code",
   "execution_count": 432,
   "metadata": {},
   "outputs": [
    {
     "name": "stdout",
     "output_type": "stream",
     "text": [
      "=3\n"
     ]
    }
   ],
   "source": [
    "text_max_len = 60\n",
    "headlines_max_len = 12\n",
    "print('=3')"
   ]
  },
  {
   "cell_type": "markdown",
   "metadata": {},
   "source": [
    "데이터의 몇 %가 해당하는지 계산하는 함수"
   ]
  },
  {
   "cell_type": "code",
   "execution_count": 433,
   "metadata": {},
   "outputs": [
    {
     "name": "stdout",
     "output_type": "stream",
     "text": [
      "=3\n"
     ]
    }
   ],
   "source": [
    "def below_threshold_len(max_len, nested_list):\n",
    "  cnt = 0\n",
    "  for s in nested_list:\n",
    "    if(len(s.split()) <= max_len):\n",
    "        cnt = cnt + 1\n",
    "  print('전체 샘플 중 길이가 %s 이하인 샘플의 비율: %s'%(max_len, (cnt / len(nested_list))))\n",
    "print('=3')"
   ]
  },
  {
   "cell_type": "code",
   "execution_count": 434,
   "metadata": {},
   "outputs": [
    {
     "name": "stdout",
     "output_type": "stream",
     "text": [
      "전체 샘플 중 길이가 60 이하인 샘플의 비율: 0.9974481237100824\n",
      "전체 샘플 중 길이가 12 이하인 샘플의 비율: 0.976819609796765\n"
     ]
    }
   ],
   "source": [
    "below_threshold_len(text_max_len, data['text'])\n",
    "below_threshold_len(headlines_max_len,  data['headlines'])"
   ]
  },
  {
   "cell_type": "markdown",
   "metadata": {},
   "source": [
    "정해진 길이보다 길면 제외하는 방법으로 데이터를 정제\n"
   ]
  },
  {
   "cell_type": "code",
   "execution_count": 435,
   "metadata": {},
   "outputs": [
    {
     "name": "stdout",
     "output_type": "stream",
     "text": [
      "전체 샘플수 : 95837\n"
     ]
    },
    {
     "data": {
      "text/html": [
       "<div>\n",
       "<style scoped>\n",
       "    .dataframe tbody tr th:only-of-type {\n",
       "        vertical-align: middle;\n",
       "    }\n",
       "\n",
       "    .dataframe tbody tr th {\n",
       "        vertical-align: top;\n",
       "    }\n",
       "\n",
       "    .dataframe thead th {\n",
       "        text-align: right;\n",
       "    }\n",
       "</style>\n",
       "<table border=\"1\" class=\"dataframe\">\n",
       "  <thead>\n",
       "    <tr style=\"text-align: right;\">\n",
       "      <th></th>\n",
       "      <th>headlines</th>\n",
       "      <th>text</th>\n",
       "    </tr>\n",
       "  </thead>\n",
       "  <tbody>\n",
       "    <tr>\n",
       "      <th>1</th>\n",
       "      <td>Delhi techie wins free food from Swiggy for on...</td>\n",
       "      <td>Kunal Shah's credit card bill payment platform...</td>\n",
       "    </tr>\n",
       "    <tr>\n",
       "      <th>2</th>\n",
       "      <td>New Zealand end Rohit Sharma-led India's 12-ma...</td>\n",
       "      <td>New Zealand defeated India by 8 wickets in the...</td>\n",
       "    </tr>\n",
       "    <tr>\n",
       "      <th>3</th>\n",
       "      <td>Aegon life iTerm insurance plan helps customer...</td>\n",
       "      <td>With Aegon Life iTerm Insurance plan, customer...</td>\n",
       "    </tr>\n",
       "    <tr>\n",
       "      <th>5</th>\n",
       "      <td>Rahat Fateh Ali Khan denies getting notice for...</td>\n",
       "      <td>Pakistani singer Rahat Fateh Ali Khan has deni...</td>\n",
       "    </tr>\n",
       "    <tr>\n",
       "      <th>7</th>\n",
       "      <td>Govt directs Alok Verma to join work 1 day bef...</td>\n",
       "      <td>Weeks after ex-CBI Director Alok Verma told th...</td>\n",
       "    </tr>\n",
       "  </tbody>\n",
       "</table>\n",
       "</div>"
      ],
      "text/plain": [
       "                                           headlines  \\\n",
       "1  Delhi techie wins free food from Swiggy for on...   \n",
       "2  New Zealand end Rohit Sharma-led India's 12-ma...   \n",
       "3  Aegon life iTerm insurance plan helps customer...   \n",
       "5  Rahat Fateh Ali Khan denies getting notice for...   \n",
       "7  Govt directs Alok Verma to join work 1 day bef...   \n",
       "\n",
       "                                                text  \n",
       "1  Kunal Shah's credit card bill payment platform...  \n",
       "2  New Zealand defeated India by 8 wickets in the...  \n",
       "3  With Aegon Life iTerm Insurance plan, customer...  \n",
       "5  Pakistani singer Rahat Fateh Ali Khan has deni...  \n",
       "7  Weeks after ex-CBI Director Alok Verma told th...  "
      ]
     },
     "execution_count": 435,
     "metadata": {},
     "output_type": "execute_result"
    }
   ],
   "source": [
    "# data = data[data.apply(lambda x: len(x['Text'].split()) <= text_max_len \n",
    "#     & data.apply(lambda x: len(x['Summary'].split())) <= summary_max_len)]\n",
    "data = data[data['text'].apply(lambda x: len(x.split()) <= text_max_len) & \n",
    "            data['headlines'].apply(lambda x: len(x.split()) <= headlines_max_len)]\n",
    "\n",
    "print('전체 샘플수 :', (len(data)))\n",
    "data.head()"
   ]
  },
  {
   "cell_type": "markdown",
   "metadata": {},
   "source": [
    "#### 디코더 인풋/타겟에 시작 토큰과 종료 토큰 추가하기\n"
   ]
  },
  {
   "cell_type": "code",
   "execution_count": 436,
   "metadata": {},
   "outputs": [
    {
     "data": {
      "text/html": [
       "<div>\n",
       "<style scoped>\n",
       "    .dataframe tbody tr th:only-of-type {\n",
       "        vertical-align: middle;\n",
       "    }\n",
       "\n",
       "    .dataframe tbody tr th {\n",
       "        vertical-align: top;\n",
       "    }\n",
       "\n",
       "    .dataframe thead th {\n",
       "        text-align: right;\n",
       "    }\n",
       "</style>\n",
       "<table border=\"1\" class=\"dataframe\">\n",
       "  <thead>\n",
       "    <tr style=\"text-align: right;\">\n",
       "      <th></th>\n",
       "      <th>headlines</th>\n",
       "      <th>text</th>\n",
       "      <th>decoder_input</th>\n",
       "      <th>decoder_target</th>\n",
       "    </tr>\n",
       "  </thead>\n",
       "  <tbody>\n",
       "    <tr>\n",
       "      <th>1</th>\n",
       "      <td>Delhi techie wins free food from Swiggy for on...</td>\n",
       "      <td>Kunal Shah's credit card bill payment platform...</td>\n",
       "      <td>sostoken Delhi techie wins free food from Swig...</td>\n",
       "      <td>Delhi techie wins free food from Swiggy for on...</td>\n",
       "    </tr>\n",
       "    <tr>\n",
       "      <th>2</th>\n",
       "      <td>New Zealand end Rohit Sharma-led India's 12-ma...</td>\n",
       "      <td>New Zealand defeated India by 8 wickets in the...</td>\n",
       "      <td>sostoken New Zealand end Rohit Sharma-led Indi...</td>\n",
       "      <td>New Zealand end Rohit Sharma-led India's 12-ma...</td>\n",
       "    </tr>\n",
       "    <tr>\n",
       "      <th>3</th>\n",
       "      <td>Aegon life iTerm insurance plan helps customer...</td>\n",
       "      <td>With Aegon Life iTerm Insurance plan, customer...</td>\n",
       "      <td>sostoken Aegon life iTerm insurance plan helps...</td>\n",
       "      <td>Aegon life iTerm insurance plan helps customer...</td>\n",
       "    </tr>\n",
       "    <tr>\n",
       "      <th>5</th>\n",
       "      <td>Rahat Fateh Ali Khan denies getting notice for...</td>\n",
       "      <td>Pakistani singer Rahat Fateh Ali Khan has deni...</td>\n",
       "      <td>sostoken Rahat Fateh Ali Khan denies getting n...</td>\n",
       "      <td>Rahat Fateh Ali Khan denies getting notice for...</td>\n",
       "    </tr>\n",
       "    <tr>\n",
       "      <th>7</th>\n",
       "      <td>Govt directs Alok Verma to join work 1 day bef...</td>\n",
       "      <td>Weeks after ex-CBI Director Alok Verma told th...</td>\n",
       "      <td>sostoken Govt directs Alok Verma to join work ...</td>\n",
       "      <td>Govt directs Alok Verma to join work 1 day bef...</td>\n",
       "    </tr>\n",
       "  </tbody>\n",
       "</table>\n",
       "</div>"
      ],
      "text/plain": [
       "                                           headlines  \\\n",
       "1  Delhi techie wins free food from Swiggy for on...   \n",
       "2  New Zealand end Rohit Sharma-led India's 12-ma...   \n",
       "3  Aegon life iTerm insurance plan helps customer...   \n",
       "5  Rahat Fateh Ali Khan denies getting notice for...   \n",
       "7  Govt directs Alok Verma to join work 1 day bef...   \n",
       "\n",
       "                                                text  \\\n",
       "1  Kunal Shah's credit card bill payment platform...   \n",
       "2  New Zealand defeated India by 8 wickets in the...   \n",
       "3  With Aegon Life iTerm Insurance plan, customer...   \n",
       "5  Pakistani singer Rahat Fateh Ali Khan has deni...   \n",
       "7  Weeks after ex-CBI Director Alok Verma told th...   \n",
       "\n",
       "                                       decoder_input  \\\n",
       "1  sostoken Delhi techie wins free food from Swig...   \n",
       "2  sostoken New Zealand end Rohit Sharma-led Indi...   \n",
       "3  sostoken Aegon life iTerm insurance plan helps...   \n",
       "5  sostoken Rahat Fateh Ali Khan denies getting n...   \n",
       "7  sostoken Govt directs Alok Verma to join work ...   \n",
       "\n",
       "                                      decoder_target  \n",
       "1  Delhi techie wins free food from Swiggy for on...  \n",
       "2  New Zealand end Rohit Sharma-led India's 12-ma...  \n",
       "3  Aegon life iTerm insurance plan helps customer...  \n",
       "5  Rahat Fateh Ali Khan denies getting notice for...  \n",
       "7  Govt directs Alok Verma to join work 1 day bef...  "
      ]
     },
     "execution_count": 436,
     "metadata": {},
     "output_type": "execute_result"
    }
   ],
   "source": [
    "# 요약 데이터에는 시작 토큰과 종료 토큰을 추가한다.\n",
    "data['decoder_input'] = data['headlines'].apply(lambda x : 'sostoken '+ x)\n",
    "data['decoder_target'] = data['headlines'].apply(lambda x : x + ' eostoken')\n",
    "data.head()"
   ]
  },
  {
   "cell_type": "markdown",
   "metadata": {},
   "source": [
    "디코더의 입력과 레이블을 각각 다시 Numpy 타입으로 저장"
   ]
  },
  {
   "cell_type": "code",
   "execution_count": 437,
   "metadata": {},
   "outputs": [
    {
     "name": "stdout",
     "output_type": "stream",
     "text": [
      "=3\n"
     ]
    }
   ],
   "source": [
    "encoder_input = np.array(data['text']) # 인코더의 입력\n",
    "decoder_input = np.array(data['decoder_input']) # 디코더의 입력\n",
    "decoder_target = np.array(data['decoder_target']) # 디코더의 레이블\n",
    "print('=3')"
   ]
  },
  {
   "cell_type": "markdown",
   "metadata": {},
   "source": [
    "훈련 데이터와 테스트 데이터를 분리"
   ]
  },
  {
   "cell_type": "code",
   "execution_count": 438,
   "metadata": {},
   "outputs": [
    {
     "data": {
      "text/plain": [
       "(95837,)"
      ]
     },
     "execution_count": 438,
     "metadata": {},
     "output_type": "execute_result"
    }
   ],
   "source": [
    "encoder_input.shape"
   ]
  },
  {
   "cell_type": "code",
   "execution_count": 439,
   "metadata": {},
   "outputs": [
    {
     "name": "stdout",
     "output_type": "stream",
     "text": [
      "[60887 43120 93332 ... 80530 92342 60169]\n"
     ]
    }
   ],
   "source": [
    "indices = np.arange(encoder_input.shape[0])\n",
    "np.random.shuffle(indices)\n",
    "print(indices)"
   ]
  },
  {
   "cell_type": "code",
   "execution_count": 440,
   "metadata": {},
   "outputs": [
    {
     "name": "stdout",
     "output_type": "stream",
     "text": [
      "=3\n"
     ]
    }
   ],
   "source": [
    "encoder_input = encoder_input[indices]\n",
    "decoder_input = decoder_input[indices]\n",
    "decoder_target = decoder_target[indices]\n",
    "print('=3')"
   ]
  },
  {
   "cell_type": "markdown",
   "metadata": {},
   "source": [
    "섞인 데이터를 8:2의 비율로 훈련 데이터와 테스트 데이터로 분리"
   ]
  },
  {
   "cell_type": "code",
   "execution_count": 441,
   "metadata": {},
   "outputs": [
    {
     "name": "stdout",
     "output_type": "stream",
     "text": [
      "테스트 데이터의 수 : 19167\n"
     ]
    }
   ],
   "source": [
    "n_of_val = int(len(encoder_input)*0.2)\n",
    "print('테스트 데이터의 수 :', n_of_val)"
   ]
  },
  {
   "cell_type": "code",
   "execution_count": 442,
   "metadata": {},
   "outputs": [
    {
     "name": "stdout",
     "output_type": "stream",
     "text": [
      "훈련 데이터의 개수 : 76670\n",
      "훈련 레이블의 개수 : 76670\n",
      "테스트 데이터의 개수 : 19167\n",
      "테스트 레이블의 개수 : 19167\n"
     ]
    }
   ],
   "source": [
    "encoder_input_train = encoder_input[:-n_of_val]\n",
    "decoder_input_train = decoder_input[:-n_of_val]\n",
    "decoder_target_train = decoder_target[:-n_of_val]\n",
    "\n",
    "encoder_input_test = encoder_input[-n_of_val:]\n",
    "decoder_input_test = decoder_input[-n_of_val:]\n",
    "decoder_target_test = decoder_target[-n_of_val:]\n",
    "\n",
    "print('훈련 데이터의 개수 :', len(encoder_input_train))\n",
    "print('훈련 레이블의 개수 :', len(decoder_input_train))\n",
    "print('테스트 데이터의 개수 :', len(encoder_input_test))\n",
    "print('테스트 레이블의 개수 :', len(decoder_input_test))"
   ]
  },
  {
   "cell_type": "markdown",
   "metadata": {},
   "source": [
    "### 데이터 전처리하기 (3) 정수 인코딩\n",
    "\n",
    "#### 단어 집합(vocabulary) 만들기 및 정수 인코딩\n"
   ]
  },
  {
   "cell_type": "code",
   "execution_count": 443,
   "metadata": {},
   "outputs": [
    {
     "name": "stdout",
     "output_type": "stream",
     "text": [
      "=3\n"
     ]
    }
   ],
   "source": [
    "src_tokenizer = Tokenizer() # 토크나이저 정의\n",
    "src_tokenizer.fit_on_texts(encoder_input_train) # 입력된 데이터로부터 단어 집합 생성\n",
    "print('=3')"
   ]
  },
  {
   "cell_type": "markdown",
   "metadata": {},
   "source": [
    "등장 빈도수가 7회 미만인 단어들이 이 데이터에서 얼만큼의 비중을 차지하는지 확인\n",
    "\n",
    "```src_tokenizer.word_counts.items()```에는 단어와 각 단어의 등장 빈도수가 저장돼 있는데, 이를 통해서 통계적인 정보를 얻을 수 있다."
   ]
  },
  {
   "cell_type": "code",
   "execution_count": 444,
   "metadata": {},
   "outputs": [
    {
     "name": "stdout",
     "output_type": "stream",
     "text": [
      "단어 집합(vocabulary)의 크기 : 90442\n",
      "등장 빈도가 7번 이하인 희귀 단어의 수: 67797\n",
      "단어 집합에서 희귀 단어를 제외시킬 경우의 단어 집합의 크기 22645\n",
      "단어 집합에서 희귀 단어의 비율: 74.96185400588222\n",
      "전체 등장 빈도에서 희귀 단어 등장 빈도 비율: 3.0638089159283073\n"
     ]
    }
   ],
   "source": [
    "threshold = 8\n",
    "total_cnt = len(src_tokenizer.word_index) # 단어의 수\n",
    "rare_cnt = 0 # 등장 빈도수가 threshold보다 작은 단어의 개수를 카운트\n",
    "total_freq = 0 # 훈련 데이터의 전체 단어 빈도수 총 합\n",
    "rare_freq = 0 # 등장 빈도수가 threshold보다 작은 단어의 등장 빈도수의 총 합\n",
    "\n",
    "# 단어와 빈도수의 쌍(pair)을 key와 value로 받는다.\n",
    "for key, value in src_tokenizer.word_counts.items():\n",
    "    total_freq = total_freq + value\n",
    "\n",
    "    # 단어의 등장 빈도수가 threshold보다 작으면\n",
    "    if(value < threshold):\n",
    "        rare_cnt = rare_cnt + 1\n",
    "        rare_freq = rare_freq + value\n",
    "\n",
    "print('단어 집합(vocabulary)의 크기 :', total_cnt)\n",
    "print('등장 빈도가 %s번 이하인 희귀 단어의 수: %s'%(threshold - 1, rare_cnt))\n",
    "print('단어 집합에서 희귀 단어를 제외시킬 경우의 단어 집합의 크기 %s'%(total_cnt - rare_cnt))\n",
    "print(\"단어 집합에서 희귀 단어의 비율:\", (rare_cnt / total_cnt)*100)\n",
    "print(\"전체 등장 빈도에서 희귀 단어 등장 빈도 비율:\", (rare_freq / total_freq)*100)"
   ]
  },
  {
   "cell_type": "markdown",
   "metadata": {},
   "source": [
    "등장 빈도가 threshold 값인 8회 미만, 즉 7회 이하인 단어들은 단어 집합에서 74% 이상을 차지한다. 하지만 실제로 훈련 데이터에서 등장 빈도로 차지하는 비중은 3.05%밖에 되지 않는다.\n",
    "\n",
    "그래서 등장 빈도가 6회 이하인 단어들은 정수 인코딩 과정에서 빼고, 훈련 데이터에서 제거하고자 한다. 단어 집합의 크기를 22000개로 제한한다. "
   ]
  },
  {
   "cell_type": "code",
   "execution_count": 445,
   "metadata": {},
   "outputs": [
    {
     "name": "stdout",
     "output_type": "stream",
     "text": [
      "=3\n"
     ]
    }
   ],
   "source": [
    "src_vocab = 22000\n",
    "src_tokenizer = Tokenizer(num_words=src_vocab) # 단어 집합의 크기를 22,000으로 제한\n",
    "src_tokenizer.fit_on_texts(encoder_input_train) # 단어 집합 재생성\n",
    "print('=3')"
   ]
  },
  {
   "cell_type": "markdown",
   "metadata": {},
   "source": [
    "```texts_to_sequences()```는 생성된 단어 집합에 기반하여 입력으로 주어진 텍스트 데이터의 단어들을 모두 정수로 변환하는 정수 인코딩을 수행한다. 단어 집합의 크기를 22,000으로 제한했으므로 22,000이 넘는 숫자들은 정수 인코딩 후에는 데이터에 존재하지 않는다."
   ]
  },
  {
   "cell_type": "code",
   "execution_count": 446,
   "metadata": {},
   "outputs": [
    {
     "name": "stdout",
     "output_type": "stream",
     "text": [
      "[[9, 1, 48, 77, 177, 37, 9204, 4059, 8, 38, 312, 1, 41, 48, 2519, 7, 37, 519, 5, 360, 287, 192, 2600, 161, 1, 519, 12, 3143, 15, 1002, 3948, 5518, 5669, 9, 1, 4785, 77, 21, 878, 756, 72, 146, 4368, 136, 28, 8, 290, 1, 48, 41, 48, 416, 2, 25, 312, 4, 1, 519], [911, 149, 2358, 3037, 4836, 7, 123, 1276, 15939, 19, 95, 1423, 28, 34, 1239, 94, 7, 1, 642, 2, 734, 6947, 149, 4836, 12, 7, 17, 402, 2, 1, 71, 385, 70, 14, 983, 1, 1423, 6, 303, 224, 19, 17, 273, 2, 2507, 15939, 14, 10, 219, 3, 472, 1567, 177, 183, 1, 95, 1423, 23, 25, 4305], [130, 7, 134, 132, 40, 2, 1564, 1, 4222, 5, 8780, 234, 4, 170, 29, 3, 97, 896, 830, 157, 25, 7476, 6, 25, 1942, 16, 3, 3781, 333, 820, 479, 486, 791, 8, 68, 10, 1, 8780, 234, 12, 3, 1440, 5, 820, 7379, 387, 6, 157, 25, 1310, 36, 2, 130]]\n"
     ]
    }
   ],
   "source": [
    "# 텍스트 시퀀스를 정수 시퀀스로 변환\n",
    "encoder_input_train = src_tokenizer.texts_to_sequences(encoder_input_train) \n",
    "encoder_input_test = src_tokenizer.texts_to_sequences(encoder_input_test)\n",
    "\n",
    "# 잘 진행되었는지 샘플 출력\n",
    "print(encoder_input_train[:3])"
   ]
  },
  {
   "cell_type": "markdown",
   "metadata": {},
   "source": [
    "headlines 데이터에 대해서도 동일한 작업을 수행"
   ]
  },
  {
   "cell_type": "code",
   "execution_count": 447,
   "metadata": {},
   "outputs": [
    {
     "name": "stdout",
     "output_type": "stream",
     "text": [
      "=3\n"
     ]
    }
   ],
   "source": [
    "tar_tokenizer = Tokenizer()\n",
    "tar_tokenizer.fit_on_texts(decoder_input_train)\n",
    "print('=3')"
   ]
  },
  {
   "cell_type": "markdown",
   "metadata": {},
   "source": [
    "target token의 통계 정보를 얻어서 등장 빈도수가 7회 미만인 단어들의 데이터 내 비중을 확인한다.\n",
    "- ```tar_tokenizer.word_counts.items()```에 단어와 각 단어의 등장 빈도수가 저장되어 있다."
   ]
  },
  {
   "cell_type": "code",
   "execution_count": 448,
   "metadata": {},
   "outputs": [
    {
     "name": "stdout",
     "output_type": "stream",
     "text": [
      "단어 집합(vocabulary)의 크기 : 40438\n",
      "등장 빈도가 5번 이하인 희귀 단어의 수: 29269\n",
      "단어 집합에서 희귀 단어를 제외시킬 경우의 단어 집합의 크기 11169\n",
      "단어 집합에서 희귀 단어의 비율: 72.37993966071517\n",
      "전체 등장 빈도에서 희귀 단어 등장 빈도 비율: 6.308998739658699\n"
     ]
    }
   ],
   "source": [
    "threshold = 6\n",
    "total_cnt = len(tar_tokenizer.word_index) # 단어의 수\n",
    "rare_cnt = 0 # 등장 빈도수가 threshold보다 작은 단어의 개수를 카운트\n",
    "total_freq = 0 # 훈련 데이터의 전체 단어 빈도수 총 합\n",
    "rare_freq = 0 # 등장 빈도수가 threshold보다 작은 단어의 등장 빈도수의 총 합\n",
    "\n",
    "# 단어와 빈도수의 쌍(pair)을 key와 value로 받는다.\n",
    "for key, value in tar_tokenizer.word_counts.items():\n",
    "    total_freq = total_freq + value\n",
    "\n",
    "    # 단어의 등장 빈도수가 threshold보다 작으면\n",
    "    if(value < threshold):\n",
    "        rare_cnt = rare_cnt + 1\n",
    "        rare_freq = rare_freq + value\n",
    "\n",
    "print('단어 집합(vocabulary)의 크기 :', total_cnt)\n",
    "print('등장 빈도가 %s번 이하인 희귀 단어의 수: %s'%(threshold - 1, rare_cnt))\n",
    "print('단어 집합에서 희귀 단어를 제외시킬 경우의 단어 집합의 크기 %s'%(total_cnt - rare_cnt))\n",
    "print(\"단어 집합에서 희귀 단어의 비율:\", (rare_cnt / total_cnt)*100)\n",
    "print(\"전체 등장 빈도에서 희귀 단어 등장 빈도 비율:\", (rare_freq / total_freq)*100)"
   ]
  },
  {
   "cell_type": "markdown",
   "metadata": {},
   "source": [
    "등장 빈도가 2회 이하인 단어들은 단어 집합에서 약 57%를 차지한다. 하지만 실제로 훈련 데이터에서 등장 빈도로 차지하는 비중은  3.46%밖에 되지 않는다. 이 단어들은 모두 제거하고. 단어 집합의 크기를 17000개로 제한한다.\n",
    "- headline의 특성상 등장 빈도가 낮은 단어가 아마존 예에서 보다 적다.\n",
    "- target 단어수가 많아지면 어떤 영향이 있을까?"
   ]
  },
  {
   "cell_type": "code",
   "execution_count": 449,
   "metadata": {},
   "outputs": [
    {
     "name": "stdout",
     "output_type": "stream",
     "text": [
      "input\n",
      "input  [[1, 15, 44, 1843, 21, 7, 2780, 2346, 103, 442, 5, 47, 60], [1, 453, 39, 837, 13, 3008, 121, 742], [1, 2268, 9339, 6, 4841, 211, 4, 58, 65, 3, 14], [1, 602, 928, 2781, 3, 273, 97, 6409, 671, 5, 131, 5192], [1, 2347, 71, 4113, 181, 644, 1010]]\n",
      "target\n",
      "decoder  [[15, 44, 1843, 21, 7, 2780, 2346, 103, 442, 5, 47, 60, 2], [453, 39, 837, 13, 3008, 121, 742, 2], [2268, 9339, 6, 4841, 211, 4, 58, 65, 3, 14, 2], [602, 928, 2781, 3, 273, 97, 6409, 671, 5, 131, 5192, 2], [2347, 71, 4113, 181, 644, 1010, 2]]\n"
     ]
    }
   ],
   "source": [
    "#tar_vocab = 10000\n",
    "#tar_vocab = 5000\n",
    "#tar_vocab = 2000\n",
    "#tar_vocab = 1000\n",
    "#tar_vocab = 500\n",
    "tar_vocab = 11000\n",
    "tar_tokenizer = Tokenizer(num_words=tar_vocab) \n",
    "tar_tokenizer.fit_on_texts(decoder_input_train)\n",
    "tar_tokenizer.fit_on_texts(decoder_target_train)\n",
    "\n",
    "# 텍스트 시퀀스를 정수 시퀀스로 변환\n",
    "decoder_input_train = tar_tokenizer.texts_to_sequences(decoder_input_train) \n",
    "decoder_target_train = tar_tokenizer.texts_to_sequences(decoder_target_train)\n",
    "decoder_input_test = tar_tokenizer.texts_to_sequences(decoder_input_test)\n",
    "decoder_target_test = tar_tokenizer.texts_to_sequences(decoder_target_test)\n",
    "\n",
    "# 잘 변환되었는지 확인\n",
    "print('input')\n",
    "print('input ',decoder_input_train[:5])\n",
    "print('target')\n",
    "print('decoder ',decoder_target_train[:5])"
   ]
  },
  {
   "cell_type": "markdown",
   "metadata": {},
   "source": []
  },
  {
   "cell_type": "markdown",
   "metadata": {},
   "source": [
    "요약문에서 길이가 0이 된 샘플들의 데이터를 지운다.\n",
    "- decoder_input에는 sostoken 또는 decoder_target에는 eostoken이 추가된 상태\n",
    "- 길이가 0이 된 요약문의 실제 길이는 1로 나온다.\n",
    "- 훈련 데이터와 테스트 데이터에 대해서 요약문의 길이가 1인 경우의 인덱스를 각각 drop_train과 drop_test 변수에 저장하고 이 샘플들은 모두 삭제할 거예요."
   ]
  },
  {
   "cell_type": "code",
   "execution_count": 450,
   "metadata": {},
   "outputs": [
    {
     "name": "stdout",
     "output_type": "stream",
     "text": [
      "삭제할 훈련 데이터의 개수 : 0\n",
      "삭제할 테스트 데이터의 개수 : 0\n",
      "훈련 데이터의 개수 : 76670\n",
      "훈련 레이블의 개수 : 76670\n",
      "테스트 데이터의 개수 : 19167\n",
      "테스트 레이블의 개수 : 19167\n"
     ]
    }
   ],
   "source": [
    "drop_train = [index for index, sentence in enumerate(decoder_input_train) if len(sentence) == 1]\n",
    "drop_test = [index for index, sentence in enumerate(decoder_input_test) if len(sentence) == 1]\n",
    "\n",
    "print('삭제할 훈련 데이터의 개수 :', len(drop_train))\n",
    "print('삭제할 테스트 데이터의 개수 :', len(drop_test))\n",
    "\n",
    "encoder_input_train = [sentence for index, sentence in enumerate(encoder_input_train) if index not in drop_train]\n",
    "decoder_input_train = [sentence for index, sentence in enumerate(decoder_input_train) if index not in drop_train]\n",
    "decoder_target_train = [sentence for index, sentence in enumerate(decoder_target_train) if index not in drop_train]\n",
    "\n",
    "encoder_input_test = [sentence for index, sentence in enumerate(encoder_input_test) if index not in drop_test]\n",
    "decoder_input_test = [sentence for index, sentence in enumerate(decoder_input_test) if index not in drop_test]\n",
    "decoder_target_test = [sentence for index, sentence in enumerate(decoder_target_test) if index not in drop_test]\n",
    "\n",
    "print('훈련 데이터의 개수 :', len(encoder_input_train))\n",
    "print('훈련 레이블의 개수 :', len(decoder_input_train))\n",
    "print('테스트 데이터의 개수 :', len(encoder_input_test))\n",
    "print('테스트 레이블의 개수 :', len(decoder_input_test))"
   ]
  },
  {
   "cell_type": "markdown",
   "metadata": {},
   "source": [
    "#### 패딩하기\n",
    "\n",
    "서로 다른 길이의 샘플들을 병렬 처리하기 위해 같은 길이로 맞춰주는 패딩 작업 시행"
   ]
  },
  {
   "cell_type": "code",
   "execution_count": 451,
   "metadata": {},
   "outputs": [
    {
     "name": "stdout",
     "output_type": "stream",
     "text": [
      "=3\n"
     ]
    }
   ],
   "source": [
    "encoder_input_train = pad_sequences(encoder_input_train, maxlen=text_max_len, padding='post')\n",
    "encoder_input_test = pad_sequences(encoder_input_test, maxlen=text_max_len, padding='post')\n",
    "decoder_input_train = pad_sequences(decoder_input_train, maxlen=headlines_max_len, padding='post')\n",
    "decoder_target_train = pad_sequences(decoder_target_train, maxlen=headlines_max_len, padding='post')\n",
    "decoder_input_test = pad_sequences(decoder_input_test, maxlen=headlines_max_len, padding='post')\n",
    "decoder_target_test = pad_sequences(decoder_target_test, maxlen=headlines_max_len, padding='post')\n",
    "print('=3')"
   ]
  },
  {
   "cell_type": "markdown",
   "metadata": {},
   "source": [
    "## Step 3. 모델 설계하기"
   ]
  },
  {
   "cell_type": "markdown",
   "metadata": {},
   "source": [
    "### 인코더"
   ]
  },
  {
   "cell_type": "code",
   "execution_count": 452,
   "metadata": {},
   "outputs": [],
   "source": [
    "from tensorflow.keras.layers import Input, LSTM, Embedding, Dense, Concatenate, TimeDistributed\n",
    "from tensorflow.keras.models import Model\n",
    "from tensorflow.keras.callbacks import EarlyStopping, ModelCheckpoint\n",
    "\n",
    "# recurrent drop out\n",
    "#recurrent_dropout_flag = True\n",
    "recurrent_dropout_flag = False\n",
    "\n",
    "# 인코더 설계 시작\n",
    "embedding_dim = 128\n",
    "hidden_size = 256\n",
    "\n",
    "# 인코더\n",
    "encoder_inputs = Input(shape=(text_max_len,))\n",
    "\n",
    "# 인코더의 임베딩 층\n",
    "enc_emb = Embedding(src_vocab, embedding_dim)(encoder_inputs)\n",
    "\n",
    "# 인코더의 LSTM 1\n",
    "if recurrent_dropout_flag:\n",
    "    encoder_lstm1 = LSTM(hidden_size, return_sequences=True, return_state=True ,dropout = 0.4, recurrent_dropout = 0.4)\n",
    "else:\n",
    "    encoder_lstm1 = LSTM(hidden_size, return_sequences=True, return_state=True ,dropout = 0.4)\n",
    "encoder_output1, state_h1, state_c1 = encoder_lstm1(enc_emb)\n",
    "\n",
    "# 인코더의 LSTM 2\n",
    "if recurrent_dropout_flag:\n",
    "    encoder_lstm2 = LSTM(hidden_size, return_sequences=True, return_state=True ,dropout = 0.4, recurrent_dropout = 0.4)\n",
    "else:\n",
    "    encoder_lstm2 = LSTM(hidden_size, return_sequences=True, return_state=True ,dropout = 0.4)\n",
    "encoder_output2, state_h2, state_c2 = encoder_lstm2(encoder_output1)\n",
    "\n",
    "# 인코더의 LSTM 3\n",
    "if recurrent_dropout_flag:\n",
    "    encoder_lstm3 = LSTM(hidden_size, return_sequences=True, return_state=True ,dropout = 0.4, recurrent_dropout = 0.4)\n",
    "else:\n",
    "    encoder_lstm3 = LSTM(hidden_size, return_sequences=True, return_state=True ,dropout = 0.4)\n",
    "encoder_outputs, state_h, state_c = encoder_lstm3(encoder_output2)\n"
   ]
  },
  {
   "cell_type": "markdown",
   "metadata": {},
   "source": [
    "### 디코더"
   ]
  },
  {
   "cell_type": "code",
   "execution_count": 453,
   "metadata": {},
   "outputs": [],
   "source": [
    "# 디코더 설계\n",
    "decoder_inputs = Input(shape=(None,))\n",
    "\n",
    "# 디코더의 임베딩 층\n",
    "dec_emb_layer = Embedding(tar_vocab, embedding_dim)\n",
    "dec_emb = dec_emb_layer(decoder_inputs)\n",
    "\n",
    "# 디코더의 LSTM\n",
    "if recurrent_dropout_flag:\n",
    "    decoder_lstm = LSTM(hidden_size, return_sequences=True, return_state=True, dropout=0.4, recurrent_dropout=0.2)\n",
    "else:\n",
    "    decoder_lstm = LSTM(hidden_size, return_sequences=True, return_state=True, dropout=0.4)\n",
    "decoder_outputs, _, _ = decoder_lstm(dec_emb, initial_state=[state_h, state_c])"
   ]
  },
  {
   "cell_type": "markdown",
   "metadata": {},
   "source": [
    "디코더의 출력층에서는 Summary의 단어장인 tar_vocab의 수많은 선택지 중 하나의 단어를 선택하는 다중 클래스 분류 문제를 풀어야 한다. 그러므로, Dense의 인자로 tar_vocab을 주고, 활성화 함수로 소프트맥스 함수를 사용한다.\n",
    "\n",
    "\n",
    "### 어텐션 메커니즘\n",
    "\n"
   ]
  },
  {
   "cell_type": "markdown",
   "metadata": {},
   "source": []
  },
  {
   "cell_type": "code",
   "execution_count": 454,
   "metadata": {},
   "outputs": [
    {
     "name": "stdout",
     "output_type": "stream",
     "text": [
      "Model: \"model_25\"\n",
      "__________________________________________________________________________________________________\n",
      " Layer (type)                Output Shape                 Param #   Connected to                  \n",
      "==================================================================================================\n",
      " input_33 (InputLayer)       [(None, 60)]                 0         []                            \n",
      "                                                                                                  \n",
      " embedding_14 (Embedding)    (None, 60, 128)              2816000   ['input_33[0][0]']            \n",
      "                                                                                                  \n",
      " lstm_28 (LSTM)              [(None, 60, 256),            394240    ['embedding_14[0][0]']        \n",
      "                              (None, 256),                                                        \n",
      "                              (None, 256)]                                                        \n",
      "                                                                                                  \n",
      " input_34 (InputLayer)       [(None, None)]               0         []                            \n",
      "                                                                                                  \n",
      " lstm_29 (LSTM)              [(None, 60, 256),            525312    ['lstm_28[0][0]']             \n",
      "                              (None, 256),                                                        \n",
      "                              (None, 256)]                                                        \n",
      "                                                                                                  \n",
      " embedding_15 (Embedding)    (None, None, 128)            1408000   ['input_34[0][0]']            \n",
      "                                                                                                  \n",
      " lstm_30 (LSTM)              [(None, 60, 256),            525312    ['lstm_29[0][0]']             \n",
      "                              (None, 256),                                                        \n",
      "                              (None, 256)]                                                        \n",
      "                                                                                                  \n",
      " lstm_31 (LSTM)              [(None, None, 256),          394240    ['embedding_15[0][0]',        \n",
      "                              (None, 256),                           'lstm_30[0][1]',             \n",
      "                              (None, 256)]                           'lstm_30[0][2]']             \n",
      "                                                                                                  \n",
      " attention_layer (AdditiveA  (None, None, 256)            256       ['lstm_31[0][0]',             \n",
      " ttention)                                                           'lstm_30[0][0]']             \n",
      "                                                                                                  \n",
      " concat_layer (Concatenate)  (None, None, 512)            0         ['lstm_31[0][0]',             \n",
      "                                                                     'attention_layer[0][0]']     \n",
      "                                                                                                  \n",
      " dense_13 (Dense)            (None, None, 11000)          5643000   ['concat_layer[0][0]']        \n",
      "                                                                                                  \n",
      "==================================================================================================\n",
      "Total params: 11706360 (44.66 MB)\n",
      "Trainable params: 11706360 (44.66 MB)\n",
      "Non-trainable params: 0 (0.00 Byte)\n",
      "__________________________________________________________________________________________________\n"
     ]
    }
   ],
   "source": [
    "from tensorflow.keras.layers import AdditiveAttention\n",
    "\n",
    "# 어텐션 층(어텐션 함수)\n",
    "attn_layer = AdditiveAttention(name='attention_layer')\n",
    "\n",
    "# 인코더와 디코더의 모든 time step의 hidden state를 어텐션 층에 전달하고 결과를 리턴\n",
    "attn_out = attn_layer([decoder_outputs, encoder_outputs])\n",
    "\n",
    "\n",
    "# 어텐션의 결과와 디코더의 hidden state들을 연결\n",
    "decoder_concat_input = Concatenate(axis=-1, name='concat_layer')([decoder_outputs, attn_out])\n",
    "\n",
    "# 디코더의 출력층\n",
    "decoder_softmax_layer = Dense(tar_vocab, activation='softmax')\n",
    "decoder_softmax_outputs = decoder_softmax_layer(decoder_concat_input)\n",
    "\n",
    "# 모델 정의\n",
    "model = Model([encoder_inputs, decoder_inputs], decoder_softmax_outputs)\n",
    "model.summary()"
   ]
  },
  {
   "cell_type": "markdown",
   "metadata": {},
   "source": [
    "위의 코드는 인코더의 hidden state들과 디코더의 hidden state들을 어텐션 함수의 입력으로 사용하고, 어텐션 함수가 리턴한 값을 예측 시에 디코더의 hidden state와 함께 활용하는 형태로 작동하고 있어요."
   ]
  },
  {
   "cell_type": "markdown",
   "metadata": {},
   "source": [
    "### 모델 훈련하기\n",
    "\n",
    "설계한 모델을 가지고 훈련 진행"
   ]
  },
  {
   "cell_type": "code",
   "execution_count": 455,
   "metadata": {},
   "outputs": [
    {
     "name": "stdout",
     "output_type": "stream",
     "text": [
      "Epoch 1/50\n"
     ]
    },
    {
     "name": "stderr",
     "output_type": "stream",
     "text": [
      "2023-11-15 15:29:45.905337: W tensorflow/core/grappler/costs/op_level_cost_estimator.cc:693] Error in PredictCost() for the op: op: \"Softmax\" attr { key: \"T\" value { type: DT_FLOAT } } inputs { dtype: DT_FLOAT shape { unknown_rank: true } } device { type: \"GPU\" vendor: \"NVIDIA\" model: \"NVIDIA GeForce RTX 2080 Ti\" frequency: 1650 num_cores: 68 environment { key: \"architecture\" value: \"7.5\" } environment { key: \"cuda\" value: \"11080\" } environment { key: \"cudnn\" value: \"8600\" } num_registers: 65536 l1_cache_size: 24576 l2_cache_size: 5767168 shared_memory_size_per_multiprocessor: 65536 memory_size: 9511632896 bandwidth: 616000000 } outputs { dtype: DT_FLOAT shape { unknown_rank: true } }\n"
     ]
    },
    {
     "name": "stdout",
     "output_type": "stream",
     "text": [
      "300/300 [==============================] - ETA: 0s - loss: 6.1401"
     ]
    },
    {
     "name": "stderr",
     "output_type": "stream",
     "text": [
      "2023-11-15 15:30:04.532652: W tensorflow/core/grappler/costs/op_level_cost_estimator.cc:693] Error in PredictCost() for the op: op: \"Softmax\" attr { key: \"T\" value { type: DT_FLOAT } } inputs { dtype: DT_FLOAT shape { unknown_rank: true } } device { type: \"GPU\" vendor: \"NVIDIA\" model: \"NVIDIA GeForce RTX 2080 Ti\" frequency: 1650 num_cores: 68 environment { key: \"architecture\" value: \"7.5\" } environment { key: \"cuda\" value: \"11080\" } environment { key: \"cudnn\" value: \"8600\" } num_registers: 65536 l1_cache_size: 24576 l2_cache_size: 5767168 shared_memory_size_per_multiprocessor: 65536 memory_size: 9511632896 bandwidth: 616000000 } outputs { dtype: DT_FLOAT shape { unknown_rank: true } }\n"
     ]
    },
    {
     "name": "stdout",
     "output_type": "stream",
     "text": [
      "300/300 [==============================] - 23s 66ms/step - loss: 6.1401 - val_loss: 5.7992\n",
      "Epoch 2/50\n",
      "300/300 [==============================] - 17s 57ms/step - loss: 5.8249 - val_loss: 5.7149\n",
      "Epoch 3/50\n",
      "300/300 [==============================] - 17s 57ms/step - loss: 5.7279 - val_loss: 5.6232\n",
      "Epoch 4/50\n",
      "300/300 [==============================] - 17s 56ms/step - loss: 5.6339 - val_loss: 5.5157\n",
      "Epoch 5/50\n",
      "300/300 [==============================] - 17s 56ms/step - loss: 5.5026 - val_loss: 5.4040\n",
      "Epoch 6/50\n",
      "300/300 [==============================] - 17s 56ms/step - loss: 5.3786 - val_loss: 5.2718\n",
      "Epoch 7/50\n",
      "300/300 [==============================] - 17s 56ms/step - loss: 5.2497 - val_loss: 5.1722\n",
      "Epoch 8/50\n",
      "300/300 [==============================] - 17s 56ms/step - loss: 5.1326 - val_loss: 5.0645\n",
      "Epoch 9/50\n",
      "300/300 [==============================] - 17s 56ms/step - loss: 5.0215 - val_loss: 4.9781\n",
      "Epoch 10/50\n",
      "300/300 [==============================] - 17s 56ms/step - loss: 4.9135 - val_loss: 4.8827\n",
      "Epoch 11/50\n",
      "300/300 [==============================] - 17s 56ms/step - loss: 4.8119 - val_loss: 4.8089\n",
      "Epoch 12/50\n",
      "300/300 [==============================] - 17s 56ms/step - loss: 4.7121 - val_loss: 4.7260\n",
      "Epoch 13/50\n",
      "300/300 [==============================] - 17s 56ms/step - loss: 4.6168 - val_loss: 4.6443\n",
      "Epoch 14/50\n",
      "300/300 [==============================] - 17s 56ms/step - loss: 4.5282 - val_loss: 4.5949\n",
      "Epoch 15/50\n",
      "300/300 [==============================] - 17s 56ms/step - loss: 4.4469 - val_loss: 4.5411\n",
      "Epoch 16/50\n",
      "300/300 [==============================] - 17s 56ms/step - loss: 4.3707 - val_loss: 4.4740\n",
      "Epoch 17/50\n",
      "300/300 [==============================] - 17s 56ms/step - loss: 4.2993 - val_loss: 4.4291\n",
      "Epoch 18/50\n",
      "300/300 [==============================] - 17s 56ms/step - loss: 4.2310 - val_loss: 4.3825\n",
      "Epoch 19/50\n",
      "300/300 [==============================] - 17s 56ms/step - loss: 4.1647 - val_loss: 4.3462\n",
      "Epoch 20/50\n",
      "300/300 [==============================] - 17s 56ms/step - loss: 4.1003 - val_loss: 4.3003\n",
      "Epoch 21/50\n",
      "300/300 [==============================] - 17s 56ms/step - loss: 4.0392 - val_loss: 4.2678\n",
      "Epoch 22/50\n",
      "300/300 [==============================] - 17s 56ms/step - loss: 3.9798 - val_loss: 4.2269\n",
      "Epoch 23/50\n",
      "300/300 [==============================] - 17s 56ms/step - loss: 3.9227 - val_loss: 4.2023\n",
      "Epoch 24/50\n",
      "300/300 [==============================] - 17s 56ms/step - loss: 3.8684 - val_loss: 4.1661\n",
      "Epoch 25/50\n",
      "300/300 [==============================] - 17s 56ms/step - loss: 3.8148 - val_loss: 4.1418\n",
      "Epoch 26/50\n",
      "300/300 [==============================] - 17s 56ms/step - loss: 3.7639 - val_loss: 4.1067\n",
      "Epoch 27/50\n",
      "300/300 [==============================] - 17s 57ms/step - loss: 3.7157 - val_loss: 4.0867\n",
      "Epoch 28/50\n",
      "300/300 [==============================] - 17s 56ms/step - loss: 3.6693 - val_loss: 4.0642\n",
      "Epoch 29/50\n",
      "300/300 [==============================] - 17s 56ms/step - loss: 3.6238 - val_loss: 4.0465\n",
      "Epoch 30/50\n",
      "300/300 [==============================] - 17s 56ms/step - loss: 3.5802 - val_loss: 4.0264\n",
      "Epoch 31/50\n",
      "300/300 [==============================] - 17s 56ms/step - loss: 3.5367 - val_loss: 4.0133\n",
      "Epoch 32/50\n",
      "300/300 [==============================] - 17s 56ms/step - loss: 3.4968 - val_loss: 3.9962\n",
      "Epoch 33/50\n",
      "300/300 [==============================] - 17s 56ms/step - loss: 3.4560 - val_loss: 3.9794\n",
      "Epoch 34/50\n",
      "300/300 [==============================] - 17s 56ms/step - loss: 3.4177 - val_loss: 3.9652\n",
      "Epoch 35/50\n",
      "300/300 [==============================] - 17s 56ms/step - loss: 3.3804 - val_loss: 3.9574\n",
      "Epoch 36/50\n",
      "300/300 [==============================] - 17s 56ms/step - loss: 3.3442 - val_loss: 3.9374\n",
      "Epoch 37/50\n",
      "300/300 [==============================] - 17s 57ms/step - loss: 3.3081 - val_loss: 3.9300\n",
      "Epoch 38/50\n",
      "300/300 [==============================] - 17s 56ms/step - loss: 3.2743 - val_loss: 3.9277\n",
      "Epoch 39/50\n",
      "300/300 [==============================] - 17s 56ms/step - loss: 3.2409 - val_loss: 3.9159\n",
      "Epoch 40/50\n",
      "300/300 [==============================] - 17s 56ms/step - loss: 3.2084 - val_loss: 3.9058\n",
      "Epoch 41/50\n",
      "300/300 [==============================] - 17s 56ms/step - loss: 3.1758 - val_loss: 3.9014\n",
      "Epoch 42/50\n",
      "300/300 [==============================] - 17s 56ms/step - loss: 3.1452 - val_loss: 3.8920\n",
      "Epoch 43/50\n",
      "300/300 [==============================] - 17s 56ms/step - loss: 3.1154 - val_loss: 3.8862\n",
      "Epoch 44/50\n",
      "300/300 [==============================] - 17s 56ms/step - loss: 3.0860 - val_loss: 3.8780\n",
      "Epoch 45/50\n",
      "300/300 [==============================] - 17s 57ms/step - loss: 3.0569 - val_loss: 3.8747\n",
      "Epoch 46/50\n",
      "300/300 [==============================] - 17s 57ms/step - loss: 3.0287 - val_loss: 3.8766\n",
      "Epoch 47/50\n",
      "300/300 [==============================] - 17s 56ms/step - loss: 3.0022 - val_loss: 3.8697\n",
      "Epoch 48/50\n",
      "300/300 [==============================] - 17s 56ms/step - loss: 2.9740 - val_loss: 3.8636\n",
      "Epoch 49/50\n",
      "300/300 [==============================] - 17s 56ms/step - loss: 2.9487 - val_loss: 3.8650\n",
      "Epoch 50/50\n",
      "300/300 [==============================] - 17s 56ms/step - loss: 2.9227 - val_loss: 3.8579\n"
     ]
    }
   ],
   "source": [
    "model.compile(optimizer='rmsprop', loss='sparse_categorical_crossentropy')\n",
    "es = EarlyStopping(monitor='val_loss', patience=2, verbose=1)\n",
    "history = model.fit(x=[encoder_input_train, decoder_input_train], y=decoder_target_train, \\\n",
    "          validation_data=([encoder_input_test, decoder_input_test], decoder_target_test), \\\n",
    "          batch_size=256, callbacks=[es], epochs=50)"
   ]
  },
  {
   "cell_type": "code",
   "execution_count": 456,
   "metadata": {},
   "outputs": [
    {
     "data": {
      "image/png": "[encoded data removed]",
      "text/plain": [
       "<Figure size 640x480 with 1 Axes>"
      ]
     },
     "metadata": {},
     "output_type": "display_data"
    }
   ],
   "source": [
    "plt.plot(history.history['loss'], label='train')\n",
    "plt.plot(history.history['val_loss'], label='test')\n",
    "plt.legend()\n",
    "plt.show()"
   ]
  },
  {
   "cell_type": "markdown",
   "metadata": {},
   "source": [
    "## Step 4. 실제 결과와 요약문 비교하기(추상적 요약)\n",
    "\n",
    "테스트 단계에서는 정수 인덱스 행렬로 존재하던 텍스트 데이터를 실제 데이터로 복원해야 하므로, 필요한 3개의 사전을 만든다."
   ]
  },
  {
   "cell_type": "code",
   "execution_count": 457,
   "metadata": {},
   "outputs": [
    {
     "name": "stdout",
     "output_type": "stream",
     "text": [
      "=3\n"
     ]
    }
   ],
   "source": [
    "src_index_to_word = src_tokenizer.index_word # 원문 단어 집합에서 정수 -> 단어를 얻음\n",
    "tar_word_to_index = tar_tokenizer.word_index # 요약 단어 집합에서 단어 -> 정수를 얻음\n",
    "tar_index_to_word = tar_tokenizer.index_word # 요약 단어 집합에서 정수 -> 단어를 얻음\n",
    "\n",
    "print('=3')"
   ]
  },
  {
   "cell_type": "markdown",
   "metadata": {},
   "source": [
    "seq2seq는 훈련할 때와 실제 동작할 때(인퍼런스 단계)의 방식이 다르므로 그에 맞게 모델 설계를 별개로 진행해야 한다. \n",
    "정답 문장이 없는 인퍼런스 단계에서는 만들어야 할 문장의 길이만큼 디코더가 반복 구조로 동작해야 하기 때문에 부득이하게 인퍼런스를 위한 모델 설계를 별도로 해주어야 한다. 이때는 인코더 모델과 디코더 모델을 분리해서 설계한다."
   ]
  },
  {
   "cell_type": "markdown",
   "metadata": {},
   "source": []
  },
  {
   "cell_type": "code",
   "execution_count": 458,
   "metadata": {},
   "outputs": [
    {
     "name": "stdout",
     "output_type": "stream",
     "text": [
      "=3\n"
     ]
    }
   ],
   "source": [
    "# 인코더 설계\n",
    "encoder_model = Model(inputs=encoder_inputs, outputs=[encoder_outputs, state_h, state_c])\n",
    "\n",
    "# 이전 시점의 상태들을 저장하는 텐서\n",
    "decoder_state_input_h = Input(shape=(hidden_size,))\n",
    "decoder_state_input_c = Input(shape=(hidden_size,))\n",
    "\n",
    "dec_emb2 = dec_emb_layer(decoder_inputs)\n",
    "\n",
    "# 문장의 다음 단어를 예측하기 위해서 초기 상태(initial_state)를 이전 시점의 상태로 사용. 이는 뒤의 함수 decode_sequence()에 구현\n",
    "# 훈련 과정에서와 달리 LSTM의 리턴하는 은닉 상태와 셀 상태인 state_h와 state_c를 버리지 않음.\n",
    "decoder_outputs2, state_h2, state_c2 = decoder_lstm(dec_emb2, initial_state=[decoder_state_input_h, decoder_state_input_c])\n",
    "\n",
    "print('=3')"
   ]
  },
  {
   "cell_type": "markdown",
   "metadata": {},
   "source": [
    "어텐션 메커니즘을 사용하는 출력층을 설계"
   ]
  },
  {
   "cell_type": "code",
   "execution_count": 459,
   "metadata": {},
   "outputs": [
    {
     "name": "stdout",
     "output_type": "stream",
     "text": [
      "=3\n"
     ]
    }
   ],
   "source": [
    "# 어텐션 함수\n",
    "decoder_hidden_state_input = Input(shape=(text_max_len, hidden_size))\n",
    "attn_out_inf = attn_layer([decoder_outputs2, decoder_hidden_state_input])\n",
    "decoder_inf_concat = Concatenate(axis=-1, name='concat')([decoder_outputs2, attn_out_inf])\n",
    "\n",
    "# 디코더의 출력층\n",
    "decoder_outputs2 = decoder_softmax_layer(decoder_inf_concat) \n",
    "\n",
    "# 최종 디코더 모델\n",
    "decoder_model = Model(\n",
    "    [decoder_inputs] + [decoder_hidden_state_input,decoder_state_input_h, decoder_state_input_c],\n",
    "    [decoder_outputs2] + [state_h2, state_c2])\n",
    "\n",
    "print('=3')"
   ]
  },
  {
   "cell_type": "markdown",
   "metadata": {},
   "source": [
    "인퍼런스 단계에서 단어 시퀀스를 완성하는 함수"
   ]
  },
  {
   "cell_type": "code",
   "execution_count": 460,
   "metadata": {},
   "outputs": [
    {
     "name": "stdout",
     "output_type": "stream",
     "text": [
      "=3\n"
     ]
    }
   ],
   "source": [
    "def decode_sequence(input_seq):\n",
    "    # 입력으로부터 인코더의 상태를 얻음\n",
    "    e_out, e_h, e_c = encoder_model.predict(input_seq)\n",
    "\n",
    "     # <SOS>에 해당하는 토큰 생성\n",
    "    target_seq = np.zeros((1,1))\n",
    "    target_seq[0, 0] = tar_word_to_index['sostoken']\n",
    "\n",
    "    stop_condition = False\n",
    "    decoded_sentence = ''\n",
    "    i = 0\n",
    "    while not stop_condition: # stop_condition이 True가 될 때까지 루프 반복\n",
    "        # i += 1\n",
    "        # if i == 1:\n",
    "        #     print(target_seq.shape)\n",
    "        #     print(e_out.shape, e_h.shape, e_c.shape)    \n",
    "            \n",
    "        output_tokens, h, c = decoder_model.predict([target_seq] + [e_out, e_h, e_c], verbose = 0)\n",
    "        sampled_token_index = np.argmax(output_tokens[0, -1, :])\n",
    "        sampled_token = tar_index_to_word[sampled_token_index]\n",
    "\n",
    "        if (sampled_token!='eostoken'):\n",
    "            decoded_sentence += ' '+sampled_token\n",
    "\n",
    "        #  <eos>에 도달하거나 최대 길이를 넘으면 중단.\n",
    "        if (sampled_token == 'eostoken'  or len(decoded_sentence.split()) >= (headlines_max_len-1)):\n",
    "            stop_condition = True\n",
    "\n",
    "        # 길이가 1인 타겟 시퀀스를 업데이트\n",
    "        target_seq = np.zeros((1,1))\n",
    "        target_seq[0, 0] = sampled_token_index\n",
    "\n",
    "        # 상태를 업데이트 합니다.\n",
    "        e_h, e_c = h, c\n",
    "\n",
    "    return decoded_sentence\n",
    "print('=3')"
   ]
  },
  {
   "cell_type": "markdown",
   "metadata": {},
   "source": [
    "###  모델 테스트하기"
   ]
  },
  {
   "cell_type": "code",
   "execution_count": 461,
   "metadata": {},
   "outputs": [
    {
     "name": "stdout",
     "output_type": "stream",
     "text": [
      "=3\n"
     ]
    }
   ],
   "source": [
    "# 원문의 정수 시퀀스를 텍스트 시퀀스로 변환\n",
    "def seq2text(input_seq):\n",
    "    temp=''\n",
    "    for i in input_seq:\n",
    "        if (i!=0):\n",
    "            temp = temp + src_index_to_word[i]+' '\n",
    "    return temp\n",
    "\n",
    "# 요약문의 정수 시퀀스를 텍스트 시퀀스로 변환\n",
    "def seq2summary(input_seq):\n",
    "    temp=''\n",
    "    for i in input_seq:\n",
    "        if((i != 0 and i != tar_word_to_index['sostoken']) and i != tar_word_to_index['eostoken']):\n",
    "            temp = temp + tar_index_to_word[i] + ' '\n",
    "    return temp\n",
    "\n",
    "print('=3')"
   ]
  },
  {
   "cell_type": "markdown",
   "metadata": {},
   "source": [
    "테스트 데이터 약 50개의 샘플에 대해서 실제 요약과 예측된 요약을 비교함"
   ]
  },
  {
   "cell_type": "code",
   "execution_count": 462,
   "metadata": {},
   "outputs": [
    {
     "name": "stdout",
     "output_type": "stream",
     "text": [
      "원문 : ministers are taking leadership lessons at the indian institute of management ahmedabad to deliver on their pre poll promises the ministers who were on a three day study tour that started on monday have taken lessons on leadership and ethics healthcare education and public private partnership the bjp government came to power in jharkhand two and a half years ago \n",
      "실제 요약 : jharkhand ministers take management lessons at iim a \n"
     ]
    },
    {
     "name": "stdout",
     "output_type": "stream",
     "text": [
      "1/1 [==============================] - 0s 494ms/step\n"
     ]
    },
    {
     "name": "stderr",
     "output_type": "stream",
     "text": [
      "2023-11-15 15:43:53.867347: W tensorflow/core/grappler/costs/op_level_cost_estimator.cc:693] Error in PredictCost() for the op: op: \"Softmax\" attr { key: \"T\" value { type: DT_FLOAT } } inputs { dtype: DT_FLOAT shape { unknown_rank: true } } device { type: \"GPU\" vendor: \"NVIDIA\" model: \"NVIDIA GeForce RTX 2080 Ti\" frequency: 1650 num_cores: 68 environment { key: \"architecture\" value: \"7.5\" } environment { key: \"cuda\" value: \"11080\" } environment { key: \"cudnn\" value: \"8600\" } num_registers: 65536 l1_cache_size: 24576 l2_cache_size: 5767168 shared_memory_size_per_multiprocessor: 65536 memory_size: 9511632896 bandwidth: 616000000 } outputs { dtype: DT_FLOAT shape { unknown_rank: true } }\n"
     ]
    },
    {
     "name": "stdout",
     "output_type": "stream",
     "text": [
      "예측 요약 :  punjab govt to get special for 3 days in parliament\n",
      "\n",
      "\n",
      "원문 : irish tech startup has rolled out a plan to produce a imaging system that can identify cows from their facial features and hide patterns the artificial intelligence ai system will use face recognition to track the behaviour eating patterns and overall health of livestock it will then send instant alerts to farmers helping them take on farm decisions nnnn \n",
      "실제 요약 : irish startup to develop facial recognition system for cows \n",
      "1/1 [==============================] - 0s 22ms/step\n",
      "예측 요약 :  startup bans meat recognition to monitor people in us\n",
      "\n",
      "\n",
      "원문 : speaking during the lok sabha debate over the rafale deal defence minister nirmala sitharaman has said there is a difference between defence dealings and dealing in defence we deal in defence with national security as a priority congress failed to bring even a single aircraft during upa's tenure all 36 fighter jets will come to india by 2022 sitharaman added \n",
      "실제 요약 : difference in defence and dealing in defence sitharaman \n",
      "1/1 [==============================] - 0s 21ms/step\n",
      "예측 요약 :  rafale deal with rafale deal with sitharaman\n",
      "\n",
      "\n",
      "원문 : samajwadi party founder mulayam singh yadav has slammed his son akhilesh yadav stating one who his father can't be a friend of others no father made his son the cm during his own lifetime and what did akhilesh do he sacked his own uncle from his cabinet mulayam said i've never been insulted so much he added \n",
      "실제 요약 : one who his father canã¢âât be others' friend mulayam \n",
      "1/1 [==============================] - 0s 20ms/step\n",
      "예측 요약 :  shivpal yadav calls me for son tej pratap\n",
      "\n",
      "\n",
      "원문 : pakistani cricketer turned politician imran khan tied the knot for the third time on sunday khan's wife is a also known as the 65 year old first married in 1995 to daughter of a british billionaire before separating in 2004 he later married tv anchor reham khan in 2015 but parted ways 10 months later \n",
      "실제 요약 : former pak captain imran khan ties the knot for third time \n",
      "1/1 [==============================] - 0s 18ms/step\n",
      "예측 요약 :  imran khan attends wife wife in his son\n",
      "\n",
      "\n",
      "원문 : after congress president rahul gandhi met goa cm manohar parrikar bjp mla michael said his simplicity his has to be really admired by all the indians and the added these types of leaders are required in goa and india rahul had said he made a personal visit to parrikar's office to wish him a speedy recovery \n",
      "실제 요약 : rahul's should be bjp mla \n",
      "1/1 [==============================] - 0s 17ms/step\n",
      "예측 요약 :  goa cm calls rahul gandhi\n",
      "\n",
      "\n",
      "원문 : olympic bronze medallist dutt has said indian coaches live in the past and lack the hunger to learn the 35 year added that indian coaches continue to train with the old systems in 2003 for the first time we got a coach it was after that we won at the olympics he further said \n",
      "실제 요약 : indian coaches live in past olympic medallist dutt \n",
      "1/1 [==============================] - 0s 16ms/step\n",
      "예측 요약 :  irrfan khan in india due to india\n",
      "\n",
      "\n",
      "원문 : palestinian sunni islamic organisation hamas on thursday killed three men accused of one of its senior members in executions that appear to have been partially streamed live on facebook notably hamas has executed 28 people who were sentenced to death by its courts since taking over the gaza strip in an armed coup in 2007 \n",
      "실제 요약 : hamas kills 3 men in execution partially streamed on fb \n",
      "1/1 [==============================] - 0s 17ms/step\n",
      "예측 요약 :  isis al qaeda al qaeda in us\n",
      "\n",
      "\n",
      "원문 : german physicist conrad won the first ever nobel prize in physics in 1901 for discovering x rays while testing if rays could pass through glass accidentally discovered the rays on november 8 and dubbed them so because of their unknown nature he later printed the first medical x ray which shows his wife's hand and a ring \n",
      "실제 요약 : first ever physics nobel was awarded for x \n",
      "1/1 [==============================] - 0s 16ms/step\n",
      "예측 요약 :  world's oldest olympic champ to have no test\n",
      "\n",
      "\n",
      "원문 : the calcutta high court has said the dates for west bengal panchayat elections released by the state election commission are and the final decision will be taken by a division bench of the court the directions came based on a plea challenging the commission's decision to hold the election in a single phase on may 14 \n",
      "실제 요약 : hc to decide bengal rural poll dates not election panel \n",
      "1/1 [==============================] - 0s 16ms/step\n",
      "예측 요약 :  hc allows wb poll poll for panchayat polls\n",
      "\n",
      "\n",
      "원문 : us ambassador to the un nikki haley on wednesday said every threat to peace in the middle east is connected to iran's outlawed behaviour the us has now embarked on a course that attempts to address all aspects of iran's destructive conduct haley added earlier us president donald trump had announced that he will decertify the 2015 iran nuclear deal \n",
      "실제 요약 : every threat to peace in middle east connected to iran us \n",
      "1/1 [==============================] - 0s 17ms/step\n",
      "예측 요약 :  will build nukes in middle of war with us envoy\n",
      "\n",
      "\n",
      "원문 : in an internal email technology major google has said that it does not that the new b visa norms which restrict the hiring of entry level computer will impact its employees our software engineering roles don't fall into the job categories included in the united states citizenship and immigration services' new guidance the email read \n",
      "실제 요약 : new h 1b visa rules won't impact our employees says google \n",
      "1/1 [==============================] - 0s 15ms/step\n",
      "예측 요약 :  google google asks google to stop its security search\n",
      "\n",
      "\n",
      "원문 : america's 40 year old businessman jason ceo and managing director of business development firm i dev international was among those killed on tuesday in a terror attack on a kenyan hotel jason survived the september 11 attacks on the world trade center in new york in 2001 he would have turned 41 next week \n",
      "실제 요약 : yr old businessman who survived 9 11 dies in hotel terror attack \n",
      "1/1 [==============================] - 0s 17ms/step\n",
      "예측 요약 :  indian ceo ceo who killed in us\n",
      "\n",
      "\n",
      "원문 : batsman vvs laxman has revealed ms dhoni was not responsible for his retirement as perceived by the media laxman in his autobiography admitted he joked with media that he didn't inform dhoni about his decision as the latter was difficult to reach little did i realise this would trigger the first and only controversy of my cricketing career he added \n",
      "실제 요약 : ms dhoni wasn't responsible for my retirement vvs laxman \n",
      "1/1 [==============================] - 0s 16ms/step\n",
      "예측 요약 :  dhoni didn't have been a lot of him says dhoni\n",
      "\n",
      "\n",
      "원문 : at least 45 people were injured on tuesday while forming human pyramids during celebrations on the occasion of janmashtami in mumbai one of them was seriously injured and admitted to a hospital while others were reportedly discharged after administering first aid across maharashtra form multi tier pyramids to break of tied high above the ground on janmashtami \n",
      "실제 요약 : 45 people injured during celebrations in mumbai \n",
      "1/1 [==============================] - 0s 15ms/step\n",
      "예측 요약 :  3 people injured in jaipur on fire in uttarakhand\n",
      "\n",
      "\n",
      "원문 : a who became a symbol of anti government protests in venezuela was released on tuesday after three weeks in detention officials said was often seen playing venezuela's national anthem while standing amid clouds of tear gas he was detained last month during a protest and his lawyers said that he was beaten with his while in custody \n",
      "실제 요약 : playing protester freed from venezuelan jail \n",
      "1/1 [==============================] - 0s 16ms/step\n",
      "예측 요약 :  video of myanmar after being called off\n",
      "\n",
      "\n",
      "원문 : is seeking to raise ã¢ââ¹10 500 crore debt from the open market for rehabilitation and rebuilding chief minister pinarayi vijayan has requested the centre to increase the borrowing limit for the state from the current 3 to 4 5 of the state's gdp vijayan also said the state government will demand a ã¢ââ¹2 600 crore special package from the centre \n",
      "실제 요약 : kerala seeks to raise ã¢ââ¹10 500 crore debt for \n",
      "1/1 [==============================] - 0s 16ms/step\n",
      "예측 요약 :  govt approves ã¢ââ¹1 000 crore for central government\n",
      "\n",
      "\n",
      "원문 : supreme court on tuesday asked google facebook yahoo microsoft and whatsapp to give inputs on complaints they have received on objectionable content the bench asked the companies to provide details about the number of complaints they have received in india pertaining to child pornography and rape the companies have also been asked about the actions taken for the same n \n",
      "실제 요약 : sc asks google fb to give on content complaints \n",
      "1/1 [==============================] - 0s 15ms/step\n",
      "예측 요약 :  google whatsapp to google whatsapp to remove fake media\n",
      "\n",
      "\n",
      "원문 : japan has decided to former union law minister ashwani kumar with one of its top civilian honours for his contribution to strengthening bilateral relations with india kumar will be awarded the grand cordon of the order of the rising sun its third highest civilian honour notably kumar had served as former pm manmohan singh's special envoy to japan \n",
      "실제 요약 : kumar to get japan's 3rd highest civilian honour \n",
      "1/1 [==============================] - 0s 15ms/step\n",
      "예측 요약 :  japan chairman to be named in india\n",
      "\n",
      "\n",
      "원문 : tunnelling startup the boring company's ceo elon musk has started a company called brick store to produce and sell bricks as per public documents the new company which was founded in july will be managed by former spacex engineer and boring company executive steve davis the bricks will be made from soil displaced by the companyã¢ââs tunnel boring machines \n",
      "실제 요약 : elon musk launches first store to sell bricks made from dirt \n",
      "1/1 [==============================] - 0s 15ms/step\n",
      "예측 요약 :  musk buys musk's company to sell tesla startup\n",
      "\n",
      "\n",
      "원문 : bansal the founders of india's largest e commerce startup flipkart once worked at us based firm amazon further binny once admitted he was rejected by google twice before he joined amazon on wednesday walmart closed the largest e commerce deal in the world by acquiring a majority stake in the homegrown startup reportedly valuing it at about 20 8 billion \n",
      "실제 요약 : flipkart founders sachin binny bansal once worked at amazon \n",
      "1/1 [==============================] - 0s 15ms/step\n",
      "예측 요약 :  flipkart co founder bansal resigns from flipkart reports\n",
      "\n",
      "\n",
      "원문 : former australia captain ian chappell has said that the bcci's decision to not play a day night test in australia is extremely disappointing adding that test cricket needs in an age where t20 leagues are flooding the market chappell said nowhere can i find even a of bcci's decision being in the best interests of the game \n",
      "실제 요약 : bcci's to play d n test disappointing ian chappell \n",
      "1/1 [==============================] - 0s 16ms/step\n",
      "예측 요약 :  there is not to play aus team against aus pacer\n",
      "\n",
      "\n",
      "원문 : director vishal bhardwaj while defending kangana ranaut said when kangana and hrithik roshan's legal conflict was going on any other actor would've stopped shooting in the middle to fix their mental state whereas kangana was strong even when media was writing something or the other controversial about her he added kangana was shooting for during the legal conflict \n",
      "실제 요약 : kangana kept working despite row with hrithik says bhardwaj \n",
      "1/1 [==============================] - 0s 15ms/step\n",
      "예측 요약 :  kangana is kangana kangana ranaut\n",
      "\n",
      "\n",
      "원문 : india's leading overseas education consultant is organising the world education fair across 12 cities from may 13 to 28 interested students will be able to meet from over 80 international universities to gain information about courses visas and loans details regarding scholarships application fee waivers and spot offers will also be provided to eligible students \n",
      "실제 요약 : over 80 universities to attend world education fair \n",
      "1/1 [==============================] - 0s 15ms/step\n",
      "예측 요약 :  india's first universities to be held in india\n",
      "\n",
      "\n",
      "원문 : instituted for raping children below 12 years a 57 year old lawyer allegedly sexually abused a nine year old girl onboard a chennai bound train travelling with her family the girl was sleeping in the middle berth when kp prem ananth molested her the accused a bjp candidate in 2006 tamil nadu assembly elections was handed over to the police \n",
      "실제 요약 : lawyer sexually abused 9 yr old onboard train to chennai \n",
      "1/1 [==============================] - 0s 15ms/step\n",
      "예측 요약 :  class 10 year old girl raped by teacher in delhi\n",
      "\n",
      "\n",
      "원문 : hyperloop transportation technologies on tuesday announced that it has started building its first full sized passenger pod for commercial high speed transportation at speeds of up to kmph to be completed in 2018 the 100 foot long pod will accommodate 28 40 passengers at one time hyperloop is aiming to send a pod in every 40 seconds on a station \n",
      "실제 요약 : hyperloop starts building its first full sized passenger pod \n",
      "1/1 [==============================] - 0s 15ms/step\n",
      "예측 요약 :  hyperloop hyperloop taxi taxi launched at kmph\n",
      "\n",
      "\n",
      "원문 : former pakistan president pervez musharraf has said that he would welcome an alliance with lashkar e taiba let founder and 26 11 mumbai attack mastermind hafiz saeed for the 2018 general elections this comes after musharraf announced a grand alliance of 23 political parties last month earlier musharraf said that he is the biggest supporter of let and likes saeed \n",
      "실제 요약 : would welcome alliance with saeed for 2018 polls musharraf \n",
      "1/1 [==============================] - 0s 15ms/step\n",
      "예측 요약 :  hafiz saeed hafiz saeed resigns from hafiz saeed\n",
      "\n",
      "\n",
      "원문 : bangladesh opener tamim iqbal has said sometimes he feels that virat kohli is not human because of his performances my the moment he comes out to bat it looks like he is going to score a hundred every match tamim added the way he looks after himself the way he works on his game it's unbelievable he added \n",
      "실제 요약 : virat kohli doesn't human sometimes \n",
      "1/1 [==============================] - 0s 15ms/step\n",
      "예측 요약 :  i am a lot of my life virat kohli\n",
      "\n",
      "\n",
      "원문 : tesla has named oracle co founder larry ellison and pharmacy chain global hr head wilson thompson as independent directors the appointments are part of the settlement tesla reached with us securities regulator over ceo elon musk's tweets about taking the firm private ellison who calls himself a close friend of musk had revealed that tesla is his second largest investment \n",
      "실제 요약 : tesla adds elon musk's to board \n",
      "1/1 [==============================] - 0s 15ms/step\n",
      "예측 요약 :  tesla co founder quits after his exit tweet\n",
      "\n",
      "\n",
      "원문 : sixty two year old actor known for playing the character mr is expecting his first child with his 33 year old partner ford already has a 23 year old son named benjamin and a 21 year old daughter named lily from his marriage to a source said and are over the moon and can't wait for their new arrival \n",
      "실제 요약 : mr actor expecting 3rd child at the age of 62 \n",
      "1/1 [==============================] - 0s 16ms/step\n",
      "예측 요약 :  linkin show child child child child child\n",
      "\n",
      "\n",
      "원문 : called for an emergency meeting of the united nations security council to discuss slave trading in libya we are doing it as a permanent member of the security council we have this capability and we are using it france has said this comes after reports that migrants heading europe are being sold as slaves in libya for around ã¢ââ¹26 000 \n",
      "실제 요약 : france calls un emergency meeting over libya slave trading \n",
      "1/1 [==============================] - 0s 15ms/step\n",
      "예측 요약 :  eu asks eu to withdraw to use\n",
      "\n",
      "\n",
      "원문 : madhya pradesh minister for panchayat and rural development gopal bhargava has compared red beacons to red beacon bungalow and cars are never loyal to anyone they are like whoever keeps them they stay with that person he said he also said that he did not use vehicles with beacons or while being in his constituency \n",
      "실제 요약 : red are like madhya pradesh minister \n",
      "1/1 [==============================] - 0s 15ms/step\n",
      "예측 요약 :  goa cm to make india's 1st time to improve\n",
      "\n",
      "\n",
      "원문 : goods and services tax gst collection dropped to ã¢ââ¹94 crore in december 2018 lower than the ã¢ââ¹97 crore collected in the previous month this is the second consecutive month that the gst collection has fallen compliance during the month improved with 72 44 lakh gstr returns filed as on december 31 compared to 69 6 lakh returns filed in november \n",
      "실제 요약 : gst collection drops to ã¢ââ¹94 crore in december \n",
      "1/1 [==============================] - 0s 14ms/step\n",
      "예측 요약 :  gst collection rises to ã¢ââ¹2 crore in september quarter\n",
      "\n",
      "\n",
      "원문 : acquitted in his wife's 18 year old murder case last week said his life was hell for the past 18 years i've been saying for 18 years i am innocent there's no compensation for the time energy and self confidence not to mention my career i've lost in 18 years added ilyasi who is known for hosting 'india's most wanted' \n",
      "실제 요약 : life became hell lost 18 years for crime i didn't commit \n",
      "1/1 [==============================] - 0s 16ms/step\n",
      "예측 요약 :  was never kill my life in the year old murder\n",
      "\n",
      "\n",
      "원문 : a saudi cleric has issued a fatwa on celebrating birthdays claiming they are too costly he issued the fatwa on state television after a caller asked if it was permissible to celebrate birthdays of children and wives we want to save and they people want to destroy themselves with these are things that islam does not promote he said \n",
      "실제 요약 : saudi cleric bans claiming they are \n",
      "1/1 [==============================] - 0s 16ms/step\n",
      "예측 요약 :  saudi arabia bans fatwa against anti anti anti protests\n",
      "\n",
      "\n",
      "원문 : a hat belonging to french emperor has been auctioned for 000 over ã¢ââ¹2 2 crore the two pointed military hat was reportedly recovered from the battlefield after defeat at in the hat was initially bought by a private individual in 1986 and is believed to be one of the 120 hats worn by during his lifetime \n",
      "실제 요약 : french hat auctioned for ã¢ââ¹2 2 crore \n",
      "1/1 [==============================] - 0s 15ms/step\n",
      "예측 요약 :  us man sells for ã¢ââ¹2 crore for over crore\n",
      "\n",
      "\n",
      "원문 : the presence of foreign bank atms in india has declined by 18 from 1 141 to between september 2014 and september 2017 according to rbi data the reason for the reduction is mainly due to banks like the uk based royal bank of scotland and south africa based bank closing their retail operations in india \n",
      "실제 요약 : foreign bank atms in india fell 18 over last three years \n",
      "1/1 [==============================] - 0s 15ms/step\n",
      "예측 요약 :  sbi banks fall off in indian banks\n",
      "\n",
      "\n",
      "원문 : the new song from titled a recreated version of the song from the mithun chakraborty starrer 1987 film dance' has been released the new version has been composed by kohli sung by kakar with lyrics by manoj the song's video features naam lead character played by taapsee pannu \n",
      "실제 요약 : recreated song from released \n",
      "1/1 [==============================] - 0s 17ms/step\n",
      "예측 요약 :  recreated version of recreated version of\n",
      "\n",
      "\n",
      "원문 : the central bureau of investigation cbi that probed actress jiah suicide has said the cctv footage in her building was not tampered with the cbi submitted the cctv footage to a forensic lab based on a petition filed by mother in the bombay high court mother alleged that her daughter was killed and had not committed suicide \n",
      "실제 요약 : cctv footage was not tampered cbi on khan suicide case \n",
      "1/1 [==============================] - 0s 15ms/step\n",
      "예측 요약 :  cbi arrests cbi for two years in delhi\n",
      "\n",
      "\n",
      "원문 : the release date of freida pinto manoj bajpayee and demi moore starrer 'love has been announced as september 14 after at london indian film festival it was the opening film at indian film festival of melbourne 2018 the directorial which is inspired by true events also stars richa chadha anupam kher rajkummar rao and adil hussain \n",
      "실제 요약 : release date of freida 'love announced \n",
      "1/1 [==============================] - 0s 16ms/step\n",
      "예측 요약 :  release date of film announced\n",
      "\n",
      "\n",
      "원문 : addressing people after inaugurating a ã¢ââ¹3 crore irrigation project in pm narendra modi said shivraj singh chouhan's government has worked to restore the lost glory of madhya pradesh ã¢ââ¹70 000 crore will be spent on micro irrigation scheme by the government and i assure you that the madhya pradesh government will get all help from the centre pm modi added \n",
      "실제 요약 : cm govt restored mp's lost pm modi \n",
      "1/1 [==============================] - 0s 15ms/step\n",
      "예측 요약 :  pm modi announces ã¢ââ¹1 000 crore in odisha\n",
      "\n",
      "\n",
      "원문 : indian jitu rai today won the men's 50m pistol national title with a new national finals record score of 233 at the 61st national shooting championship in thiruvananthapuram on friday rai also won the gold in the team event combining with jai and omprakash for a total of beating team air force who finished second \n",
      "실제 요약 : rai wins national gold with record pistol score \n",
      "1/1 [==============================] - 0s 15ms/step\n",
      "예측 요약 :  indian man wins silver at world c'ship\n",
      "\n",
      "\n",
      "원문 : khanna has said that it's a terrible feeling for an artiste when appreciation work love and attention start slipping away he added as much as i say i am uncomfortable with too much attention in essence that's what i every artiste works for akshaye also said the feeling of insecurity is prevalent in acting because actors are dependent on others \n",
      "실제 요약 : terrible for artiste when slips away akshaye \n",
      "1/1 [==============================] - 0s 14ms/step\n",
      "예측 요약 :  people to be a lot of my own success says director\n",
      "\n",
      "\n",
      "원문 : least 1 185 cases of dengue were recorded in delhi this year and over 35 of them were recorded in august according to government data the first death due to the disease was recorded on august 1 when a 12 year old boy died of dengue shock syndrome mosquito breeding was reported at nearly 1 4 lakh households in delhi \n",
      "실제 요약 : over 1 000 dengue cases recorded in delhi this year \n",
      "1/1 [==============================] - 0s 15ms/step\n",
      "예측 요약 :  over 100 000 cases reported in 2015 in last years\n",
      "\n",
      "\n",
      "원문 : several diplomatic victories at the un this year it was re elected to the un's economic and social council as well to the international maritime organisation council while justice dalveer bhandari was re elected to the international court of justice neeru chadha became the first indian woman to be elected to the international tribunal for the law of the sea \n",
      "실제 요약 : what elections did india win on the global stage this year \n",
      "1/1 [==============================] - 0s 16ms/step\n",
      "예측 요약 :  un chief to leave un citizenship after citizenship\n",
      "\n",
      "\n",
      "원문 : the national green tribunal ngt on monday told the delhi government to consider closing schools if air quality touches levels to save children from inhaling pollutants when delhi government said closing schools would cause children to suffer ngt responded saying you don't do your duty and now you are giving reasons you are the lives of children \n",
      "실제 요약 : close schools if air quality hits ngt to delhi \n",
      "1/1 [==============================] - 0s 16ms/step\n",
      "예측 요약 :  ngt asks maha to stop safety of pollution\n",
      "\n",
      "\n",
      "원문 : ganguly has said india u 19 vice captain shubman gill is a bit like cricket legend brian lara and current new zealand skipper kane williamson he further said that gill is the best player in india's u 19 team which has reached the final of the ongoing u 19 world cup gill has hit six consecutive 50 scores for india \n",
      "실제 요약 : india u 19 vice captain shubman gill like lara ganguly \n",
      "1/1 [==============================] - 0s 15ms/step\n",
      "예측 요약 :  india has best team for best test team coach\n",
      "\n",
      "\n",
      "원문 : the first of the six class submarines ins was delivered to the indian navy by the ship manufacturers dock limited headquartered in mumbai the submarine designed by french naval defence and energy company has superior features and can attack the enemy using precision guided weapons notably the second of the is currently in the trial phase \n",
      "실제 요약 : 1st made in india class submarine delivered to navy \n",
      "1/1 [==============================] - 0s 15ms/step\n",
      "예측 요약 :  first ever in china celebrates its first time\n",
      "\n",
      "\n",
      "원문 : german carmaker bmw is recalling 16 lakh diesel cars worldwide to fix a problem with the exhaust system that in extreme cases can cause a fire bmw said that cooling fluid can leak from a faulty component called the exhaust gas cooler which can lead to sparks while driving the vehicles affected were produced between 2010 and 2017 \n",
      "실제 요약 : bmw recalls 16 lakh cars over system fire risk \n",
      "1/1 [==============================] - 0s 16ms/step\n",
      "예측 요약 :  bmw recalls cars that cars to faulty cars\n",
      "\n",
      "\n",
      "원문 : after pm narendra modi visited and temples in nepal on saturday congress leader ashok gehlot alleged the move was aimed at influencing karnataka voters as there is a model code of conduct in karnataka pm modi planned to pray at temples in nepal instead just to influence voters this is not a good trend for democracy he said \n",
      "실제 요약 : pm visited nepal temples to influence karnataka voters cong \n",
      "1/1 [==============================] - 0s 18ms/step\n",
      "예측 요약 :  pm modi gives out of telangana assembly for pm's\n",
      "\n",
      "\n"
     ]
    }
   ],
   "source": [
    "for i in range(50, 100):\n",
    "    print(\"원문 :\", seq2text(encoder_input_test[i]))\n",
    "    print(\"실제 요약 :\", seq2summary(decoder_input_test[i]))\n",
    "    print(\"예측 요약 :\", decode_sequence(encoder_input_test[i].reshape(1, text_max_len)))\n",
    "    print(\"\\n\")"
   ]
  },
  {
   "cell_type": "markdown",
   "metadata": {},
   "source": [
    "### 모델 서머리"
   ]
  },
  {
   "cell_type": "code",
   "execution_count": 463,
   "metadata": {},
   "outputs": [
    {
     "name": "stdout",
     "output_type": "stream",
     "text": [
      "Model: \"model_27\"\n",
      "__________________________________________________________________________________________________\n",
      " Layer (type)                Output Shape                 Param #   Connected to                  \n",
      "==================================================================================================\n",
      " input_34 (InputLayer)       [(None, None)]               0         []                            \n",
      "                                                                                                  \n",
      " embedding_15 (Embedding)    (None, None, 128)            1408000   ['input_34[0][0]']            \n",
      "                                                                                                  \n",
      " input_35 (InputLayer)       [(None, 256)]                0         []                            \n",
      "                                                                                                  \n",
      " input_36 (InputLayer)       [(None, 256)]                0         []                            \n",
      "                                                                                                  \n",
      " lstm_31 (LSTM)              [(None, None, 256),          394240    ['embedding_15[1][0]',        \n",
      "                              (None, 256),                           'input_35[0][0]',            \n",
      "                              (None, 256)]                           'input_36[0][0]']            \n",
      "                                                                                                  \n",
      " input_37 (InputLayer)       [(None, 60, 256)]            0         []                            \n",
      "                                                                                                  \n",
      " attention_layer (AdditiveA  (None, None, 256)            256       ['lstm_31[1][0]',             \n",
      " ttention)                                                           'input_37[0][0]']            \n",
      "                                                                                                  \n",
      " concat (Concatenate)        (None, None, 512)            0         ['lstm_31[1][0]',             \n",
      "                                                                     'attention_layer[1][0]']     \n",
      "                                                                                                  \n",
      " dense_13 (Dense)            (None, None, 11000)          5643000   ['concat[0][0]']              \n",
      "                                                                                                  \n",
      "==================================================================================================\n",
      "Total params: 7445496 (28.40 MB)\n",
      "Trainable params: 7445496 (28.40 MB)\n",
      "Non-trainable params: 0 (0.00 Byte)\n",
      "__________________________________________________________________________________________________\n"
     ]
    }
   ],
   "source": [
    "decoder_model.summary()"
   ]
  },
  {
   "cell_type": "markdown",
   "metadata": {},
   "source": []
  },
  {
   "cell_type": "code",
   "execution_count": 464,
   "metadata": {},
   "outputs": [
    {
     "data": {
      "image/png": "[encoded data removed]",
      "text/plain": [
       "<IPython.core.display.Image object>"
      ]
     },
     "execution_count": 464,
     "metadata": {},
     "output_type": "execute_result"
    }
   ],
   "source": [
    "import tensorflow as tf\n",
    "tf.keras.utils.plot_model(model, show_shapes=True, show_layer_names=True)"
   ]
  },
  {
   "cell_type": "code",
   "execution_count": 465,
   "metadata": {},
   "outputs": [
    {
     "data": {
      "image/png": "[encoded data removed]",
      "text/plain": [
       "<IPython.core.display.Image object>"
      ]
     },
     "execution_count": 465,
     "metadata": {},
     "output_type": "execute_result"
    }
   ],
   "source": [
    "import tensorflow as tf\n",
    "tf.keras.utils.plot_model(decoder_model, show_shapes=True, show_layer_names=True)"
   ]
  },
  {
   "cell_type": "code",
   "execution_count": 466,
   "metadata": {},
   "outputs": [
    {
     "data": {
      "image/png": "[encoded data removed]",
      "text/plain": [
       "<IPython.core.display.Image object>"
      ]
     },
     "execution_count": 466,
     "metadata": {},
     "output_type": "execute_result"
    }
   ],
   "source": [
    "tf.keras.utils.plot_model(encoder_model, show_shapes=True, show_layer_names=True)"
   ]
  },
  {
   "cell_type": "markdown",
   "metadata": {},
   "source": [
    "```\n",
    "원문 : actor irrfan khan while talking about his equation with his son said we are open about relationships there's no hesitation or embarrassment discussing with him any kind of relationship even if it's sexual there should be a space where you can discuss he added irrfan further said it is better to have a friendly relationship with your children \n",
    "실제 요약 : no sexual with son \n",
    "1/1 [==============================] - 0s 18ms/step\n",
    "예측 요약 :  no one of on\n",
    "\n",
    "\n",
    "원문 : a communist a pie in french philosopher bernard face while he was promoting his film ' which is about kurds fighting isis in serbia on wednesday levy once scrutinised for backing military intervention in libya has been attacked with nine times by the same man meanwhile another protester held a banner saying bernard levy advocates murders \n",
    "실제 요약 : french hit with in face for time \n",
    "1/1 [==============================] - 0s 15ms/step\n",
    "예측 요약 :  video shows in\n",
    "\n",
    "\n",
    "원문 : german chancellor angela chief of staff peter on saturday said german must invest more in electric vehicles and take on elon musk's tesla when is our automobile industry which is so good actually going to be in a position to build a car that travels 50 kilometres further than a tesla and costs ã¢ââ¬10 000 less said \n",
    "실제 요약 : must take on tesla \n",
    "1/1 [==============================] - 0s 16ms/step\n",
    "예측 요약 :  tesla on tesla\n",
    "\n",
    "\n",
    "원문 : rebel congress leader shehzad poonawalla has released facebook data leak accused firm cambridge analytica's proposal to the party to prepare for 2019 lok sabha elections the 49 page report titled driven campaign the path to the 2019 lok was allegedly developed in august 2017 the proposal said whenever somebody registered on the website their details were recorded to target ads \n",
    "실제 요약 : cong leader fb 2019 to cong \n",
    "1/1 [==============================] - 0s 16ms/step\n",
    "예측 요약 :  fb to in polls\n",
    "\n",
    "\n",
    "원문 : as many as 19 people were killed after a truck laden with cement overturned on the ahmedabad highway in gujarat on saturday morning at least seven people were also reported to be injured in the accident the injured people were immediately rushed to a nearby hospital reports said \n",
    "실제 요약 : 19 as on in gujarat \n",
    "1/1 [==============================] - 0s 15ms/step\n",
    "예측 요약 :  12 killed in in\n",
    "\n",
    "\n",
    "원문 : his government runs on the values of the constitution maharashtra cm devendra fadnavis on thursday said the constitution shows us the way in a better manner than the gita bible and quran as to how to serve people he said the indian constitution is the best constitution in the world and is more important for us than any religious book \n",
    "실제 요약 : more for govt than maha cm \n",
    "1/1 [==============================] - 0s 15ms/step\n",
    "예측 요약 :  india has a in the cm\n",
    "\n",
    "\n",
    "원문 : survey satellite known as tess has spotted hot earth and super earth planets in solar systems 49 and 60 light years away marking its first discovery since april launch tess is designed to build on the work of its predecessor kepler space telescope which discovered over 2 500 confirmed exoplanets in 20 years and is now running out of fuel \n",
    "실제 요약 : nasa 2 new 5 months after launch \n",
    "1/1 [==============================] - 0s 19ms/step\n",
    "예측 요약 :  new of the first time\n",
    "\n",
    "\n",
    "원문 : the uidai on saturday denied media reports which claimed that anyone can access personal details of all aadhaar holders due to an unsecured interface operated by a state owned utility company for verifying customers' identities there is no truth in this story as there has been absolutely no breach of aadhaar database the uidai said \n",
    "실제 요약 : denies reports on aadhaar govt firm \n",
    "1/1 [==============================] - 0s 17ms/step\n",
    "예측 요약 :  denies of aadhaar\n",
    "\n",
    "\n",
    "원문 : japanese carmaker nissan has asked its staff to avoid contact with ousted chairman carlos ghosn and former director greg kelly they are currently facing probe for allegedly under reporting compensation by 80 million in 2011 2018 the automaker also directed staff to report any attempted contact to the company's legal department \n",
    "실제 요약 : asks staff to not \n",
    "1/1 [==============================] - 0s 17ms/step\n",
    "예측 요약 :  to over\n",
    "\n",
    "\n",
    "원문 : gurugram based second hand automobile startup has raised around crore 30 million in series e round of funding the round was led by the family office of japanese based investor joe who is the founder of multi business firm along with an undisclosed foreign investor founded in 2014 provides an online marketplace for sale of new and used automobiles \n",
    "실제 요약 : startup raises crore \n",
    "1/1 [==============================] - 0s 19ms/step\n",
    "예측 요약 :  startup raises crore from\n",
    "\n",
    "\n",
    "원문 : of united nations un employees have been sexually harassed at work in the past two years according to the findings of the first survey on such misconduct out of the 30 respondents 10 1 said that they were touched in ways that made them feel uncomfortable only one in three people said that they took action after experiencing sexual harassment \n",
    "실제 요약 : 1 in 3 un in two years \n",
    "1/1 [==============================] - 0s 18ms/step\n",
    "예측 요약 :  in in\n",
    "\n",
    "\n",
    "원문 : recalling the australian cricket teams he faced in his career indian cricketer harbhajan singh said this team is not a shadow of that australian side t he australian side that i competed against the top seven or eight were all match winners anyone could come in and win a match in his own right harbhajan added \n",
    "실제 요약 : australia not a of team i \n",
    "1/1 [==============================] - 0s 17ms/step\n",
    "예측 요약 :  team india team team\n",
    "\n",
    "\n",
    "원문 : has lost a uk lawsuit filed by indian banks seeking to collect over 1 55 billion amid allegations that he committed massive fraud the court said lenders can enforce an indian court ruling related to allegations that mallya defaulted on 1 4 billion in debt for his now defunct kingfisher airlines it refused to overturn worldwide order freezing mallya's assets \n",
    "실제 요약 : loses uk by indian to 1 bn \n",
    "1/1 [==============================] - 0s 16ms/step\n",
    "예측 요약 :  uk to pay 1 bn over\n",
    "\n",
    "\n",
    "원문 : reacting to preity bidding during the first day of the ipl auction a user tweeted can the other teams get any player other tweets read auctioneer next player for auction is preity zinta 3 crore auctioneer ma'am player ka naam toh do and mom beta ye lo chocolate zinta \n",
    "실제 요약 : can get tweets user on ipl \n",
    "1/1 [==============================] - 0s 16ms/step\n",
    "예측 요약 :  tweets user on ipl\n",
    "\n",
    "\n",
    "원문 : salman khan rekha shatrughan sinha and his daughter sonakshi sinha have featured in a remake of the song which is in the form of a for the dharmendra starrer 'yamla pagla deewana phir se' the also featured other old songs including mere sona re sona e ishq meri jaan' and 'main jat \n",
    "실제 요약 : salman in \n",
    "1/1 [==============================] - 0s 17ms/step\n",
    "예측 요약 :  salman khan for\n",
    "\n",
    "\n",
    "원문 : the cbi on thursday arrested rotomac owner vikram kothari and his son rahul for allegedly defrauding banks of ã¢ââ¹3 700 crore company had submitted forged documents to get loans and created shell firms to carry out illegal activities earlier authorities had notified all land sea and air ports to prevent kothari and his family members from leaving india \n",
    "실제 요약 : cbi in \n",
    "1/1 [==============================] - 0s 16ms/step\n",
    "예측 요약 :  delhi son crore for\n",
    "\n",
    "\n",
    "원문 : tibetan spiritual leader dalai lama has said that indians are than the chinese partly attributing their to the climate he further said that india was the most stable and living example of how people of diverse traditions and ideas could live together the spiritual leader also called on india and china to solve their issues through dialogue \n",
    "실제 요약 : indians are than the chinese \n",
    "1/1 [==============================] - 0s 15ms/step\n",
    "예측 요약 :  india for india\n",
    "\n",
    "\n",
    "원문 : scientists have discovered the oldest known colours 1 1 billion year old bright pink extracted from rocks beneath africa's sahara desert the are fossils of produced by organisms which inhabited an ancient ocean said a researcher from australian national university the fossils range from blood red to deep purple in form and bright pink when diluted \n",
    "실제 요약 : as world's \n",
    "1/1 [==============================] - 0s 16ms/step\n",
    "예측 요약 :  scientists 1 1 billion\n",
    "\n",
    "\n",
    "원문 : the wealth of india's richest person mukesh ambani can keep the country's government running for 20 days according to bloomberg the chairman of india's second most valuable company reliance industries ambani has a net worth of around 40 billion born on april 19 1957 the business tycoon celebrates his 61st birthday today \n",
    "실제 요약 : could india's govt for 20 days \n",
    "1/1 [==============================] - 0s 15ms/step\n",
    "예측 요약 :  why do the india's\n",
    "\n",
    "\n",
    "원문 : baba ramdev led patanjali ayurved has said that it has no plans for an initial public offer ipo yet in an interview patanjali md acharya balkrishna has said the company is focussing only on the domestic market currently and not looking at the international market with he further said ads are not for promoting our products but are ã¢ââ \n",
    "실제 요약 : has no plans for an \n",
    "1/1 [==============================] - 0s 15ms/step\n",
    "예측 요약 :  no to\n",
    "\n",
    "\n",
    "원문 : a video has surfaced wherein congress mla and madhya pradesh labour minister mahendra singh could be heard saying workers and officers who won't follow instructions kar diya will be kicked out the minister made the remark while interacting with party workers in the state's district on december 31 \n",
    "실제 요약 : mp on not orders \n",
    "1/1 [==============================] - 0s 15ms/step\n",
    "예측 요약 :  will be if bjp mla\n",
    "\n",
    "\n",
    "원문 : wishing her husband dharmendra deol on his birthday on saturday hema malini tweeted happy birthday to my love the dearest father to my darling girls and proud grandfather to and i thank all the numerous fans who are sending their greetings to me on birthday will definitely convey their wishes to him she further wrote n \n",
    "실제 요약 : to my \n",
    "1/1 [==============================] - 0s 15ms/step\n",
    "예측 요약 :  my on my\n",
    "\n",
    "\n",
    "원문 : khan has said that for most part of her life she was completely non famous my only identity was i was a sibling or a daughter to these other famous people you're recognised but people don't know your name added soha she further said that she doesn't get upset by this as it has become a part of her identity \n",
    "실제 요약 : for most of my life i was \n",
    "1/1 [==============================] - 0s 15ms/step\n",
    "예측 요약 :  i'm my life for me\n",
    "\n",
    "\n",
    "원문 : the government has clarified that resolution plans under insolvency and bankruptcy code ibc do not require the approval of the shareholders the resolution process is taken up after it is approved by the authority which is the national company law tribunal the clarification reportedly comes amid concerns about the possibility of companies' promoters blocking resolution process \n",
    "실제 요약 : not for govt \n",
    "1/1 [==============================] - 0s 15ms/step\n",
    "예측 요약 :  govt not not to govt\n",
    "\n",
    "\n",
    "원문 : former italian prime minister on monday described french president emmanuel macron as a 39 year old lad with a with a good looking mum in an apparent dig at the age gap between macron and his wife brigitte notably aged 80 is 49 years older than his partner \n",
    "실제 요약 : is yr old with ex pm \n",
    "1/1 [==============================] - 0s 18ms/step\n",
    "예측 요약 :  ex pm to\n",
    "\n",
    "\n",
    "원문 : the recent make ii initiative introduced for defence will help small industries participate in manufacturing defence equipment defence minister nirmala sitharaman said on thursday her statement comes after the defence acquisition council simplified the make ii procedure to make it industry friendly with minimal government control and relaxed the minimum qualification criteria \n",
    "실제 요약 : make will help \n",
    "1/1 [==============================] - 0s 15ms/step\n",
    "예측 요약 :  to\n",
    "\n",
    "\n",
    "원문 : the father of a victim in the 1987 case has said he is happy with the delhi high court verdict adding that they waited for justice for 31 years culprits have been punished at last he added the hc sentenced 16 former policemen to life imprisonment for murdering 42 people in uttar pradesh's meerut during the 1987 riots \n",
    "실제 요약 : for for yrs father of \n",
    "1/1 [==============================] - 0s 16ms/step\n",
    "예측 요약 :  father to be in delhi hc\n",
    "\n",
    "\n",
    "원문 : to be 45 100 feet wide flew past earth making its closest approach at 42 000 km over antarctica the asteroid flew little over one tenth the earth moon distance and above the orbital altitude of communications satellites the flyby was used by nasa to test its asteroid detection and tracking network to prepare for a real asteroid impact threat \n",
    "실제 요약 : the of a house at 000 \n",
    "1/1 [==============================] - 0s 16ms/step\n",
    "예측 요약 :  for 000 000\n",
    "\n",
    "\n",
    "원문 : being the unofficial sponsor of vodafone brings you the fantastic breaks contest for all the fans stood by their teams through thick and thin they will be required to answer a simple question to stand a chance to win many exciting prizes and an iphone every match \n",
    "실제 요약 : the breaks \n",
    "1/1 [==============================] - 0s 16ms/step\n",
    "예측 요약 :  to for\n",
    "\n",
    "\n",
    "원문 : extending gains for the second straight session indian equity sensex and nifty closed at record highs on monday as financial stocks continued to rise sensex closed 135 73 points up at 37 89 while the nifty ended 26 30 points higher at 11 10 the sensex has advanced 11 this year holding its place as asia best performing market \n",
    "실제 요약 : end at record \n",
    "1/1 [==============================] - 0s 16ms/step\n",
    "예측 요약 :  for the world\n",
    "\n",
    "\n",
    "원문 : hollywood actor ryan reynolds jokingly cropped out wife blake in a picture that he posted on social media to wish her on her 30th birthday on friday happy birthday to my amazing wife he wrote in the photo's caption ryan and blake got married in 2012 and have two daughters together \n",
    "실제 요약 : out wife in post \n",
    "1/1 [==============================] - 0s 15ms/step\n",
    "예측 요약 :  husband of her\n",
    "\n",
    "\n",
    "원문 : farhan akhtar posted a picture on instagram to wish his father javed akhtar on his 73rd birthday on wednesday while captioning the post happy birthday pa love you wishing the master of wisdom a very happy birthday sahab tweeted riteish deshmukh meanwhile farah khan tweeted easily the and most intelligent man at least in our family \n",
    "실제 요약 : on father \n",
    "1/1 [==============================] - 0s 16ms/step\n",
    "예측 요약 :  on\n",
    "\n",
    "\n",
    "원문 : talking about cross border terrorism and infiltration bjp president amit shah on saturday said the only solution to the issue is to answer every pakistani bullet with a bomb he was responding to a question that why the situation along the line of control loc did not improve despite the surgical strikes undertaken by india in 2016 \n",
    "실제 요약 : a to only shah \n",
    "1/1 [==============================] - 0s 15ms/step\n",
    "예측 요약 :  is a to shah\n",
    "\n",
    "\n",
    "원문 : madhya pradesh home minister bhupendra singh on monday revealed the name of a minor rape and murder victim on twitter while addressing a complaint about the case singh apologised on tuesday claiming that the name was revealed inadvertently by an employee who was sacked immediately he added that he regretted the mistake and later deleted the tweet \n",
    "실제 요약 : mp home minister rape name on twitter \n",
    "1/1 [==============================] - 0s 15ms/step\n",
    "예측 요약 :  rape accused of rape\n",
    "\n",
    "\n",
    "원문 : reacting to ms dhoni's tweet about playing online multiplayer game pubg a user tweeted duo hai other users reacted with tweets like as a die hard fan it's just amazing feeling after knowing that your idol also plays pubg you're looking so cool here though you are always cool like ice and your character id pls \n",
    "실제 요약 : tweets user on tweet about \n",
    "1/1 [==============================] - 0s 15ms/step\n",
    "예측 요약 :  tweets user on\n",
    "\n",
    "\n",
    "원문 : american tennis star serena williams hosted a 1950s themed baby shower on saturday with her friends and family including sister venus williams and celebrities eva and lala anthony among others when you and your crew go so far back to the even then they had your back read the caption of instagram post from the event \n",
    "실제 요약 : has baby \n",
    "1/1 [==============================] - 0s 15ms/step\n",
    "예측 요약 :  after\n",
    "\n",
    "\n",
    "원문 : white house spokesperson sean spicer called prize winner journalism site a left wing blog and dismissed its report on changes made to a trust document allowing president donald trump to withdraw money from his businesses without disclosing it in response delivered a 15 tweet thread defending its reporting and shared the revised document \n",
    "실제 요약 : house calls a \n",
    "1/1 [==============================] - 0s 16ms/step\n",
    "예측 요약 :  house of trump\n",
    "\n",
    "\n",
    "원문 : an advertisement by kalyan jewellers featuring amitabh bachchan and his daughter shweta nanda was taken down after being slammed by the all india bank officers' confederation the ad allegedly showed the characters being mistreated by bank employees the bank union had earlier called the ad and said it aimed to create in the banking system \n",
    "실제 요약 : daughter after \n",
    "1/1 [==============================] - 0s 15ms/step\n",
    "예측 요약 :  big after on her\n",
    "\n",
    "\n",
    "원문 : terrorists on saturday opened fire at a central reserve police force crpf convoy near the army cantonment in chowk in j k's srinagar and fled towards a school nearby while a crpf sub inspector has been martyred in the shelling at least two crpf jawans and a civilian have been injured the attack has been claimed by lashkar e taiba \n",
    "실제 요약 : attack in officer \n",
    "1/1 [==============================] - 0s 15ms/step\n",
    "예측 요약 :  fire in j k\n",
    "\n",
    "\n",
    "원문 : manisha koirala has said portraying nargis dutt onscreen is the dream of any actress she said this while discussing how she feels honoured to have played the role of nargis dutt in 'sanju' a biopic on son sanjay dutt she added i have a very small role it's a special appearance but i am really excited to know audience reaction \n",
    "실제 요약 : of actress to play on \n",
    "1/1 [==============================] - 0s 15ms/step\n",
    "예측 요약 :  i in\n",
    "\n",
    "\n",
    "원문 : two bluetooth enabled fidget spinners exploded in the us states of michigan and alabama this week the fidget spinners both of which used bluetooth to connect to phones to play music through built in speakers exploded while charging for less than 30 and 45 minutes one of the box did not have any instructions but only read made in china \n",
    "실제 요약 : while \n",
    "1/1 [==============================] - 0s 16ms/step\n",
    "예측 요약 :  in us to\n",
    "\n",
    "\n",
    "원문 : 83 lakh companies have permanent account number pan but didn't file income tax returns for assessment year 2016 17 delhi had the most number of such companies at over 1 44 lakh notices have been issued to companies which were prima facie not carrying out any business for a period of two immediately preceding and failed to file financial statements \n",
    "실제 요약 : over 6 lakh have but did not tax \n",
    "1/1 [==============================] - 0s 16ms/step\n",
    "예측 요약 :  lakh for not in\n",
    "\n",
    "\n",
    "원문 : party chief mukesh sahni on sunday joined the grand alliance in bihar in the presence of rjd leader tejashwi yadav sahni who is popularly called of ' said if nda wins more than two lok sabha seats in bihar i will quit politics the announcement of his joining came hours after bjp jd u announced their seat sharing arrangement \n",
    "실제 요약 : in bihar of polls \n",
    "1/1 [==============================] - 0s 15ms/step\n",
    "예측 요약 :  in bihar\n",
    "\n",
    "\n",
    "원문 : drug enforcement agents in the us have seized ã¢ââ¹19 crore worth of drugs like and heroin stamped with ride hailing app uber's logo the officials have also arrested four men in the matter one of whom is said to be an uber driver rubber stamps of logos like mcdonald's panda express and animal planet were also found with the suspects \n",
    "실제 요약 : crore worth of with uber in us \n",
    "1/1 [==============================] - 0s 17ms/step\n",
    "예측 요약 :  worth crore in us\n",
    "\n",
    "\n",
    "원문 : slamming a troll for calling her relationship with singer zayn malik a pr stunt supermodel gigi hadid wrote stop trying to a relationship that you don't even know and that you do not see 99 of just because i'm 'a doesn't mean i don't feel like this can be hurtful especially about someone i love deeply she added \n",
    "실제 요약 : slams who with \n",
    "1/1 [==============================] - 0s 15ms/step\n",
    "예측 요약 :  slams for on\n",
    "\n",
    "\n",
    "원문 : kaushal who starred opposite alia bhatt in 'raazi' said she's the most accident prone human being he has ever known on the set whenever you hear someone hurting herself it has to be her she'd keep on banging her knee against the bed or her toe somewhere he added vicky further said she'd hurt herself just by holding the gun \n",
    "실제 요약 : the most human being \n",
    "1/1 [==============================] - 0s 15ms/step\n",
    "예측 요약 :  most of my film\n",
    "\n",
    "\n",
    "원문 : two miners from madhya pradesh's panna district and have become crorepatis after a big diamond they found two months ago was sold for ã¢ââ¹2 55 crore at an auction they had mined a 42 9 carat diamond and the highest bid was of ã¢ââ¹6 lakh per carat they would share ã¢ââ¹2 30 crore after reduction of royalty and other taxes \n",
    "실제 요약 : 2 become as found for ã¢ââ¹2 cr \n",
    "1/1 [==============================] - 0s 16ms/step\n",
    "예측 요약 :  mp has a of ã¢ââ¹2 000 crore\n",
    "\n",
    "\n",
    "원문 : opener smriti mandhana slammed a 129 ball 135 against south africa at on wednesday to become the first indian woman cricketer to smash odi hundreds in three away countries mandhana had earlier slammed a ton each in australia and england the century was also the first by an indian woman against south africa in south africa \n",
    "실제 요약 : 1st indian woman to hit odi in 3 away \n",
    "1/1 [==============================] - 0s 15ms/step\n",
    "예측 요약 :  becomes first to hit in\n",
    "\n",
    "\n",
    "원문 : home ministry has declared nagaland a disturbed area under armed forces special powers act afspa for six more months till june end the ministry said the state is in such a dangerous condition that use of armed forces in aid of civil power is necessary afspa empowers the security forces to conduct operations anywhere and arrest anyone without prior notice \n",
    "실제 요약 : govt in for 6 more months \n",
    "1/1 [==============================] - 0s 15ms/step\n",
    "예측 요약 :  govt for\n",
    "\n",
    "\n",
    "원문 : an argentine navy submarine that went missing on november 15 last year with 44 crew members aboard has been located by a us company the submarine san juan was found some 800 metres below the surface of the atlantic ocean argentina signed a contract with the company in august that guaranteed it 7 5 million if it found the submarine \n",
    "실제 요약 : found a year after with \n",
    "1/1 [==============================] - 0s 15ms/step\n",
    "예측 요약 :  found in in 6 years\n",
    "\n",
    "````\n"
   ]
  },
  {
   "cell_type": "markdown",
   "metadata": {},
   "source": [
    "# Step 5. Summa를 이용해서 추출적 요약해 보기\n",
    "\n"
   ]
  },
  {
   "cell_type": "code",
   "execution_count": 467,
   "metadata": {},
   "outputs": [],
   "source": [
    "from summa.summarizer import summarize"
   ]
  },
  {
   "cell_type": "markdown",
   "metadata": {},
   "source": [
    "비율로 summarize"
   ]
  },
  {
   "cell_type": "code",
   "execution_count": 468,
   "metadata": {},
   "outputs": [
    {
     "name": "stdout",
     "output_type": "stream",
     "text": [
      "Summary:\n"
     ]
    }
   ],
   "source": [
    "print('Summary:')\n",
    "data['summary_1'] = data['text'].apply(lambda x: summarize(x, ratio = 0.4))"
   ]
  },
  {
   "cell_type": "code",
   "execution_count": 469,
   "metadata": {},
   "outputs": [],
   "source": [
    "data['summary_2'] = data['text'].apply(lambda x: summarize(x, words = 15))"
   ]
  },
  {
   "cell_type": "markdown",
   "metadata": {},
   "source": [
    "### 결과 보기\n",
    "- 추출적 요약은 문장을 추출하는 것이다. 그런데, 추출할 요약의 문장이 기준을 넘어가면 ''이 리턴 되는 것 같다.\n",
    "- 아래 결과에서 summry_1, summary_2 컬럼 중 비어 있는 데이터가 요약이 추출되지 않은 것을 보여 준다.\n"
   ]
  },
  {
   "cell_type": "code",
   "execution_count": 472,
   "metadata": {},
   "outputs": [
    {
     "data": {
      "text/html": [
       "<div>\n",
       "<style scoped>\n",
       "    .dataframe tbody tr th:only-of-type {\n",
       "        vertical-align: middle;\n",
       "    }\n",
       "\n",
       "    .dataframe tbody tr th {\n",
       "        vertical-align: top;\n",
       "    }\n",
       "\n",
       "    .dataframe thead th {\n",
       "        text-align: right;\n",
       "    }\n",
       "</style>\n",
       "<table border=\"1\" class=\"dataframe\">\n",
       "  <thead>\n",
       "    <tr style=\"text-align: right;\">\n",
       "      <th></th>\n",
       "      <th>summary_1</th>\n",
       "      <th>summary_2</th>\n",
       "    </tr>\n",
       "  </thead>\n",
       "  <tbody>\n",
       "    <tr>\n",
       "      <th>1</th>\n",
       "      <td>Users get one CRED coin per rupee of bill paid...</td>\n",
       "      <td>Users get one CRED coin per rupee of bill paid...</td>\n",
       "    </tr>\n",
       "    <tr>\n",
       "      <th>2</th>\n",
       "      <td>The match witnessed India getting all out for ...</td>\n",
       "      <td>The match witnessed India getting all out for ...</td>\n",
       "    </tr>\n",
       "    <tr>\n",
       "      <th>3</th>\n",
       "      <td>Also, customers have options to insure against...</td>\n",
       "      <td>Also, customers have options to insure against...</td>\n",
       "    </tr>\n",
       "    <tr>\n",
       "      <th>5</th>\n",
       "      <td>Pakistani singer Rahat Fateh Ali Khan has deni...</td>\n",
       "      <td>Pakistani singer Rahat Fateh Ali Khan has deni...</td>\n",
       "    </tr>\n",
       "    <tr>\n",
       "      <th>7</th>\n",
       "      <td></td>\n",
       "      <td></td>\n",
       "    </tr>\n",
       "    <tr>\n",
       "      <th>8</th>\n",
       "      <td></td>\n",
       "      <td>Andhra Pradesh CM N Chandrababu Naidu has said...</td>\n",
       "    </tr>\n",
       "    <tr>\n",
       "      <th>9</th>\n",
       "      <td>Congress candidate Shafia Zubair won the Ramga...</td>\n",
       "      <td>Congress candidate Shafia Zubair won the Ramga...</td>\n",
       "    </tr>\n",
       "    <tr>\n",
       "      <th>10</th>\n",
       "      <td></td>\n",
       "      <td></td>\n",
       "    </tr>\n",
       "  </tbody>\n",
       "</table>\n",
       "</div>"
      ],
      "text/plain": [
       "                                            summary_1  \\\n",
       "1   Users get one CRED coin per rupee of bill paid...   \n",
       "2   The match witnessed India getting all out for ...   \n",
       "3   Also, customers have options to insure against...   \n",
       "5   Pakistani singer Rahat Fateh Ali Khan has deni...   \n",
       "7                                                       \n",
       "8                                                       \n",
       "9   Congress candidate Shafia Zubair won the Ramga...   \n",
       "10                                                      \n",
       "\n",
       "                                            summary_2  \n",
       "1   Users get one CRED coin per rupee of bill paid...  \n",
       "2   The match witnessed India getting all out for ...  \n",
       "3   Also, customers have options to insure against...  \n",
       "5   Pakistani singer Rahat Fateh Ali Khan has deni...  \n",
       "7                                                      \n",
       "8   Andhra Pradesh CM N Chandrababu Naidu has said...  \n",
       "9   Congress candidate Shafia Zubair won the Ramga...  \n",
       "10                                                     "
      ]
     },
     "execution_count": 472,
     "metadata": {},
     "output_type": "execute_result"
    }
   ],
   "source": [
    "data.loc[:10, ['summary_1', 'summary_2']]"
   ]
  },
  {
   "cell_type": "code",
   "execution_count": null,
   "metadata": {},
   "outputs": [],
   "source": []
  },
  {
   "cell_type": "markdown",
   "metadata": {},
   "source": []
  },
  {
   "cell_type": "markdown",
   "metadata": {},
   "source": []
  }
 ],
 "metadata": {
  "kernelspec": {
   "display_name": "Python 3",
   "language": "python",
   "name": "python3"
  },
  "language_info": {
   "codemirror_mode": {
    "name": "ipython",
    "version": 3
   },
   "file_extension": ".py",
   "mimetype": "text/x-python",
   "name": "python",
   "nbconvert_exporter": "python",
   "pygments_lexer": "ipython3",
   "version": "3.10.12"
  }
 },
 "nbformat": 4,
 "nbformat_minor": 2
}
