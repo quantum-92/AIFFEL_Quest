{
 "cells": [
  {
   "cell_type": "code",
   "execution_count": 16,
   "metadata": {},
   "outputs": [
    {
     "name": "stdout",
     "output_type": "stream",
     "text": [
      "/home/centillion/aiffel/aiffel_study/stock_prediction\n"
     ]
    },
    {
     "ename": "ImportError",
     "evalue": "cannot import name 'load_model_info' from 'stock_pred_model' (/home/centillion/aiffel/aiffel_study/stock_prediction/stock_pred_model.py)",
     "output_type": "error",
     "traceback": [
      "\u001b[0;31m---------------------------------------------------------------------------\u001b[0m",
      "\u001b[0;31mImportError\u001b[0m                               Traceback (most recent call last)",
      "Cell \u001b[0;32mIn[16], line 4\u001b[0m\n\u001b[1;32m      2\u001b[0m \u001b[38;5;28;01mimport\u001b[39;00m \u001b[38;5;21;01mos\u001b[39;00m\n\u001b[1;32m      3\u001b[0m \u001b[38;5;28mprint\u001b[39m(os\u001b[38;5;241m.\u001b[39mgetcwd())\n\u001b[0;32m----> 4\u001b[0m \u001b[38;5;28;01mfrom\u001b[39;00m \u001b[38;5;21;01mstock_pred_model\u001b[39;00m \u001b[38;5;28;01mimport\u001b[39;00m load_model_info, get_similar_images_info_by_date\n",
      "\u001b[0;31mImportError\u001b[0m: cannot import name 'load_model_info' from 'stock_pred_model' (/home/centillion/aiffel/aiffel_study/stock_prediction/stock_pred_model.py)"
     ]
    }
   ],
   "source": [
    "from stock_pred_model import extract_features, load_model_info, get_similar_images_info_by_date"
   ]
  },
  {
   "cell_type": "code",
   "execution_count": 10,
   "metadata": {},
   "outputs": [
    {
     "ename": "AttributeError",
     "evalue": "module 'stock_pred_model' has no attribute 'load_model_info'",
     "output_type": "error",
     "traceback": [
      "\u001b[0;31m---------------------------------------------------------------------------\u001b[0m",
      "\u001b[0;31mAttributeError\u001b[0m                            Traceback (most recent call last)",
      "Cell \u001b[0;32mIn[10], line 1\u001b[0m\n\u001b[0;32m----> 1\u001b[0m model_info \u001b[38;5;241m=\u001b[39m \u001b[43mstock_pred_model\u001b[49m\u001b[38;5;241;43m.\u001b[39;49m\u001b[43mload_model_info\u001b[49m()\n\u001b[1;32m      3\u001b[0m query_date \u001b[38;5;241m=\u001b[39m \u001b[38;5;124m'\u001b[39m\u001b[38;5;124m2022-09-02\u001b[39m\u001b[38;5;124m'\u001b[39m\n\u001b[1;32m      4\u001b[0m feature_list \u001b[38;5;241m=\u001b[39m model_info[\u001b[38;5;124m\"\u001b[39m\u001b[38;5;124mfeature_list\u001b[39m\u001b[38;5;124m\"\u001b[39m]\n",
      "\u001b[0;31mAttributeError\u001b[0m: module 'stock_pred_model' has no attribute 'load_model_info'"
     ]
    }
   ],
   "source": [
    "model_info = stock_pred_model.load_model_info()\n",
    "\n",
    "query_date = '2022-09-02'\n",
    "feature_list = model_info[\"feature_list\"]\n",
    "image_files = model_info[\"image_files\"]\n",
    "labels = model_info[\"labels\"]\n",
    "last_dates = model_info[\"last_dates\"]\n",
    "model = model_info[\"model_info\"]\n",
    "\n",
    "similar_images_info = get_similar_images_info_by_date(query_date, \n",
    "                                    feature_list, \n",
    "                                    image_files, \n",
    "                                    labels, \n",
    "                                    last_dates, \n",
    "                                    model, \n",
    "                                    top_n=5)\n",
    "\n",
    "# 결과 출력 (예시)\n",
    "for img_info in similar_images_info:\n",
    "    print(f\"Filename: {img_info['filename']}, Last Date: {img_info['last_date']}, Label: {img_info['label']}\")\n",
    "\n"
   ]
  },
  {
   "cell_type": "code",
   "execution_count": null,
   "metadata": {},
   "outputs": [],
   "source": []
  }
 ],
 "metadata": {
  "kernelspec": {
   "display_name": "Python 3",
   "language": "python",
   "name": "python3"
  },
  "language_info": {
   "codemirror_mode": {
    "name": "ipython",
    "version": 3
   },
   "file_extension": ".py",
   "mimetype": "text/x-python",
   "name": "python",
   "nbconvert_exporter": "python",
   "pygments_lexer": "ipython3",
   "version": "3.10.12"
  }
 },
 "nbformat": 4,
 "nbformat_minor": 2
}
