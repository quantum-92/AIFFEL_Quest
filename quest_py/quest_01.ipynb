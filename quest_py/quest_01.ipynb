{
  "nbformat": 4,
  "nbformat_minor": 0,
  "metadata": {
    "colab": {
      "provenance": [],
      "authorship_tag": "ABX9TyO/WCoks6gQN8exnmoxfLXu",
      "include_colab_link": true
    },
    "kernelspec": {
      "name": "python3",
      "display_name": "Python 3"
    },
    "language_info": {
      "name": "python"
    }
  },
  "cells": [
    {
      "cell_type": "markdown",
      "metadata": {
        "id": "view-in-github",
        "colab_type": "text"
      },
      "source": [
        "<a href=\"https://colab.research.google.com/github/quantum-92/AIFFEL_Quest/blob/main/quest_py/quest_01.ipynb\" target=\"_parent\"><img src=\"https://colab.research.google.com/assets/colab-badge.svg\" alt=\"Open In Colab\"/></a>"
      ]
    },
    {
      "cell_type": "code",
      "execution_count": 10,
      "metadata": {
        "id": "n0HlJP68FuZj",
        "colab": {
          "base_uri": "https://localhost:8080/"
        },
        "outputId": "684792d6-dd3b-4a99-94f1-bac59623cc26"
      },
      "outputs": [
        {
          "output_type": "stream",
          "name": "stdout",
          "text": [
            "출력 예시\n",
            "===\n",
            "입력값:  \n",
            "오늘의 이름\n",
            "\n",
            "출력값 : \n",
            "뒤집힌 단어는: 름이 의늘오\n",
            "입력된 단어는 회문이 아닙니다.\n"
          ]
        }
      ],
      "source": [
        "# 회문인지 아닌지 확인하는 프로그램\n",
        "\n",
        "# 주어진 텍스트의 뒤집는다.\n",
        "def reverse_text(text):\n",
        "  # 텍스트의 길이를 구한다.\n",
        "  text_len = len(text)\n",
        "\n",
        "  # 텍스트 스트링를 리스트로 변환한다.\n",
        "  # (스트링은 특정 인덱스의 텍스트 업데이트가 안됨)\n",
        "  text_list = list(text)\n",
        "\n",
        "  # 리스트를 뒤집는다.\n",
        "  for i in range(int(text_len / 2)):\n",
        "    text_list[i], text_list[- (i + 1)] = text_list[- (i + 1)], text_list[i]\n",
        "\n",
        "  # 리스트를 다시 스트링으로 변환\n",
        "  reversed_text = \"\"\n",
        "  for c in text_list:\n",
        "      reversed_text += c\n",
        "\n",
        "  return reversed_text\n",
        "\n",
        "\n",
        "print(\"출력 예시\")\n",
        "print(\"=\"*3)\n",
        "text = str(input(('입력값:  \\n')))\n",
        "#text = \"테스트코드\"\n",
        "print(\"\\n출력값 : \")\n",
        "\n",
        "reversed_text = reverse_text(text)\n",
        "\n",
        "print(\"뒤집힌 단어는:\", reversed_text)\n",
        "if text == reversed_text:\n",
        "  print(\"입력된 단어는 회문입니다.\")\n",
        "else:\n",
        "  print(\"입력된 단어는 회문이 아닙니다.\")"
      ]
    }
  ]
}