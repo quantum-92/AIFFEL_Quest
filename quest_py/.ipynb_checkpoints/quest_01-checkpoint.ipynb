{
 "cells": [
  {
   "cell_type": "markdown",
   "metadata": {
    "colab_type": "text",
    "id": "view-in-github"
   },
   "source": [
    "<a href=\"https://colab.research.google.com/github/quantum-92/AIFFEL_Quest/blob/main/quest_py/quest_01.ipynb\" target=\"_parent\"><img src=\"https://colab.research.google.com/assets/colab-badge.svg\" alt=\"Open In Colab\"/></a>"
   ]
  },
  {
   "cell_type": "code",
   "execution_count": 10,
   "metadata": {
    "colab": {
     "base_uri": "https://localhost:8080/"
    },
    "id": "n0HlJP68FuZj",
    "outputId": "684792d6-dd3b-4a99-94f1-bac59623cc26"
   },
   "outputs": [
    {
     "name": "stdout",
     "output_type": "stream",
     "text": [
      "출력 예시\n",
      "===\n",
      "입력값:  \n",
      "오늘의 이름\n",
      "\n",
      "출력값 : \n",
      "뒤집힌 단어는: 름이 의늘오\n",
      "입력된 단어는 회문이 아닙니다.\n"
     ]
    }
   ],
   "source": [
    "# 회문인지 아닌지 확인하는 프로그램\n",
    "\n",
    "# 주어진 텍스트의 뒤집는다.\n",
    "def reverse_text(text):\n",
    "  # 텍스트의 길이를 구한다.\n",
    "  text_len = len(text)\n",
    "\n",
    "  # 텍스트 스트링를 리스트로 변환한다.\n",
    "  # (스트링은 특정 인덱스의 텍스트 업데이트가 안됨)\n",
    "  text_list = list(text)\n",
    "\n",
    "  # 리스트를 뒤집는다.\n",
    "  for i in range(int(text_len / 2)):\n",
    "    text_list[i], text_list[- (i + 1)] = text_list[- (i + 1)], text_list[i]\n",
    "\n",
    "  # 리스트를 다시 스트링으로 변환\n",
    "  reversed_text = \"\"\n",
    "  for c in text_list:\n",
    "      reversed_text += c\n",
    "\n",
    "  return reversed_text\n",
    "\n",
    "\n",
    "print(\"출력 예시\")\n",
    "print(\"=\"*3)\n",
    "text = str(input(('입력값:  \\n')))\n",
    "#text = \"테스트코드\"\n",
    "print(\"\\n출력값 : \")\n",
    "\n",
    "reversed_text = reverse_text(text)\n",
    "\n",
    "print(\"뒤집힌 단어는:\", reversed_text)\n",
    "if text == reversed_text:\n",
    "  print(\"입력된 단어는 회문입니다.\")\n",
    "else:\n",
    "  print(\"입력된 단어는 회문이 아닙니다.\")\n",
    "\n",
    "# KPT\n",
    "# K\n",
    "# P : \n",
    "#  reverse_text함수를 너무 복잡하다.\n",
    "#  코드를 어덯게 작성할지 충분히 고민/상의하지 않고 코딩을 했더니 배가 산으로 간 듯 한다. \n",
    "# T\n",
    "#  문제 이해와 코드 작성방향에 대해서 고민/상의하는 단계를 좀더 길게 가져 갈 것."
   ]
  }
 ],
 "metadata": {
  "colab": {
   "authorship_tag": "ABX9TyO/WCoks6gQN8exnmoxfLXu",
   "include_colab_link": true,
   "provenance": []
  },
  "kernelspec": {
   "display_name": "Python 3 (ipykernel)",
   "language": "python",
   "name": "python3"
  },
  "language_info": {
   "codemirror_mode": {
    "name": "ipython",
    "version": 3
   },
   "file_extension": ".py",
   "mimetype": "text/x-python",
   "name": "python",
   "nbconvert_exporter": "python",
   "pygments_lexer": "ipython3",
   "version": "3.9.7"
  }
 },
 "nbformat": 4,
 "nbformat_minor": 1
}
