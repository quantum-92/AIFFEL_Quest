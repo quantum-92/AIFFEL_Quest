{
  "nbformat": 4,
  "nbformat_minor": 0,
  "metadata": {
    "colab": {
      "provenance": [],
      "include_colab_link": true
    },
    "kernelspec": {
      "name": "python3",
      "display_name": "Python 3"
    },
    "language_info": {
      "name": "python"
    }
  },
  "cells": [
    {
      "cell_type": "markdown",
      "metadata": {
        "id": "view-in-github",
        "colab_type": "text"
      },
      "source": [
        "<a href=\"https://colab.research.google.com/github/quantum-92/AIFFEL_Quest/blob/main/quest02/PythonQuest02_ipynb.ipynb\" target=\"_parent\"><img src=\"https://colab.research.google.com/assets/colab-badge.svg\" alt=\"Open In Colab\"/></a>"
      ]
    },
    {
      "cell_type": "markdown",
      "source": [
        "[파이썬] 퀘스트: 거북이 미로찾기\n",
        "\n",
        "난이도: ★★★☆☆\n",
        "\n",
        "장르: ColabTurtlePlus, 함수, 조건문 활용\n",
        "\n",
        "---\n",
        "\n",
        "다음은 ColabTurtle을 사용하여 미로를 찾는 문제.\n",
        "조건을 확인하여 거북이가 미로를 헤매지 않도록 출구를 찾아주도록 하자.\n",
        "\n",
        "조건 :\n",
        "미로는 5x5의 2차원 리스트로 주어진다.\n",
        "시작 위치는 (0,0)이고 목적지는 (4,4)이다.\n",
        "터틀은 상하좌우로 움직일 수 있다.\n",
        "미로 내에서 갈 수 있는 길은 0으로 표시되어 있다.\n",
        "터틀이 이미 지나간 길은 2로 표시해야한다.\n",
        "거북이가 미로를 찾아 나가면 \"미로를 찾았습니다.\",\n",
        "미로를 찾을 수 없으면 \"미로를 찾을 수 없습니다.\"가 나올 수 있도록 만들어보자!\n",
        "\n",
        "- 주석으로 구현 내용이 써있는 부분을 코드로 채워주세요!!\n",
        "- 코드를 해석해주세요 부분은 코드에 대한 설명을 주석으로 써주세요!!\n",
        "\n",
        "결과물은 다음과 같아야 합니다 :)\n",
        "\n",
        "![image.png](data:image/png;base64,iVBORw0KGgoAAAANSUhEUgAAAGkAAABpCAIAAAC24JptAAACrElEQVR4nO3dP2vqUBzG8dNLUSg46CTZzeauo27OOutLEMRJIQpxyStwFWddXBxEcHMIDiFb3BycEqIiKDikg8Pt9WpaHu6NR3g+S0P+4OHLryFtKH3L5XKCIL+evYAX9n79slwun7uOF5LP568bnDsc2+HYDsd2OLa7ValUKpXKT858/99LeS22bU8mkyAIbNvOZrPhJ3Pu/tBqtS6XSyKRqNfr357Mdr/NZrP5fC6E8H1/tVrNZrPw8+X9nu12u+v1WlXVu0cdxxFC/Nuj/X7/dDpdtw+HQ7PZtCwrZIXyzt16vd5ut5F9nGVZ+/3+657NZjMcDkMukXfuVFVVVbXT6UTzcel0+nw+f92z2+3a7Xa1Wn10ibxzFyXDMI7H43U7Foslk8nrtu/7hmE8uorthOu6mqYFQSCEqNVq0+l0PB6Xy2UhRBAEmqa5rnv3QrYTpmnG4/Fer+d53mAwKBaLhUJhNBp5ntdoND4+PkzTvHuhvPe7yJRKpcPh8Pf+VCql67qu648u5Nzh2A7Hdjh573fXp3+Zce5w8s7do59G5cG5w7Edju1wbIdjOxzb4dgOJ+/zneM4Ib9zdxwnk8l0u90ol3RD3naZTCbkaJSvMh6Rt91zZ+oneL/DsR2O7XBsh2M7HNvh2A4n7/NdOBneZnDucK86dzK8zeDc4dgOx3Y4tsOxHY7tcGyHk/f5LvzvKxaLhaIoES/pxqvOnaIo4S80IiD13D17Cd941bmTAdvh2A7Hdji2w7Edju1wbIdjOxzb4dgOx3Y4tsOxHY7tcGyHYzsc2+HYDsd2OLbDsR2O7XBsh2M7HNvh2A7Hdji2w7Edju1wbIdjOxzb4dgOx3Y4tsOxHY7tcGyHYzsc2+HYDsd2OLbDsR2O7XBsh3vj/3mHce5wbIf7BCpkq4fB2TGFAAAAAElFTkSuQmCC)"
      ],
      "metadata": {
        "id": "rcY0QgqgHWur"
      }
    },
    {
      "cell_type": "code",
      "source": [
        "# !pip install ColabTurtlePlus # ColabTurtle 라이브러리 설치\n",
        "from ColabTurtlePlus.Turtle import * # ColabTurtle 라이브러리에서 Turtle 클래스를 import\n",
        "\n",
        "\n",
        "# 미로 데이터\n",
        "maze = [\n",
        "    [0, 1, 0, 0, 0],\n",
        "    [0, 0, 0, 1, 0],\n",
        "    [0, 1, 1, 0, 0],\n",
        "    [0, 0, 1, 1, 0],\n",
        "    [0, 0, 0, 0, 0]\n",
        "]\n",
        "\n",
        "# 시작 위치와 목적지 위치\n",
        "start_x, start_y = 0, 0\n",
        "end_x, end_y = 4, 4\n",
        "\n",
        "# 터틀 초기 설정\n",
        "window = (100, 100)\n",
        "initializeTurtle(window, 'logo')\n",
        "speed(1)\n",
        "\n",
        "# 미로 찾기 알고리즘\n",
        "def solve_maze(x, y):\n",
        "    # 목적지에 도착한 경우(조건문)\n",
        "    if x == end_x and y == end_y:\n",
        "\n",
        "      # \"미로를 찾았습니다\" 라는 문장을 출력하고\n",
        "      print(\"미로를 찾았습니다.\")\n",
        "\n",
        "      # True를 반환한다.\n",
        "      return(True)\n",
        "\n",
        "    # 현재 위치에서 갈 수 있는 방향 탐색\n",
        "    for dx, dy in [(0, 1), (1, 0), (0, -1), (-1, 0)]:\n",
        "        nx, ny = x + dx, y + dy\n",
        "\n",
        "        # 미로 범위(0,0 ~ 4,4) 내에 있고, 갈 수 있는 길인 경우\n",
        "        if nx >= 0 and nx <= 4 \\\n",
        "          and ny >= 0 and ny <= 4 \\\n",
        "          and maze[nx][ny] == 0:\n",
        "\n",
        "            # 갔던 길 표시\n",
        "            maze[x][y] = 2\n",
        "\n",
        "            pendown()\n",
        "            # 다음 위치로 이동\n",
        "            goto(nx*10, ny*10)  # 거북이 다음 위치로 이동\n",
        "\n",
        "            penup()\n",
        "\n",
        "            # 움직일 수 있는 새로운 위치(nx, ny)에 대해서\n",
        "            # 미로 찾기(solve_maze)를 실행한다.\n",
        "            # (최종적으로 미로찾기에 성공하면 solve_maze가 계속 True를 return할 것이다.)\n",
        "            #\n",
        "            # 미로 찾기를 성공 했으면 True를 리턴하고\n",
        "            # 실패 했으면 현 위치를 이동가능 경로로 표시하고\n",
        "            # 아직 시도하지 않은 상하좌우 중 하나의 위치를 다시 시도해 본다.\n",
        "            if solve_maze(nx, ny):\n",
        "                return True\n",
        "            else:\n",
        "                # 다시 이전으로 돌아가기\n",
        "\n",
        "                # 표시된 길 0표시(지우기)\n",
        "                maze[x][y] = 0\n",
        "\n",
        "    # 길을 찾지 못한 경우\n",
        "    # \"길을 찾을 수 없습니다\"를 출력하고\n",
        "    # False를 리턴\n",
        "    print(\"길을 찾을 수 없습니다\")\n",
        "    return False\n",
        "\n",
        "# 시작 위치에서 미로 찾기 시작\n",
        "goto(start_x, start_y)\n",
        "solve_maze(start_x, start_y)\n",
        "import pprint\n",
        "pprint.pprint(maze)"
      ],
      "metadata": {
        "id": "2j2x3thdGexU",
        "outputId": "d3b7116a-4917-4078-be7c-2de2fd203fa0",
        "colab": {
          "base_uri": "https://localhost:8080/",
          "height": 409
        }
      },
      "execution_count": null,
      "outputs": [
        {
          "output_type": "error",
          "ename": "ModuleNotFoundError",
          "evalue": "ignored",
          "traceback": [
            "\u001b[0;31m---------------------------------------------------------------------------\u001b[0m",
            "\u001b[0;31mModuleNotFoundError\u001b[0m                       Traceback (most recent call last)",
            "\u001b[0;32m<ipython-input-11-5f1dde2ea987>\u001b[0m in \u001b[0;36m<cell line: 2>\u001b[0;34m()\u001b[0m\n\u001b[1;32m      1\u001b[0m \u001b[0;31m# !pip install ColabTurtlePlus # ColabTurtle 라이브러리 설치\u001b[0m\u001b[0;34m\u001b[0m\u001b[0;34m\u001b[0m\u001b[0m\n\u001b[0;32m----> 2\u001b[0;31m \u001b[0;32mfrom\u001b[0m \u001b[0mColabTurtlePlus\u001b[0m\u001b[0;34m.\u001b[0m\u001b[0mTurtle\u001b[0m \u001b[0;32mimport\u001b[0m \u001b[0;34m*\u001b[0m \u001b[0;31m# ColabTurtle 라이브러리에서 Turtle 클래스를 import\u001b[0m\u001b[0;34m\u001b[0m\u001b[0;34m\u001b[0m\u001b[0m\n\u001b[0m\u001b[1;32m      3\u001b[0m \u001b[0;34m\u001b[0m\u001b[0m\n\u001b[1;32m      4\u001b[0m \u001b[0;34m\u001b[0m\u001b[0m\n\u001b[1;32m      5\u001b[0m \u001b[0;31m# 미로 데이터\u001b[0m\u001b[0;34m\u001b[0m\u001b[0;34m\u001b[0m\u001b[0m\n",
            "\u001b[0;31mModuleNotFoundError\u001b[0m: No module named 'ColabTurtlePlus'",
            "",
            "\u001b[0;31m---------------------------------------------------------------------------\u001b[0;32m\nNOTE: If your import is failing due to a missing package, you can\nmanually install dependencies using either !pip or !apt.\n\nTo view examples of installing some common dependencies, click the\n\"Open Examples\" button below.\n\u001b[0;31m---------------------------------------------------------------------------\u001b[0m\n"
          ],
          "errorDetails": {
            "actions": [
              {
                "action": "open_url",
                "actionText": "Open Examples",
                "url": "/notebooks/snippets/importing_libraries.ipynb"
              }
            ]
          }
        }
      ]
    },
    {
      "cell_type": "code",
      "source": [
        "# !pip install ColabTurtlePlus # ColabTurtle 라이브러리 설치\n",
        "#from ColabTurtlePlus.Turtle import *  # ColabTurtle 라이브러리에서 Turtle 클래스를 import\n",
        "\n",
        "\n",
        "# 미로 데이터\n",
        "maze = [\n",
        "    [0, 1, 0, 0, 0],\n",
        "    [0, 0, 0, 1, 0],\n",
        "    [0, 1, 1, 0, 0],\n",
        "    [0, 0, 1, 1, 0],\n",
        "    [0, 0, 0, 0, 0]\n",
        "]\n",
        "\n",
        "# 시작 위치와 목적지 위치\n",
        "start_x, start_y = 0, 0\n",
        "end_x, end_y = 4, 4\n",
        "\n",
        "# 터틀 초기 설정\n",
        "window = (100, 100)\n",
        "initializeTurtle(window, 'logo')\n",
        "speed(1)"
      ],
      "metadata": {
        "id": "yxSAmwr-Zq7z",
        "colab": {
          "base_uri": "https://localhost:8080/",
          "height": 241
        },
        "outputId": "2e7fe0c2-d923-4582-ced7-0da54dc6436b"
      },
      "execution_count": null,
      "outputs": [
        {
          "output_type": "error",
          "ename": "NameError",
          "evalue": "ignored",
          "traceback": [
            "\u001b[0;31m---------------------------------------------------------------------------\u001b[0m",
            "\u001b[0;31mNameError\u001b[0m                                 Traceback (most recent call last)",
            "\u001b[0;32m<ipython-input-4-9d5750423bf1>\u001b[0m in \u001b[0;36m<cell line: 20>\u001b[0;34m()\u001b[0m\n\u001b[1;32m     18\u001b[0m \u001b[0;31m# 터틀 초기 설정\u001b[0m\u001b[0;34m\u001b[0m\u001b[0;34m\u001b[0m\u001b[0m\n\u001b[1;32m     19\u001b[0m \u001b[0mwindow\u001b[0m \u001b[0;34m=\u001b[0m \u001b[0;34m(\u001b[0m\u001b[0;36m100\u001b[0m\u001b[0;34m,\u001b[0m \u001b[0;36m100\u001b[0m\u001b[0;34m)\u001b[0m\u001b[0;34m\u001b[0m\u001b[0;34m\u001b[0m\u001b[0m\n\u001b[0;32m---> 20\u001b[0;31m \u001b[0minitializeTurtle\u001b[0m\u001b[0;34m(\u001b[0m\u001b[0mwindow\u001b[0m\u001b[0;34m,\u001b[0m \u001b[0;34m'logo'\u001b[0m\u001b[0;34m)\u001b[0m\u001b[0;34m\u001b[0m\u001b[0;34m\u001b[0m\u001b[0m\n\u001b[0m\u001b[1;32m     21\u001b[0m \u001b[0mspeed\u001b[0m\u001b[0;34m(\u001b[0m\u001b[0;36m1\u001b[0m\u001b[0;34m)\u001b[0m\u001b[0;34m\u001b[0m\u001b[0;34m\u001b[0m\u001b[0m\n",
            "\u001b[0;31mNameError\u001b[0m: name 'initializeTurtle' is not defined"
          ]
        }
      ]
    },
    {
      "cell_type": "code",
      "source": [
        "!pip install ColabTurtlePlus"
      ],
      "metadata": {
        "id": "h8BXvsV0Z8Hf",
        "colab": {
          "base_uri": "https://localhost:8080/"
        },
        "outputId": "6aaa3841-d7e8-46eb-c29e-02f6fda3d743"
      },
      "execution_count": null,
      "outputs": [
        {
          "output_type": "stream",
          "name": "stdout",
          "text": [
            "Collecting ColabTurtlePlus\n",
            "  Downloading ColabTurtlePlus-2.0.1-py3-none-any.whl (31 kB)\n",
            "Installing collected packages: ColabTurtlePlus\n",
            "Successfully installed ColabTurtlePlus-2.0.1\n"
          ]
        }
      ]
    }
  ]
}