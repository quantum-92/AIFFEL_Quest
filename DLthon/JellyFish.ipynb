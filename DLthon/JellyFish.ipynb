{
 "cells": [
  {
   "cell_type": "code",
   "execution_count": 5,
   "id": "e23832eb",
   "metadata": {},
   "outputs": [
    {
     "name": "stdout",
     "output_type": "stream",
     "text": [
      "Number of '.jpg' or '.jpeg' files: 1870\n"
     ]
    }
   ],
   "source": [
    "import os\n",
    "\n",
    "def count_files_with_multiple_extensions(root_directory, extensions):\n",
    "    \"\"\"\n",
    "    Counts the number of files with specified extensions in a directory, including its subdirectories.\n",
    "    This function is case-insensitive for extensions.\n",
    "\n",
    "    :param root_directory: The root directory to start the search from.\n",
    "    :param extensions: A list of file extensions to look for.\n",
    "    :return: The count of files with the specified extensions.\n",
    "    \"\"\"\n",
    "    count = 0\n",
    "    for root, dirs, files in os.walk(root_directory):\n",
    "        for file in files:\n",
    "            if any(file.lower().endswith(ext.lower()) for ext in extensions):\n",
    "                count += 1\n",
    "    return count\n",
    "\n",
    "# Example usage:\n",
    "count = count_files_with_multiple_extensions('/aiffel/aiffel/jellyfish', ['.jpg', '.jpeg'])\n",
    "print(f\"Number of '.jpg' or '.jpeg' files: {count}\")\n",
    "\n",
    "# Please replace '/path/to/directory' with your specific directory.\n"
   ]
  },
  {
   "cell_type": "code",
   "execution_count": 6,
   "id": "25af5c2e",
   "metadata": {},
   "outputs": [],
   "source": [
    "import os\n",
    "\n",
    "def count_jpg_jpeg_files_with_and_without_dash(root_directory):\n",
    "    \"\"\"\n",
    "    Counts the number of '.jpg' and '.jpeg' files with and without a dash in their names in a directory,\n",
    "    including its subdirectories. This function is case-insensitive for file extensions.\n",
    "\n",
    "    :param root_directory: The root directory to start the search from.\n",
    "    :return: A dictionary with counts of '.jpg' and '.jpeg' files with and without dashes in each subdirectory.\n",
    "    \"\"\"\n",
    "    counts = {}\n",
    "    for root, dirs, files in os.walk(root_directory):\n",
    "        count_with_dash = 0\n",
    "        count_without_dash = 0\n",
    "        for file in files:\n",
    "            if file.lower().endswith(('.jpg', '.jpeg')):\n",
    "                if '-' in file:\n",
    "                    count_with_dash += 1\n",
    "                else:\n",
    "                    count_without_dash += 1\n",
    "        counts[root] = {'with_dash': count_with_dash, 'without_dash': count_without_dash}\n",
    "    return counts\n",
    "\n",
    "# Example usage:\n",
    "root_directory = '/aiffel/aiffel/jellyfish'\n",
    "jpg_jpeg_counts = count_jpg_jpeg_files_with_and_without_dash(root_directory)\n"
   ]
  },
  {
   "cell_type": "code",
   "execution_count": 7,
   "id": "af5f4435",
   "metadata": {},
   "outputs": [
    {
     "data": {
      "text/plain": [
       "{'/aiffel/aiffel/jellyfish': {'with_dash': 0, 'without_dash': 0},\n",
       " '/aiffel/aiffel/jellyfish/Train_Test_Valid': {'with_dash': 0,\n",
       "  'without_dash': 0},\n",
       " '/aiffel/aiffel/jellyfish/Train_Test_Valid/test': {'with_dash': 0,\n",
       "  'without_dash': 0},\n",
       " '/aiffel/aiffel/jellyfish/Train_Test_Valid/test/mauve_stinger_jellyfish': {'with_dash': 0,\n",
       "  'without_dash': 7},\n",
       " '/aiffel/aiffel/jellyfish/Train_Test_Valid/test/lions_mane_jellyfish': {'with_dash': 0,\n",
       "  'without_dash': 8},\n",
       " '/aiffel/aiffel/jellyfish/Train_Test_Valid/test/blue_jellyfish': {'with_dash': 0,\n",
       "  'without_dash': 7},\n",
       " '/aiffel/aiffel/jellyfish/Train_Test_Valid/test/compass_jellyfish': {'with_dash': 0,\n",
       "  'without_dash': 6},\n",
       " '/aiffel/aiffel/jellyfish/Train_Test_Valid/test/Moon_jellyfish': {'with_dash': 0,\n",
       "  'without_dash': 6},\n",
       " '/aiffel/aiffel/jellyfish/Train_Test_Valid/test/barrel_jellyfish': {'with_dash': 0,\n",
       "  'without_dash': 5},\n",
       " '/aiffel/aiffel/jellyfish/Train_Test_Valid/Train': {'with_dash': 0,\n",
       "  'without_dash': 0},\n",
       " '/aiffel/aiffel/jellyfish/Train_Test_Valid/Train/mauve_stinger_jellyfish': {'with_dash': 92,\n",
       "  'without_dash': 58},\n",
       " '/aiffel/aiffel/jellyfish/Train_Test_Valid/Train/lions_mane_jellyfish': {'with_dash': 88,\n",
       "  'without_dash': 60},\n",
       " '/aiffel/aiffel/jellyfish/Train_Test_Valid/Train/blue_jellyfish': {'with_dash': 94,\n",
       "  'without_dash': 54},\n",
       " '/aiffel/aiffel/jellyfish/Train_Test_Valid/Train/compass_jellyfish': {'with_dash': 93,\n",
       "  'without_dash': 57},\n",
       " '/aiffel/aiffel/jellyfish/Train_Test_Valid/Train/Moon_jellyfish': {'with_dash': 103,\n",
       "  'without_dash': 47},\n",
       " '/aiffel/aiffel/jellyfish/Train_Test_Valid/Train/barrel_jellyfish': {'with_dash': 109,\n",
       "  'without_dash': 41},\n",
       " '/aiffel/aiffel/jellyfish/Train_Test_Valid/valid': {'with_dash': 0,\n",
       "  'without_dash': 0},\n",
       " '/aiffel/aiffel/jellyfish/Train_Test_Valid/valid/mauve_stinger_jellyfish': {'with_dash': 0,\n",
       "  'without_dash': 7},\n",
       " '/aiffel/aiffel/jellyfish/Train_Test_Valid/valid/lions_mane_jellyfish': {'with_dash': 0,\n",
       "  'without_dash': 7},\n",
       " '/aiffel/aiffel/jellyfish/Train_Test_Valid/valid/blue_jellyfish': {'with_dash': 0,\n",
       "  'without_dash': 7},\n",
       " '/aiffel/aiffel/jellyfish/Train_Test_Valid/valid/compass_jellyfish': {'with_dash': 0,\n",
       "  'without_dash': 7},\n",
       " '/aiffel/aiffel/jellyfish/Train_Test_Valid/valid/Moon_jellyfish': {'with_dash': 0,\n",
       "  'without_dash': 6},\n",
       " '/aiffel/aiffel/jellyfish/Train_Test_Valid/valid/barrel_jellyfish': {'with_dash': 0,\n",
       "  'without_dash': 5},\n",
       " '/aiffel/aiffel/jellyfish/mauve_stinger_jellyfish': {'with_dash': 92,\n",
       "  'without_dash': 58},\n",
       " '/aiffel/aiffel/jellyfish/lions_mane_jellyfish': {'with_dash': 88,\n",
       "  'without_dash': 60},\n",
       " '/aiffel/aiffel/jellyfish/blue_jellyfish': {'with_dash': 94,\n",
       "  'without_dash': 54},\n",
       " '/aiffel/aiffel/jellyfish/compass_jellyfish': {'with_dash': 93,\n",
       "  'without_dash': 57},\n",
       " '/aiffel/aiffel/jellyfish/Moon_jellyfish': {'with_dash': 103,\n",
       "  'without_dash': 47},\n",
       " '/aiffel/aiffel/jellyfish/barrel_jellyfish': {'with_dash': 109,\n",
       "  'without_dash': 41}}"
      ]
     },
     "execution_count": 7,
     "metadata": {},
     "output_type": "execute_result"
    }
   ],
   "source": [
    "jpg_jpeg_counts"
   ]
  },
  {
   "cell_type": "code",
   "execution_count": null,
   "id": "082ad8e3",
   "metadata": {},
   "outputs": [],
   "source": []
  }
 ],
 "metadata": {
  "kernelspec": {
   "display_name": "Python 3 (ipykernel)",
   "language": "python",
   "name": "python3"
  },
  "language_info": {
   "codemirror_mode": {
    "name": "ipython",
    "version": 3
   },
   "file_extension": ".py",
   "mimetype": "text/x-python",
   "name": "python",
   "nbconvert_exporter": "python",
   "pygments_lexer": "ipython3",
   "version": "3.9.7"
  }
 },
 "nbformat": 4,
 "nbformat_minor": 5
}
